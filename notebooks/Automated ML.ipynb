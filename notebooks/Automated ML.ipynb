{
 "cells": [
  {
   "cell_type": "markdown",
   "metadata": {
    "colab_type": "text",
    "id": "tACqR8FDN7rU"
   },
   "source": [
    "## Automated ML"
   ]
  },
  {
   "cell_type": "markdown",
   "metadata": {
    "colab_type": "text",
    "id": "jsQQwaNqN7rX"
   },
   "source": [
    "### 全体の流れ\n",
    "1. モジュールのインポート  \n",
    "2. 定数の設定  \n",
    "3. データセットの読み込み  \n",
    "4. EDA(データを知る)  \n",
    "    欠損値の確認  \n",
    "    各データのタイプ確認  \n",
    "5. 学習用データセットの作成  \n",
    "    5-1. ohe-encoding  \n",
    "    5-2. 欠損値補完  \n",
    "    5-3. 次元圧縮、特徴量選択  \n",
    "    (5-4. 不均衡データへの対応)  \n",
    "6. Pipelineの設定  \n",
    "    6-1. Pipelineの定義  \n",
    "    6-2. Grid Search用のパラメータ定義  \n",
    "7. 学習  \n",
    "8. モデル選定  \n",
    "9. 全データを使った学習  \n",
    "10. スコアリング用のデータ作成  \n",
    "    10-1. スコアリング用のデータの読み出し  \n",
    "    10-2. one-hot-encoding処理  \n",
    "    10-3. one-hot encoding後のデータ整合チェック  \n",
    "    10-4. one-hot-encoding後のデータ不整合の解消  \n",
    "    10-5. データ項目の並び順の担保  \n",
    "    10-6. 欠損値処理  \n",
    "    10-7. 次元圧縮、特徴量選択\n",
    "11. 推論  \n",
    "12. 提出用データ(CSVファイル）の作成  "
   ]
  },
  {
   "cell_type": "markdown",
   "metadata": {
    "colab_type": "text",
    "id": "1qiwgNd0N7rX"
   },
   "source": [
    "<未実装>\n",
    "- カテゴリ変数の自動判別 -> 手動で設定\n",
    "- 推論対象データの自動判別 -> 手動で設定\n",
    "- 訓練データ/テストデータの自動判別 -> 手動で設定"
   ]
  },
  {
   "cell_type": "markdown",
   "metadata": {
    "colab_type": "text",
    "id": "Ti_ifKasN7rY"
   },
   "source": [
    "### 1. モジュール類のインポート"
   ]
  },
  {
   "cell_type": "code",
   "execution_count": 3,
   "metadata": {
    "colab": {},
    "colab_type": "code",
    "id": "w5xbE1v6N7rZ"
   },
   "outputs": [],
   "source": [
    "# データ解析のライブラリ\n",
    "import numpy as np\n",
    "import pandas as pd\n",
    "import os\n",
    "import pickle\n",
    "import time\n",
    "\n",
    "# 評価手法\n",
    "from sklearn.metrics import accuracy_score\n",
    "from sklearn.model_selection import train_test_split\n",
    "from sklearn.model_selection import cross_val_score, GridSearchCV\n",
    "from sklearn.preprocessing import StandardScaler\n",
    "from sklearn.pipeline import Pipeline\n",
    "\n",
    "# 欠損値補完\n",
    "from sklearn.impute import SimpleImputer\n",
    "\n",
    "# 次元圧縮\n",
    "from sklearn.feature_selection import RFE\n",
    "\n",
    "# 学習手法\n",
    "from sklearn.neighbors import KNeighborsClassifier\n",
    "from sklearn.linear_model import LogisticRegression\n",
    "from sklearn.ensemble import RandomForestClassifier\n",
    "from sklearn.tree import DecisionTreeClassifier\n",
    "from sklearn.svm import SVC, LinearSVC\n",
    "from sklearn.ensemble import GradientBoostingClassifier\n",
    "from sklearn.neural_network import MLPClassifier\n",
    "import xgboost as xgb\n",
    "import lightgbm as lgb\n",
    "\n",
    " # 指標の選択\n",
    "from ipywidgets import interact,interactive,fixed,interact_manual\n",
    "from IPython.display import display\n",
    "import ipywidgets as widgets"
   ]
  },
  {
   "cell_type": "code",
   "execution_count": 4,
   "metadata": {
    "colab": {},
    "colab_type": "code",
    "id": "BVu5y6sVN7rd"
   },
   "outputs": [],
   "source": [
    "# 表示オプションの変更\n",
    "pd.options.display.max_columns = 50"
   ]
  },
  {
   "cell_type": "markdown",
   "metadata": {
    "colab_type": "text",
    "id": "rpdUIlZsN7rj"
   },
   "source": [
    "### 2. 定数の設定"
   ]
  },
  {
   "cell_type": "markdown",
   "metadata": {
    "colab_type": "text",
    "id": "d1KNVfg1N7rn"
   },
   "source": [
    "データセットの指定"
   ]
  },
  {
   "cell_type": "code",
   "execution_count": 5,
   "metadata": {
    "colab": {},
    "colab_type": "code",
    "id": "RvjoAKvDN7ro"
   },
   "outputs": [],
   "source": [
    "# ダミーファイル（事前動作確認用）\n",
    "train_file = '../data/final_hr_analysis_train.csv'\n",
    "test_file = '../data/final_hr_analysis_test.csv'"
   ]
  },
  {
   "cell_type": "markdown",
   "metadata": {},
   "source": [
    "提出ファイル"
   ]
  },
  {
   "cell_type": "code",
   "execution_count": 6,
   "metadata": {
    "colab": {},
    "colab_type": "code",
    "id": "8IYTa5-OJJSN"
   },
   "outputs": [],
   "source": [
    "submit_file_dir = '../submit/'\n",
    "submit_file_name = 'submit.csv'"
   ]
  },
  {
   "cell_type": "markdown",
   "metadata": {
    "colab_type": "text",
    "id": "eTloCHBHJJR4"
   },
   "source": [
    "提出ファイル作成時のIDのカラム"
   ]
  },
  {
   "cell_type": "code",
   "execution_count": 7,
   "metadata": {
    "colab": {},
    "colab_type": "code",
    "id": "F44UbPTmJJR5"
   },
   "outputs": [],
   "source": [
    "ID_column = 'index'"
   ]
  },
  {
   "cell_type": "markdown",
   "metadata": {
    "colab_type": "text",
    "id": "ghYmdLqbN7rj"
   },
   "source": [
    "教師データ（推論の対象データ）の設定"
   ]
  },
  {
   "cell_type": "code",
   "execution_count": 8,
   "metadata": {
    "colab": {},
    "colab_type": "code",
    "id": "VxdAf4qwN7rk"
   },
   "outputs": [],
   "source": [
    "target_value = 'left'"
   ]
  },
  {
   "cell_type": "markdown",
   "metadata": {
    "colab_type": "text",
    "id": "MIhttQx9N7rr"
   },
   "source": [
    "データセットに関する設定（カテゴリ変数）"
   ]
  },
  {
   "cell_type": "code",
   "execution_count": 15,
   "metadata": {
    "colab": {},
    "colab_type": "code",
    "id": "frtpNASLN7rr"
   },
   "outputs": [],
   "source": [
    "# カテゴリ変数をリストで設定\n",
    "ohe_columns = ['sales', 'salary',]\n",
    "\n",
    "# 設定したカテゴリリストをkeyに、valueはobjectを設定する(リストから辞書を作成)\n",
    "my_dtype = {k: object  for k in ohe_columns}"
   ]
  },
  {
   "cell_type": "code",
   "execution_count": 16,
   "metadata": {
    "colab": {
     "base_uri": "https://localhost:8080/",
     "height": 34
    },
    "colab_type": "code",
    "executionInfo": {
     "elapsed": 635,
     "status": "ok",
     "timestamp": 1590450535174,
     "user": {
      "displayName": "田淵大将",
      "photoUrl": "https://lh3.googleusercontent.com/a-/AOh14Gg7LuHKhSXdI-c0NZpBaTv-L0d2aHFhtAD_-dB3rpw=s64",
      "userId": "01937725829077514098"
     },
     "user_tz": -540
    },
    "id": "r6AC7R8LN7ru",
    "outputId": "5048316e-87d0-4e31-ea75-78f9c7c2e4b4",
    "scrolled": true
   },
   "outputs": [
    {
     "name": "stdout",
     "output_type": "stream",
     "text": [
      "{'sales': <class 'object'>, 'salary': <class 'object'>}\n"
     ]
    }
   ],
   "source": [
    "print(my_dtype)"
   ]
  },
  {
   "cell_type": "markdown",
   "metadata": {
    "colab_type": "text",
    "id": "nWNe5q9gN7r2"
   },
   "source": [
    "訓練データ/テストデータから除外するカラムリスト"
   ]
  },
  {
   "cell_type": "code",
   "execution_count": 17,
   "metadata": {
    "colab": {},
    "colab_type": "code",
    "id": "YiZ4JLF4N7r3"
   },
   "outputs": [],
   "source": [
    "# 除外リスト\n",
    "score_reject_items =[ID_column]\n",
    "train_reject_items = score_reject_items + [target_value]"
   ]
  },
  {
   "cell_type": "markdown",
   "metadata": {
    "colab_type": "text",
    "id": "Wwq9whOlN7r9"
   },
   "source": [
    "### 3. データセットの読み込み"
   ]
  },
  {
   "cell_type": "code",
   "execution_count": 18,
   "metadata": {
    "colab": {
     "base_uri": "https://localhost:8080/",
     "height": 447
    },
    "colab_type": "code",
    "executionInfo": {
     "elapsed": 4382,
     "status": "error",
     "timestamp": 1590450568299,
     "user": {
      "displayName": "田淵大将",
      "photoUrl": "https://lh3.googleusercontent.com/a-/AOh14Gg7LuHKhSXdI-c0NZpBaTv-L0d2aHFhtAD_-dB3rpw=s64",
      "userId": "01937725829077514098"
     },
     "user_tz": -540
    },
    "id": "HGMhOdczN7r9",
    "outputId": "be1ed031-97aa-4bcd-aedc-a5351416e4b2"
   },
   "outputs": [
    {
     "name": "stdout",
     "output_type": "stream",
     "text": [
      "----------------------------------------------------------------\n",
      "X shape: (10499,9)\n",
      "----------------------------------------------------------------\n",
      "y shape: (10499,)\n",
      "----------------------------------------------------------------\n",
      "0    7966\n",
      "1    2533\n",
      "Name: left, dtype: int64\n",
      "left（1：退職、0：非退職の正解ラベル）\n",
      "----------------------------------------------------------------\n",
      "\n",
      "dataset:csvファイル生データ\n"
     ]
    },
    {
     "data": {
      "text/html": [
       "<div>\n",
       "<style scoped>\n",
       "    .dataframe tbody tr th:only-of-type {\n",
       "        vertical-align: middle;\n",
       "    }\n",
       "\n",
       "    .dataframe tbody tr th {\n",
       "        vertical-align: top;\n",
       "    }\n",
       "\n",
       "    .dataframe thead th {\n",
       "        text-align: right;\n",
       "    }\n",
       "</style>\n",
       "<table border=\"1\" class=\"dataframe\">\n",
       "  <thead>\n",
       "    <tr style=\"text-align: right;\">\n",
       "      <th></th>\n",
       "      <th>index</th>\n",
       "      <th>left</th>\n",
       "      <th>satisfaction_level</th>\n",
       "      <th>last_evaluation</th>\n",
       "      <th>number_project</th>\n",
       "      <th>average_montly_hours</th>\n",
       "      <th>time_spend_company</th>\n",
       "      <th>Work_accident</th>\n",
       "      <th>promotion_last_5years</th>\n",
       "      <th>sales</th>\n",
       "      <th>salary</th>\n",
       "    </tr>\n",
       "  </thead>\n",
       "  <tbody>\n",
       "    <tr>\n",
       "      <th>0</th>\n",
       "      <td>10438</td>\n",
       "      <td>0</td>\n",
       "      <td>0.53</td>\n",
       "      <td>0.52</td>\n",
       "      <td>2</td>\n",
       "      <td>135</td>\n",
       "      <td>4</td>\n",
       "      <td>0</td>\n",
       "      <td>0</td>\n",
       "      <td>technical</td>\n",
       "      <td>medium</td>\n",
       "    </tr>\n",
       "    <tr>\n",
       "      <th>1</th>\n",
       "      <td>9236</td>\n",
       "      <td>0</td>\n",
       "      <td>0.77</td>\n",
       "      <td>0.53</td>\n",
       "      <td>5</td>\n",
       "      <td>256</td>\n",
       "      <td>3</td>\n",
       "      <td>0</td>\n",
       "      <td>0</td>\n",
       "      <td>accounting</td>\n",
       "      <td>medium</td>\n",
       "    </tr>\n",
       "    <tr>\n",
       "      <th>2</th>\n",
       "      <td>818</td>\n",
       "      <td>1</td>\n",
       "      <td>0.89</td>\n",
       "      <td>0.79</td>\n",
       "      <td>3</td>\n",
       "      <td>149</td>\n",
       "      <td>2</td>\n",
       "      <td>0</td>\n",
       "      <td>0</td>\n",
       "      <td>support</td>\n",
       "      <td>medium</td>\n",
       "    </tr>\n",
       "    <tr>\n",
       "      <th>3</th>\n",
       "      <td>11503</td>\n",
       "      <td>0</td>\n",
       "      <td>0.64</td>\n",
       "      <td>0.63</td>\n",
       "      <td>3</td>\n",
       "      <td>156</td>\n",
       "      <td>6</td>\n",
       "      <td>1</td>\n",
       "      <td>0</td>\n",
       "      <td>support</td>\n",
       "      <td>low</td>\n",
       "    </tr>\n",
       "    <tr>\n",
       "      <th>4</th>\n",
       "      <td>11721</td>\n",
       "      <td>0</td>\n",
       "      <td>0.98</td>\n",
       "      <td>0.74</td>\n",
       "      <td>4</td>\n",
       "      <td>151</td>\n",
       "      <td>3</td>\n",
       "      <td>0</td>\n",
       "      <td>0</td>\n",
       "      <td>sales</td>\n",
       "      <td>medium</td>\n",
       "    </tr>\n",
       "  </tbody>\n",
       "</table>\n",
       "</div>"
      ],
      "text/plain": [
       "   index  left  satisfaction_level  last_evaluation  number_project  \\\n",
       "0  10438     0                0.53             0.52               2   \n",
       "1   9236     0                0.77             0.53               5   \n",
       "2    818     1                0.89             0.79               3   \n",
       "3  11503     0                0.64             0.63               3   \n",
       "4  11721     0                0.98             0.74               4   \n",
       "\n",
       "   average_montly_hours  time_spend_company  Work_accident  \\\n",
       "0                   135                   4              0   \n",
       "1                   256                   3              0   \n",
       "2                   149                   2              0   \n",
       "3                   156                   6              1   \n",
       "4                   151                   3              0   \n",
       "\n",
       "   promotion_last_5years       sales  salary  \n",
       "0                      0   technical  medium  \n",
       "1                      0  accounting  medium  \n",
       "2                      0     support  medium  \n",
       "3                      0     support     low  \n",
       "4                      0       sales  medium  "
      ]
     },
     "metadata": {},
     "output_type": "display_data"
    },
    {
     "name": "stdout",
     "output_type": "stream",
     "text": [
      "X:訓練データセット\n"
     ]
    },
    {
     "data": {
      "text/html": [
       "<div>\n",
       "<style scoped>\n",
       "    .dataframe tbody tr th:only-of-type {\n",
       "        vertical-align: middle;\n",
       "    }\n",
       "\n",
       "    .dataframe tbody tr th {\n",
       "        vertical-align: top;\n",
       "    }\n",
       "\n",
       "    .dataframe thead th {\n",
       "        text-align: right;\n",
       "    }\n",
       "</style>\n",
       "<table border=\"1\" class=\"dataframe\">\n",
       "  <thead>\n",
       "    <tr style=\"text-align: right;\">\n",
       "      <th></th>\n",
       "      <th>satisfaction_level</th>\n",
       "      <th>last_evaluation</th>\n",
       "      <th>number_project</th>\n",
       "      <th>average_montly_hours</th>\n",
       "      <th>time_spend_company</th>\n",
       "      <th>Work_accident</th>\n",
       "      <th>promotion_last_5years</th>\n",
       "      <th>sales</th>\n",
       "      <th>salary</th>\n",
       "      <th>left</th>\n",
       "    </tr>\n",
       "  </thead>\n",
       "  <tbody>\n",
       "    <tr>\n",
       "      <th>0</th>\n",
       "      <td>0.53</td>\n",
       "      <td>0.52</td>\n",
       "      <td>2</td>\n",
       "      <td>135</td>\n",
       "      <td>4</td>\n",
       "      <td>0</td>\n",
       "      <td>0</td>\n",
       "      <td>technical</td>\n",
       "      <td>medium</td>\n",
       "      <td>0</td>\n",
       "    </tr>\n",
       "    <tr>\n",
       "      <th>1</th>\n",
       "      <td>0.77</td>\n",
       "      <td>0.53</td>\n",
       "      <td>5</td>\n",
       "      <td>256</td>\n",
       "      <td>3</td>\n",
       "      <td>0</td>\n",
       "      <td>0</td>\n",
       "      <td>accounting</td>\n",
       "      <td>medium</td>\n",
       "      <td>0</td>\n",
       "    </tr>\n",
       "    <tr>\n",
       "      <th>2</th>\n",
       "      <td>0.89</td>\n",
       "      <td>0.79</td>\n",
       "      <td>3</td>\n",
       "      <td>149</td>\n",
       "      <td>2</td>\n",
       "      <td>0</td>\n",
       "      <td>0</td>\n",
       "      <td>support</td>\n",
       "      <td>medium</td>\n",
       "      <td>1</td>\n",
       "    </tr>\n",
       "    <tr>\n",
       "      <th>3</th>\n",
       "      <td>0.64</td>\n",
       "      <td>0.63</td>\n",
       "      <td>3</td>\n",
       "      <td>156</td>\n",
       "      <td>6</td>\n",
       "      <td>1</td>\n",
       "      <td>0</td>\n",
       "      <td>support</td>\n",
       "      <td>low</td>\n",
       "      <td>0</td>\n",
       "    </tr>\n",
       "    <tr>\n",
       "      <th>4</th>\n",
       "      <td>0.98</td>\n",
       "      <td>0.74</td>\n",
       "      <td>4</td>\n",
       "      <td>151</td>\n",
       "      <td>3</td>\n",
       "      <td>0</td>\n",
       "      <td>0</td>\n",
       "      <td>sales</td>\n",
       "      <td>medium</td>\n",
       "      <td>0</td>\n",
       "    </tr>\n",
       "  </tbody>\n",
       "</table>\n",
       "</div>"
      ],
      "text/plain": [
       "   satisfaction_level  last_evaluation  number_project  average_montly_hours  \\\n",
       "0                0.53             0.52               2                   135   \n",
       "1                0.77             0.53               5                   256   \n",
       "2                0.89             0.79               3                   149   \n",
       "3                0.64             0.63               3                   156   \n",
       "4                0.98             0.74               4                   151   \n",
       "\n",
       "   time_spend_company  Work_accident  promotion_last_5years       sales  \\\n",
       "0                   4              0                      0   technical   \n",
       "1                   3              0                      0  accounting   \n",
       "2                   2              0                      0     support   \n",
       "3                   6              1                      0     support   \n",
       "4                   3              0                      0       sales   \n",
       "\n",
       "   salary  left  \n",
       "0  medium     0  \n",
       "1  medium     0  \n",
       "2  medium     1  \n",
       "3     low     0  \n",
       "4  medium     0  "
      ]
     },
     "execution_count": 18,
     "metadata": {},
     "output_type": "execute_result"
    }
   ],
   "source": [
    "# csvファイルからの読み出し\n",
    "dataset = pd.read_csv(train_file,\n",
    "                     header=0,    # CSVデータの1行目が見出し(header)で有ることを指定。データは1行目が[0]\n",
    "                     dtype=my_dtype)\n",
    "\n",
    "# 1列目のID情報、推論対象は特徴量から削除\n",
    "# pandas.core.frame.DataFrame\n",
    "X = pd.DataFrame(dataset).drop(columns=train_reject_items, axis=1)\n",
    "\n",
    "# pandas.core.series.Series\n",
    "y = pd.Series(dataset[target_value])\n",
    "\n",
    "# 形状の確認\n",
    "# check the shape\n",
    "print('----------------------------------------------------------------')\n",
    "print('X shape: (%i,%i)' %X.shape)\n",
    "print('----------------------------------------------------------------')\n",
    "print('y shape: (%i,)' %y.shape)\n",
    "print('----------------------------------------------------------------')\n",
    "print(y.value_counts())\n",
    "print('left（1：退職、0：非退職の正解ラベル）')\n",
    "print('----------------------------------------------------------------')\n",
    "print()\n",
    "print('dataset:csvファイル生データ')\n",
    "display(dataset.head())\n",
    "print('X:訓練データセット')\n",
    "X.join(y).head()"
   ]
  },
  {
   "cell_type": "markdown",
   "metadata": {
    "colab_type": "text",
    "id": "WpVqy3BvN7sJ"
   },
   "source": [
    "### 4. EDA"
   ]
  },
  {
   "cell_type": "code",
   "execution_count": 19,
   "metadata": {
    "colab": {},
    "colab_type": "code",
    "id": "qjaoDgtVN7sJ",
    "outputId": "70f931ce-cf20-4dfa-c91d-579822b4441e"
   },
   "outputs": [
    {
     "data": {
      "text/plain": [
       "index                    0\n",
       "left                     0\n",
       "satisfaction_level       0\n",
       "last_evaluation          0\n",
       "number_project           0\n",
       "average_montly_hours     0\n",
       "time_spend_company       0\n",
       "Work_accident            0\n",
       "promotion_last_5years    0\n",
       "sales                    0\n",
       "salary                   0\n",
       "dtype: int64"
      ]
     },
     "execution_count": 19,
     "metadata": {},
     "output_type": "execute_result"
    }
   ],
   "source": [
    "# 欠損値の確認\n",
    "dataset.isnull().sum()"
   ]
  },
  {
   "cell_type": "code",
   "execution_count": 20,
   "metadata": {
    "colab": {},
    "colab_type": "code",
    "id": "awKQKOn1N7sM",
    "outputId": "29b10139-25fe-4448-8270-1f4c9459c72c"
   },
   "outputs": [
    {
     "data": {
      "text/plain": [
       "index                      int64\n",
       "left                       int64\n",
       "satisfaction_level       float64\n",
       "last_evaluation          float64\n",
       "number_project             int64\n",
       "average_montly_hours       int64\n",
       "time_spend_company         int64\n",
       "Work_accident              int64\n",
       "promotion_last_5years      int64\n",
       "sales                     object\n",
       "salary                    object\n",
       "dtype: object"
      ]
     },
     "execution_count": 20,
     "metadata": {},
     "output_type": "execute_result"
    }
   ],
   "source": [
    "# 各データ型を表示\n",
    "dataset.dtypes"
   ]
  },
  {
   "cell_type": "markdown",
   "metadata": {
    "colab_type": "text",
    "id": "cKR105_lN7sO"
   },
   "source": [
    "### 5. データセットの作成"
   ]
  },
  {
   "cell_type": "markdown",
   "metadata": {
    "colab_type": "text",
    "id": "ZqfJOSWAN7sP"
   },
   "source": [
    "#### 5-1. カテゴリカル変数⇒one-hotエンコード  \n",
    "選択したcolumnに対してone-hot encoding処理を行う"
   ]
  },
  {
   "cell_type": "code",
   "execution_count": 21,
   "metadata": {
    "colab": {},
    "colab_type": "code",
    "id": "qBFAUahcN7sQ",
    "outputId": "ba23ed0f-835e-4830-de6d-176b4339a2db"
   },
   "outputs": [
    {
     "name": "stdout",
     "output_type": "stream",
     "text": [
      "X_ohe shape:(10499,22)\n"
     ]
    },
    {
     "data": {
      "text/html": [
       "<div>\n",
       "<style scoped>\n",
       "    .dataframe tbody tr th:only-of-type {\n",
       "        vertical-align: middle;\n",
       "    }\n",
       "\n",
       "    .dataframe tbody tr th {\n",
       "        vertical-align: top;\n",
       "    }\n",
       "\n",
       "    .dataframe thead th {\n",
       "        text-align: right;\n",
       "    }\n",
       "</style>\n",
       "<table border=\"1\" class=\"dataframe\">\n",
       "  <thead>\n",
       "    <tr style=\"text-align: right;\">\n",
       "      <th></th>\n",
       "      <th>satisfaction_level</th>\n",
       "      <th>last_evaluation</th>\n",
       "      <th>number_project</th>\n",
       "      <th>average_montly_hours</th>\n",
       "      <th>time_spend_company</th>\n",
       "      <th>Work_accident</th>\n",
       "      <th>promotion_last_5years</th>\n",
       "      <th>sales_IT</th>\n",
       "      <th>sales_RandD</th>\n",
       "      <th>sales_accounting</th>\n",
       "      <th>sales_hr</th>\n",
       "      <th>sales_management</th>\n",
       "      <th>sales_marketing</th>\n",
       "      <th>sales_product_mng</th>\n",
       "      <th>sales_sales</th>\n",
       "      <th>sales_support</th>\n",
       "      <th>sales_technical</th>\n",
       "      <th>sales_nan</th>\n",
       "      <th>salary_high</th>\n",
       "      <th>salary_low</th>\n",
       "      <th>salary_medium</th>\n",
       "      <th>salary_nan</th>\n",
       "    </tr>\n",
       "  </thead>\n",
       "  <tbody>\n",
       "    <tr>\n",
       "      <th>0</th>\n",
       "      <td>0.53</td>\n",
       "      <td>0.52</td>\n",
       "      <td>2</td>\n",
       "      <td>135</td>\n",
       "      <td>4</td>\n",
       "      <td>0</td>\n",
       "      <td>0</td>\n",
       "      <td>0</td>\n",
       "      <td>0</td>\n",
       "      <td>0</td>\n",
       "      <td>0</td>\n",
       "      <td>0</td>\n",
       "      <td>0</td>\n",
       "      <td>0</td>\n",
       "      <td>0</td>\n",
       "      <td>0</td>\n",
       "      <td>1</td>\n",
       "      <td>0</td>\n",
       "      <td>0</td>\n",
       "      <td>0</td>\n",
       "      <td>1</td>\n",
       "      <td>0</td>\n",
       "    </tr>\n",
       "    <tr>\n",
       "      <th>1</th>\n",
       "      <td>0.77</td>\n",
       "      <td>0.53</td>\n",
       "      <td>5</td>\n",
       "      <td>256</td>\n",
       "      <td>3</td>\n",
       "      <td>0</td>\n",
       "      <td>0</td>\n",
       "      <td>0</td>\n",
       "      <td>0</td>\n",
       "      <td>1</td>\n",
       "      <td>0</td>\n",
       "      <td>0</td>\n",
       "      <td>0</td>\n",
       "      <td>0</td>\n",
       "      <td>0</td>\n",
       "      <td>0</td>\n",
       "      <td>0</td>\n",
       "      <td>0</td>\n",
       "      <td>0</td>\n",
       "      <td>0</td>\n",
       "      <td>1</td>\n",
       "      <td>0</td>\n",
       "    </tr>\n",
       "    <tr>\n",
       "      <th>2</th>\n",
       "      <td>0.89</td>\n",
       "      <td>0.79</td>\n",
       "      <td>3</td>\n",
       "      <td>149</td>\n",
       "      <td>2</td>\n",
       "      <td>0</td>\n",
       "      <td>0</td>\n",
       "      <td>0</td>\n",
       "      <td>0</td>\n",
       "      <td>0</td>\n",
       "      <td>0</td>\n",
       "      <td>0</td>\n",
       "      <td>0</td>\n",
       "      <td>0</td>\n",
       "      <td>0</td>\n",
       "      <td>1</td>\n",
       "      <td>0</td>\n",
       "      <td>0</td>\n",
       "      <td>0</td>\n",
       "      <td>0</td>\n",
       "      <td>1</td>\n",
       "      <td>0</td>\n",
       "    </tr>\n",
       "    <tr>\n",
       "      <th>3</th>\n",
       "      <td>0.64</td>\n",
       "      <td>0.63</td>\n",
       "      <td>3</td>\n",
       "      <td>156</td>\n",
       "      <td>6</td>\n",
       "      <td>1</td>\n",
       "      <td>0</td>\n",
       "      <td>0</td>\n",
       "      <td>0</td>\n",
       "      <td>0</td>\n",
       "      <td>0</td>\n",
       "      <td>0</td>\n",
       "      <td>0</td>\n",
       "      <td>0</td>\n",
       "      <td>0</td>\n",
       "      <td>1</td>\n",
       "      <td>0</td>\n",
       "      <td>0</td>\n",
       "      <td>0</td>\n",
       "      <td>1</td>\n",
       "      <td>0</td>\n",
       "      <td>0</td>\n",
       "    </tr>\n",
       "    <tr>\n",
       "      <th>4</th>\n",
       "      <td>0.98</td>\n",
       "      <td>0.74</td>\n",
       "      <td>4</td>\n",
       "      <td>151</td>\n",
       "      <td>3</td>\n",
       "      <td>0</td>\n",
       "      <td>0</td>\n",
       "      <td>0</td>\n",
       "      <td>0</td>\n",
       "      <td>0</td>\n",
       "      <td>0</td>\n",
       "      <td>0</td>\n",
       "      <td>0</td>\n",
       "      <td>0</td>\n",
       "      <td>1</td>\n",
       "      <td>0</td>\n",
       "      <td>0</td>\n",
       "      <td>0</td>\n",
       "      <td>0</td>\n",
       "      <td>0</td>\n",
       "      <td>1</td>\n",
       "      <td>0</td>\n",
       "    </tr>\n",
       "  </tbody>\n",
       "</table>\n",
       "</div>"
      ],
      "text/plain": [
       "   satisfaction_level  last_evaluation  number_project  average_montly_hours  \\\n",
       "0                0.53             0.52               2                   135   \n",
       "1                0.77             0.53               5                   256   \n",
       "2                0.89             0.79               3                   149   \n",
       "3                0.64             0.63               3                   156   \n",
       "4                0.98             0.74               4                   151   \n",
       "\n",
       "   time_spend_company  Work_accident  promotion_last_5years  sales_IT  \\\n",
       "0                   4              0                      0         0   \n",
       "1                   3              0                      0         0   \n",
       "2                   2              0                      0         0   \n",
       "3                   6              1                      0         0   \n",
       "4                   3              0                      0         0   \n",
       "\n",
       "   sales_RandD  sales_accounting  sales_hr  sales_management  sales_marketing  \\\n",
       "0            0                 0         0                 0                0   \n",
       "1            0                 1         0                 0                0   \n",
       "2            0                 0         0                 0                0   \n",
       "3            0                 0         0                 0                0   \n",
       "4            0                 0         0                 0                0   \n",
       "\n",
       "   sales_product_mng  sales_sales  sales_support  sales_technical  sales_nan  \\\n",
       "0                  0            0              0                1          0   \n",
       "1                  0            0              0                0          0   \n",
       "2                  0            0              1                0          0   \n",
       "3                  0            0              1                0          0   \n",
       "4                  0            1              0                0          0   \n",
       "\n",
       "   salary_high  salary_low  salary_medium  salary_nan  \n",
       "0            0           0              1           0  \n",
       "1            0           0              1           0  \n",
       "2            0           0              1           0  \n",
       "3            0           1              0           0  \n",
       "4            0           0              1           0  "
      ]
     },
     "metadata": {},
     "output_type": "display_data"
    }
   ],
   "source": [
    "def one_hot_encoding(data, ohe_columns):\n",
    "    X_ohe = pd.get_dummies(data,\n",
    "                       dummy_na=True,    # 欠損値もダミー化\n",
    "                       columns=ohe_columns)\n",
    "    print('X_ohe shape:(%i,%i)' % X_ohe.shape)\n",
    "    display(X_ohe.head())\n",
    "    return X_ohe\n",
    "    \n",
    "X_ohe = one_hot_encoding(X, ohe_columns)"
   ]
  },
  {
   "cell_type": "markdown",
   "metadata": {
    "colab_type": "text",
    "id": "umaeQLM-N7sV"
   },
   "source": [
    "#### 5-2. 数値変数の欠損値対応\n",
    "1. 平均値をオリジナルのデータを使って計算する。（fit）   \n",
    "2. impに設定した平均値で、モデルに読み込むデータの欠損値を処理する。    \n",
    "※ (注意)test用のデータでは、訓練用に計算した平均値データを使って、欠損値を処理する。(test用のデータの平均値を使わない)"
   ]
  },
  {
   "cell_type": "code",
   "execution_count": 22,
   "metadata": {
    "colab": {},
    "colab_type": "code",
    "id": "hs-6zPgLN7sV",
    "outputId": "e77b1299-2b5e-46ac-8c54-c6e13517638d"
   },
   "outputs": [
    {
     "data": {
      "text/html": [
       "<div>\n",
       "<style scoped>\n",
       "    .dataframe tbody tr th:only-of-type {\n",
       "        vertical-align: middle;\n",
       "    }\n",
       "\n",
       "    .dataframe tbody tr th {\n",
       "        vertical-align: top;\n",
       "    }\n",
       "\n",
       "    .dataframe thead th {\n",
       "        text-align: right;\n",
       "    }\n",
       "</style>\n",
       "<table border=\"1\" class=\"dataframe\">\n",
       "  <thead>\n",
       "    <tr style=\"text-align: right;\">\n",
       "      <th></th>\n",
       "      <th>satisfaction_level</th>\n",
       "      <th>last_evaluation</th>\n",
       "      <th>number_project</th>\n",
       "      <th>average_montly_hours</th>\n",
       "      <th>time_spend_company</th>\n",
       "      <th>Work_accident</th>\n",
       "      <th>promotion_last_5years</th>\n",
       "      <th>sales_IT</th>\n",
       "      <th>sales_RandD</th>\n",
       "      <th>sales_accounting</th>\n",
       "      <th>sales_hr</th>\n",
       "      <th>sales_management</th>\n",
       "      <th>sales_marketing</th>\n",
       "      <th>sales_product_mng</th>\n",
       "      <th>sales_sales</th>\n",
       "      <th>sales_support</th>\n",
       "      <th>sales_technical</th>\n",
       "      <th>sales_nan</th>\n",
       "      <th>salary_high</th>\n",
       "      <th>salary_low</th>\n",
       "      <th>salary_medium</th>\n",
       "      <th>salary_nan</th>\n",
       "    </tr>\n",
       "  </thead>\n",
       "  <tbody>\n",
       "    <tr>\n",
       "      <th>0</th>\n",
       "      <td>0.53</td>\n",
       "      <td>0.52</td>\n",
       "      <td>2.0</td>\n",
       "      <td>135.0</td>\n",
       "      <td>4.0</td>\n",
       "      <td>0.0</td>\n",
       "      <td>0.0</td>\n",
       "      <td>0.0</td>\n",
       "      <td>0.0</td>\n",
       "      <td>0.0</td>\n",
       "      <td>0.0</td>\n",
       "      <td>0.0</td>\n",
       "      <td>0.0</td>\n",
       "      <td>0.0</td>\n",
       "      <td>0.0</td>\n",
       "      <td>0.0</td>\n",
       "      <td>1.0</td>\n",
       "      <td>0.0</td>\n",
       "      <td>0.0</td>\n",
       "      <td>0.0</td>\n",
       "      <td>1.0</td>\n",
       "      <td>0.0</td>\n",
       "    </tr>\n",
       "    <tr>\n",
       "      <th>1</th>\n",
       "      <td>0.77</td>\n",
       "      <td>0.53</td>\n",
       "      <td>5.0</td>\n",
       "      <td>256.0</td>\n",
       "      <td>3.0</td>\n",
       "      <td>0.0</td>\n",
       "      <td>0.0</td>\n",
       "      <td>0.0</td>\n",
       "      <td>0.0</td>\n",
       "      <td>1.0</td>\n",
       "      <td>0.0</td>\n",
       "      <td>0.0</td>\n",
       "      <td>0.0</td>\n",
       "      <td>0.0</td>\n",
       "      <td>0.0</td>\n",
       "      <td>0.0</td>\n",
       "      <td>0.0</td>\n",
       "      <td>0.0</td>\n",
       "      <td>0.0</td>\n",
       "      <td>0.0</td>\n",
       "      <td>1.0</td>\n",
       "      <td>0.0</td>\n",
       "    </tr>\n",
       "    <tr>\n",
       "      <th>2</th>\n",
       "      <td>0.89</td>\n",
       "      <td>0.79</td>\n",
       "      <td>3.0</td>\n",
       "      <td>149.0</td>\n",
       "      <td>2.0</td>\n",
       "      <td>0.0</td>\n",
       "      <td>0.0</td>\n",
       "      <td>0.0</td>\n",
       "      <td>0.0</td>\n",
       "      <td>0.0</td>\n",
       "      <td>0.0</td>\n",
       "      <td>0.0</td>\n",
       "      <td>0.0</td>\n",
       "      <td>0.0</td>\n",
       "      <td>0.0</td>\n",
       "      <td>1.0</td>\n",
       "      <td>0.0</td>\n",
       "      <td>0.0</td>\n",
       "      <td>0.0</td>\n",
       "      <td>0.0</td>\n",
       "      <td>1.0</td>\n",
       "      <td>0.0</td>\n",
       "    </tr>\n",
       "    <tr>\n",
       "      <th>3</th>\n",
       "      <td>0.64</td>\n",
       "      <td>0.63</td>\n",
       "      <td>3.0</td>\n",
       "      <td>156.0</td>\n",
       "      <td>6.0</td>\n",
       "      <td>1.0</td>\n",
       "      <td>0.0</td>\n",
       "      <td>0.0</td>\n",
       "      <td>0.0</td>\n",
       "      <td>0.0</td>\n",
       "      <td>0.0</td>\n",
       "      <td>0.0</td>\n",
       "      <td>0.0</td>\n",
       "      <td>0.0</td>\n",
       "      <td>0.0</td>\n",
       "      <td>1.0</td>\n",
       "      <td>0.0</td>\n",
       "      <td>0.0</td>\n",
       "      <td>0.0</td>\n",
       "      <td>1.0</td>\n",
       "      <td>0.0</td>\n",
       "      <td>0.0</td>\n",
       "    </tr>\n",
       "    <tr>\n",
       "      <th>4</th>\n",
       "      <td>0.98</td>\n",
       "      <td>0.74</td>\n",
       "      <td>4.0</td>\n",
       "      <td>151.0</td>\n",
       "      <td>3.0</td>\n",
       "      <td>0.0</td>\n",
       "      <td>0.0</td>\n",
       "      <td>0.0</td>\n",
       "      <td>0.0</td>\n",
       "      <td>0.0</td>\n",
       "      <td>0.0</td>\n",
       "      <td>0.0</td>\n",
       "      <td>0.0</td>\n",
       "      <td>0.0</td>\n",
       "      <td>1.0</td>\n",
       "      <td>0.0</td>\n",
       "      <td>0.0</td>\n",
       "      <td>0.0</td>\n",
       "      <td>0.0</td>\n",
       "      <td>0.0</td>\n",
       "      <td>1.0</td>\n",
       "      <td>0.0</td>\n",
       "    </tr>\n",
       "  </tbody>\n",
       "</table>\n",
       "</div>"
      ],
      "text/plain": [
       "   satisfaction_level  last_evaluation  number_project  average_montly_hours  \\\n",
       "0                0.53             0.52             2.0                 135.0   \n",
       "1                0.77             0.53             5.0                 256.0   \n",
       "2                0.89             0.79             3.0                 149.0   \n",
       "3                0.64             0.63             3.0                 156.0   \n",
       "4                0.98             0.74             4.0                 151.0   \n",
       "\n",
       "   time_spend_company  Work_accident  promotion_last_5years  sales_IT  \\\n",
       "0                 4.0            0.0                    0.0       0.0   \n",
       "1                 3.0            0.0                    0.0       0.0   \n",
       "2                 2.0            0.0                    0.0       0.0   \n",
       "3                 6.0            1.0                    0.0       0.0   \n",
       "4                 3.0            0.0                    0.0       0.0   \n",
       "\n",
       "   sales_RandD  sales_accounting  sales_hr  sales_management  sales_marketing  \\\n",
       "0          0.0               0.0       0.0               0.0              0.0   \n",
       "1          0.0               1.0       0.0               0.0              0.0   \n",
       "2          0.0               0.0       0.0               0.0              0.0   \n",
       "3          0.0               0.0       0.0               0.0              0.0   \n",
       "4          0.0               0.0       0.0               0.0              0.0   \n",
       "\n",
       "   sales_product_mng  sales_sales  sales_support  sales_technical  sales_nan  \\\n",
       "0                0.0          0.0            0.0              1.0        0.0   \n",
       "1                0.0          0.0            0.0              0.0        0.0   \n",
       "2                0.0          0.0            1.0              0.0        0.0   \n",
       "3                0.0          0.0            1.0              0.0        0.0   \n",
       "4                0.0          1.0            0.0              0.0        0.0   \n",
       "\n",
       "   salary_high  salary_low  salary_medium  salary_nan  \n",
       "0          0.0         0.0            1.0         0.0  \n",
       "1          0.0         0.0            1.0         0.0  \n",
       "2          0.0         0.0            1.0         0.0  \n",
       "3          0.0         1.0            0.0         0.0  \n",
       "4          0.0         0.0            1.0         0.0  "
      ]
     },
     "metadata": {},
     "output_type": "display_data"
    }
   ],
   "source": [
    "def imputing_nan(X_ohe_for_training, X_ohe_apply_to):\n",
    "    \n",
    "    imp = SimpleImputer()    # default設定で平均値\n",
    "    imp.fit(X_ohe_for_training)             # impにて計算するデータ\n",
    "    \n",
    "    X_ohe_columns =  X_ohe_for_training.columns.values\n",
    "    X_ohe = pd.DataFrame(imp.transform(X_ohe_apply_to), columns=X_ohe_columns)\n",
    "    display(X_ohe.head())\n",
    "    return X_ohe,  X_ohe_columns, imp\n",
    "\n",
    "X_ohe, X_ohe_columns, imp = imputing_nan(X_ohe, X_ohe)"
   ]
  },
  {
   "cell_type": "code",
   "execution_count": 23,
   "metadata": {
    "colab": {},
    "colab_type": "code",
    "id": "VA6lGGOdJJS-",
    "outputId": "214809e6-308e-45de-e60c-edce7adbdbf1"
   },
   "outputs": [
    {
     "data": {
      "text/plain": [
       "(10499, 22)"
      ]
     },
     "execution_count": 23,
     "metadata": {},
     "output_type": "execute_result"
    }
   ],
   "source": [
    "X_ohe.shape"
   ]
  },
  {
   "cell_type": "markdown",
   "metadata": {
    "colab_type": "text",
    "id": "BCkXzpmFJJTD"
   },
   "source": [
    "#### 5-3. 次元圧縮(特徴量選択)"
   ]
  },
  {
   "cell_type": "markdown",
   "metadata": {
    "colab_type": "text",
    "id": "w33zAZ37N7sa"
   },
   "source": [
    "モデル用データの前処理：次元圧縮（特徴量選択）  \n",
    "RFEによる特徴量選択を実施します。"
   ]
  },
  {
   "cell_type": "code",
   "execution_count": 24,
   "metadata": {
    "colab": {},
    "colab_type": "code",
    "id": "SDTmAmz8N7sb",
    "outputId": "ad1acfde-9b77-4e6d-f967-778710553a5c"
   },
   "outputs": [
    {
     "name": "stdout",
     "output_type": "stream",
     "text": [
      "X_fin shape:(10499,15)\n"
     ]
    },
    {
     "data": {
      "text/html": [
       "<div>\n",
       "<style scoped>\n",
       "    .dataframe tbody tr th:only-of-type {\n",
       "        vertical-align: middle;\n",
       "    }\n",
       "\n",
       "    .dataframe tbody tr th {\n",
       "        vertical-align: top;\n",
       "    }\n",
       "\n",
       "    .dataframe thead th {\n",
       "        text-align: right;\n",
       "    }\n",
       "</style>\n",
       "<table border=\"1\" class=\"dataframe\">\n",
       "  <thead>\n",
       "    <tr style=\"text-align: right;\">\n",
       "      <th></th>\n",
       "      <th>satisfaction_level</th>\n",
       "      <th>last_evaluation</th>\n",
       "      <th>number_project</th>\n",
       "      <th>average_montly_hours</th>\n",
       "      <th>time_spend_company</th>\n",
       "      <th>Work_accident</th>\n",
       "      <th>sales_IT</th>\n",
       "      <th>sales_RandD</th>\n",
       "      <th>sales_accounting</th>\n",
       "      <th>sales_sales</th>\n",
       "      <th>sales_support</th>\n",
       "      <th>sales_technical</th>\n",
       "      <th>salary_high</th>\n",
       "      <th>salary_low</th>\n",
       "      <th>salary_medium</th>\n",
       "    </tr>\n",
       "  </thead>\n",
       "  <tbody>\n",
       "    <tr>\n",
       "      <th>0</th>\n",
       "      <td>0.53</td>\n",
       "      <td>0.52</td>\n",
       "      <td>2.0</td>\n",
       "      <td>135.0</td>\n",
       "      <td>4.0</td>\n",
       "      <td>0.0</td>\n",
       "      <td>0.0</td>\n",
       "      <td>0.0</td>\n",
       "      <td>0.0</td>\n",
       "      <td>0.0</td>\n",
       "      <td>0.0</td>\n",
       "      <td>1.0</td>\n",
       "      <td>0.0</td>\n",
       "      <td>0.0</td>\n",
       "      <td>1.0</td>\n",
       "    </tr>\n",
       "    <tr>\n",
       "      <th>1</th>\n",
       "      <td>0.77</td>\n",
       "      <td>0.53</td>\n",
       "      <td>5.0</td>\n",
       "      <td>256.0</td>\n",
       "      <td>3.0</td>\n",
       "      <td>0.0</td>\n",
       "      <td>0.0</td>\n",
       "      <td>0.0</td>\n",
       "      <td>1.0</td>\n",
       "      <td>0.0</td>\n",
       "      <td>0.0</td>\n",
       "      <td>0.0</td>\n",
       "      <td>0.0</td>\n",
       "      <td>0.0</td>\n",
       "      <td>1.0</td>\n",
       "    </tr>\n",
       "    <tr>\n",
       "      <th>2</th>\n",
       "      <td>0.89</td>\n",
       "      <td>0.79</td>\n",
       "      <td>3.0</td>\n",
       "      <td>149.0</td>\n",
       "      <td>2.0</td>\n",
       "      <td>0.0</td>\n",
       "      <td>0.0</td>\n",
       "      <td>0.0</td>\n",
       "      <td>0.0</td>\n",
       "      <td>0.0</td>\n",
       "      <td>1.0</td>\n",
       "      <td>0.0</td>\n",
       "      <td>0.0</td>\n",
       "      <td>0.0</td>\n",
       "      <td>1.0</td>\n",
       "    </tr>\n",
       "    <tr>\n",
       "      <th>3</th>\n",
       "      <td>0.64</td>\n",
       "      <td>0.63</td>\n",
       "      <td>3.0</td>\n",
       "      <td>156.0</td>\n",
       "      <td>6.0</td>\n",
       "      <td>1.0</td>\n",
       "      <td>0.0</td>\n",
       "      <td>0.0</td>\n",
       "      <td>0.0</td>\n",
       "      <td>0.0</td>\n",
       "      <td>1.0</td>\n",
       "      <td>0.0</td>\n",
       "      <td>0.0</td>\n",
       "      <td>1.0</td>\n",
       "      <td>0.0</td>\n",
       "    </tr>\n",
       "    <tr>\n",
       "      <th>4</th>\n",
       "      <td>0.98</td>\n",
       "      <td>0.74</td>\n",
       "      <td>4.0</td>\n",
       "      <td>151.0</td>\n",
       "      <td>3.0</td>\n",
       "      <td>0.0</td>\n",
       "      <td>0.0</td>\n",
       "      <td>0.0</td>\n",
       "      <td>0.0</td>\n",
       "      <td>1.0</td>\n",
       "      <td>0.0</td>\n",
       "      <td>0.0</td>\n",
       "      <td>0.0</td>\n",
       "      <td>0.0</td>\n",
       "      <td>1.0</td>\n",
       "    </tr>\n",
       "  </tbody>\n",
       "</table>\n",
       "</div>"
      ],
      "text/plain": [
       "   satisfaction_level  last_evaluation  number_project  average_montly_hours  \\\n",
       "0                0.53             0.52             2.0                 135.0   \n",
       "1                0.77             0.53             5.0                 256.0   \n",
       "2                0.89             0.79             3.0                 149.0   \n",
       "3                0.64             0.63             3.0                 156.0   \n",
       "4                0.98             0.74             4.0                 151.0   \n",
       "\n",
       "   time_spend_company  Work_accident  sales_IT  sales_RandD  sales_accounting  \\\n",
       "0                 4.0            0.0       0.0          0.0               0.0   \n",
       "1                 3.0            0.0       0.0          0.0               1.0   \n",
       "2                 2.0            0.0       0.0          0.0               0.0   \n",
       "3                 6.0            1.0       0.0          0.0               0.0   \n",
       "4                 3.0            0.0       0.0          0.0               0.0   \n",
       "\n",
       "   sales_sales  sales_support  sales_technical  salary_high  salary_low  \\\n",
       "0          0.0            0.0              1.0          0.0         0.0   \n",
       "1          0.0            0.0              0.0          0.0         0.0   \n",
       "2          0.0            1.0              0.0          0.0         0.0   \n",
       "3          0.0            1.0              0.0          0.0         1.0   \n",
       "4          1.0            0.0              0.0          0.0         0.0   \n",
       "\n",
       "   salary_medium  \n",
       "0            1.0  \n",
       "1            1.0  \n",
       "2            1.0  \n",
       "3            0.0  \n",
       "4            1.0  "
      ]
     },
     "metadata": {},
     "output_type": "display_data"
    }
   ],
   "source": [
    "def dimension_compression(X_ohe, y):\n",
    "    selector = RFE(RandomForestClassifier(n_estimators=100, random_state=1),\n",
    "               n_features_to_select=15, # 圧縮後の次元数\n",
    "               step=.05)\n",
    "    selector.fit(X_ohe,y)\n",
    "    X_ohe_columns =  X_ohe.columns.values\n",
    "    # 学習用のデータセットを処理\n",
    "    # selector.support_には、True/Falseのリストとなっている\n",
    "    X_fin = X_ohe.loc[:, X_ohe_columns[selector.support_]]\n",
    "    print('X_fin shape:(%i,%i)' % X_fin.shape)\n",
    "    display(X_fin.head())\n",
    "    return X_fin, selector\n",
    "    \n",
    "X_fin, selector = dimension_compression(X_ohe, y)"
   ]
  },
  {
   "cell_type": "code",
   "execution_count": 25,
   "metadata": {
    "colab": {},
    "colab_type": "code",
    "id": "gXemgjGDN7se",
    "outputId": "b4e1d09a-f691-460b-aab6-4acea80a079a"
   },
   "outputs": [
    {
     "name": "stdout",
     "output_type": "stream",
     "text": [
      "-----------------------------------\n",
      "X_fin shape: (10499,15)\n",
      "-----------------------------------\n",
      "0    7966\n",
      "1    2533\n",
      "Name: left, dtype: int64\n",
      "--------------------------------------------------\n",
      "y=0 means Not survived,　y=1 Survived(生存):\n",
      "--------------------------------------------------\n",
      "y shape: (10499,)\n",
      "--------------------------------------------------\n"
     ]
    }
   ],
   "source": [
    "print('-----------------------------------')\n",
    "print('X_fin shape: (%i,%i)' %X_fin.shape)\n",
    "print('-----------------------------------')\n",
    "print(y.value_counts())\n",
    "print('--------------------------------------------------')\n",
    "print('y=0 means Not survived,　y=1 Survived(生存):')\n",
    "print('--------------------------------------------------')\n",
    "print('y shape: (%i,)' %y.shape)\n",
    "print('--------------------------------------------------')"
   ]
  },
  {
   "cell_type": "markdown",
   "metadata": {},
   "source": [
    "#### 5-4. 不均衡データへの対応\n",
    "(未実装)"
   ]
  },
  {
   "cell_type": "markdown",
   "metadata": {
    "colab_type": "text",
    "id": "hfG2H0lFN7sh"
   },
   "source": [
    "### 6. Pipelineの設定  \n",
    "#### 6-1. Pipelineの定義"
   ]
  },
  {
   "cell_type": "code",
   "execution_count": 26,
   "metadata": {},
   "outputs": [],
   "source": [
    "# set pipelines for different algorithms\n",
    "# ディクショナリー型のpipelinesに、モデル名をkey、値にpipelineのリストを登録\n",
    "pipelines = {\n",
    "    'knn':\n",
    "        Pipeline([('scl',StandardScaler()),\n",
    "                    ('est',KNeighborsClassifier())]),\n",
    "    # ロジスティック回帰\n",
    "    'logistic':\n",
    "        Pipeline([('scl',StandardScaler()),\n",
    "                    ('est',LogisticRegression(random_state=1))]),\n",
    "    'rsvc':\n",
    "        Pipeline([('scl',StandardScaler()),\n",
    "                    ('est',SVC(C=1.0, kernel='rbf', class_weight='balanced', random_state=1))]),\n",
    "    'lsvc':\n",
    "        Pipeline([('scl',StandardScaler()),\n",
    "                    ('est',LinearSVC(C=1.0, class_weight='balanced',random_state=1))]),\n",
    "    'tree':\n",
    "        Pipeline([('scl',StandardScaler()),\n",
    "                    ('est',DecisionTreeClassifier(random_state=1))]),\n",
    "    'rf':\n",
    "        Pipeline([('scl',StandardScaler()),\n",
    "                    ('est',RandomForestClassifier(random_state=1))]),\n",
    "    'gb':\n",
    "        Pipeline([('scl',StandardScaler()),\n",
    "                    ('est',GradientBoostingClassifier(random_state=1))]),\n",
    "    'mlp':\n",
    "        Pipeline([('scl',StandardScaler()),\n",
    "                    ('est',MLPClassifier(hidden_layer_sizes=(3,3), max_iter=1000, random_state=1))]),\n",
    "    'xgb':\n",
    "        Pipeline([('scl',StandardScaler()),\n",
    "                    ('est',xgb.XGBClassifier())]),\n",
    "    'lgbm':\n",
    "        Pipeline([('scl',StandardScaler()),\n",
    "                    ('est',lgb.LGBMClassifier())]),\n",
    "}"
   ]
  },
  {
   "cell_type": "markdown",
   "metadata": {},
   "source": [
    "#### 6-2. Grid Seach用のパラメータ設定"
   ]
  },
  {
   "cell_type": "code",
   "execution_count": 27,
   "metadata": {
    "colab": {},
    "colab_type": "code",
    "id": "tNq-V1m8JJTb"
   },
   "outputs": [],
   "source": [
    "params = {\n",
    "    'knn' : {'est__n_neighbors':[5,7,10], 'est__weights':['uniform','distance'],},\n",
    "    \n",
    "    'logistic': {'est__C':[1, 100],},\n",
    "    \n",
    "    'rsvc': {'est__C':[1, 100],},\n",
    "    \n",
    "    'lsvc': {'est__C':[1, 100],},\n",
    "    \n",
    "    'tree': {'est__max_depth': list(range(10, 20)),\n",
    "              'est__criterion': ['gini', 'entropy'],},\n",
    "    \n",
    "    'rf': {'est__n_estimators':[320, 340],\n",
    "            'est__max_depth': [8, 10,],\n",
    "            'est__random_state': [0],},\n",
    "    \n",
    "    'gb': {'est__loss':['deviance'],\n",
    "            'est__learning_rate': [0.01, 0.1],\n",
    "            'est__min_samples_split': np.linspace(0.1, 0.5, 2),\n",
    "            'est__min_samples_leaf': np.linspace(0.1, 0.5, 2),\n",
    "            'est__max_depth':[3,5],\n",
    "            'est__max_features':['log2','sqrt'],\n",
    "            'est__criterion': ['friedman_mse',  'mae'],\n",
    "            'est__subsample':[0.5, 1.0],\n",
    "            'est__n_estimators':[10],},\n",
    "    \n",
    "    'mlp': {'est__solver': ['lbfgs'],\n",
    "            'est__max_iter': [10000],\n",
    "            'est__alpha': 10.0 ** -np.arange(1, 3),\n",
    "            'est__hidden_layer_sizes':np.arange(10, 12),},\n",
    "    \n",
    "    'xgb': {'est__n_estimators':[100,500,],\n",
    "            'est__max_depth':[6, 8,10,],\n",
    "            'est__learning_rate':[0.001, 0.01, 0.1, 1,],\n",
    "            'est__min_child_weight': [1,6],},\n",
    "    \n",
    "    'lgbm': {'est__max_depth':[5,10, 20, 50,],\n",
    "            'est__learning_rate':[0.001, 0.01,0.1,1,],\n",
    "            'est__num_leaves':[10, 15, 31,],\n",
    "            'est__n_estimators':[100, 500,],},\n",
    "}"
   ]
  },
  {
   "cell_type": "markdown",
   "metadata": {
    "colab_type": "text",
    "id": "ZQRqx22mN7sq"
   },
   "source": [
    "### 7. 学習、評価"
   ]
  },
  {
   "cell_type": "code",
   "execution_count": 28,
   "metadata": {
    "colab": {},
    "colab_type": "code",
    "id": "ZYI69rogN7si"
   },
   "outputs": [],
   "source": [
    "# Holdout法(訓練データとテストデータに分ける)\n",
    "X_train, X_test, y_train, y_test=train_test_split(X_fin,\n",
    "                                               y,\n",
    "                                               test_size=0.3,\n",
    "                                               random_state=1)"
   ]
  },
  {
   "cell_type": "markdown",
   "metadata": {
    "colab_type": "text",
    "id": "EbAh94vVJJTY"
   },
   "source": [
    "Grid Searchのパラメータを設定"
   ]
  },
  {
   "cell_type": "code",
   "execution_count": 29,
   "metadata": {
    "colab": {},
    "colab_type": "code",
    "id": "6jx-8dmjJJTf",
    "outputId": "7309f74d-5bfa-456c-d9ee-2eb5a4c879d6"
   },
   "outputs": [
    {
     "name": "stdout",
     "output_type": "stream",
     "text": [
      "knn\n",
      "{'est__n_neighbors': [5, 7, 10], 'est__weights': ['uniform', 'distance']}\n",
      "time 7.088393926620483\n",
      "logistic\n",
      "{'est__C': [1, 100]}\n",
      "time 0.312730073928833\n",
      "rsvc\n",
      "{'est__C': [1, 100]}\n",
      "time 8.457305908203125\n",
      "lsvc\n",
      "{'est__C': [1, 100]}\n"
     ]
    },
    {
     "name": "stderr",
     "output_type": "stream",
     "text": [
      "/Users/hiromasa-t/opt/anaconda3/lib/python3.7/site-packages/sklearn/svm/_base.py:947: ConvergenceWarning: Liblinear failed to converge, increase the number of iterations.\n",
      "  \"the number of iterations.\", ConvergenceWarning)\n",
      "/Users/hiromasa-t/opt/anaconda3/lib/python3.7/site-packages/sklearn/svm/_base.py:947: ConvergenceWarning: Liblinear failed to converge, increase the number of iterations.\n",
      "  \"the number of iterations.\", ConvergenceWarning)\n",
      "/Users/hiromasa-t/opt/anaconda3/lib/python3.7/site-packages/sklearn/svm/_base.py:947: ConvergenceWarning: Liblinear failed to converge, increase the number of iterations.\n",
      "  \"the number of iterations.\", ConvergenceWarning)\n",
      "/Users/hiromasa-t/opt/anaconda3/lib/python3.7/site-packages/sklearn/svm/_base.py:947: ConvergenceWarning: Liblinear failed to converge, increase the number of iterations.\n",
      "  \"the number of iterations.\", ConvergenceWarning)\n",
      "/Users/hiromasa-t/opt/anaconda3/lib/python3.7/site-packages/sklearn/svm/_base.py:947: ConvergenceWarning: Liblinear failed to converge, increase the number of iterations.\n",
      "  \"the number of iterations.\", ConvergenceWarning)\n",
      "/Users/hiromasa-t/opt/anaconda3/lib/python3.7/site-packages/sklearn/svm/_base.py:947: ConvergenceWarning: Liblinear failed to converge, increase the number of iterations.\n",
      "  \"the number of iterations.\", ConvergenceWarning)\n",
      "/Users/hiromasa-t/opt/anaconda3/lib/python3.7/site-packages/sklearn/svm/_base.py:947: ConvergenceWarning: Liblinear failed to converge, increase the number of iterations.\n",
      "  \"the number of iterations.\", ConvergenceWarning)\n",
      "/Users/hiromasa-t/opt/anaconda3/lib/python3.7/site-packages/sklearn/svm/_base.py:947: ConvergenceWarning: Liblinear failed to converge, increase the number of iterations.\n",
      "  \"the number of iterations.\", ConvergenceWarning)\n",
      "/Users/hiromasa-t/opt/anaconda3/lib/python3.7/site-packages/sklearn/svm/_base.py:947: ConvergenceWarning: Liblinear failed to converge, increase the number of iterations.\n",
      "  \"the number of iterations.\", ConvergenceWarning)\n",
      "/Users/hiromasa-t/opt/anaconda3/lib/python3.7/site-packages/sklearn/svm/_base.py:947: ConvergenceWarning: Liblinear failed to converge, increase the number of iterations.\n",
      "  \"the number of iterations.\", ConvergenceWarning)\n",
      "/Users/hiromasa-t/opt/anaconda3/lib/python3.7/site-packages/sklearn/svm/_base.py:947: ConvergenceWarning: Liblinear failed to converge, increase the number of iterations.\n",
      "  \"the number of iterations.\", ConvergenceWarning)\n"
     ]
    },
    {
     "name": "stdout",
     "output_type": "stream",
     "text": [
      "time 6.591213941574097\n",
      "tree\n",
      "{'est__max_depth': [10, 11, 12, 13, 14, 15, 16, 17, 18, 19], 'est__criterion': ['gini', 'entropy']}\n",
      "time 2.6695716381073\n",
      "rf\n",
      "{'est__n_estimators': [320, 340], 'est__max_depth': [8, 10], 'est__random_state': [0]}\n",
      "time 30.02337408065796\n",
      "gb\n",
      "{'est__loss': ['deviance'], 'est__learning_rate': [0.01, 0.1], 'est__min_samples_split': array([0.1, 0.5]), 'est__min_samples_leaf': array([0.1, 0.5]), 'est__max_depth': [3, 5], 'est__max_features': ['log2', 'sqrt'], 'est__criterion': ['friedman_mse', 'mae'], 'est__subsample': [0.5, 1.0], 'est__n_estimators': [10]}\n",
      "time 247.65890526771545\n",
      "mlp\n",
      "{'est__solver': ['lbfgs'], 'est__max_iter': [10000], 'est__alpha': array([0.1 , 0.01]), 'est__hidden_layer_sizes': array([10, 11])}\n",
      "time 34.14618492126465\n",
      "xgb\n",
      "{'est__n_estimators': [100, 500], 'est__max_depth': [6, 8, 10], 'est__learning_rate': [0.001, 0.01, 0.1, 1], 'est__min_child_weight': [1, 6]}\n",
      "time 358.30641198158264\n",
      "lgbm\n",
      "{'est__max_depth': [5, 10, 20, 50], 'est__learning_rate': [0.001, 0.01, 0.1, 1], 'est__num_leaves': [10, 15, 31], 'est__n_estimators': [100, 500]}\n",
      "time 125.32441806793213\n",
      "---accuracy---\n"
     ]
    },
    {
     "data": {
      "text/html": [
       "<div>\n",
       "<style scoped>\n",
       "    .dataframe tbody tr th:only-of-type {\n",
       "        vertical-align: middle;\n",
       "    }\n",
       "\n",
       "    .dataframe tbody tr th {\n",
       "        vertical-align: top;\n",
       "    }\n",
       "\n",
       "    .dataframe thead th {\n",
       "        text-align: right;\n",
       "    }\n",
       "</style>\n",
       "<table border=\"1\" class=\"dataframe\">\n",
       "  <thead>\n",
       "    <tr style=\"text-align: right;\">\n",
       "      <th></th>\n",
       "      <th>test</th>\n",
       "      <th>train</th>\n",
       "    </tr>\n",
       "  </thead>\n",
       "  <tbody>\n",
       "    <tr>\n",
       "      <th>gb</th>\n",
       "      <td>0.817143</td>\n",
       "      <td>0.820656</td>\n",
       "    </tr>\n",
       "    <tr>\n",
       "      <th>knn</th>\n",
       "      <td>0.957460</td>\n",
       "      <td>1.000000</td>\n",
       "    </tr>\n",
       "    <tr>\n",
       "      <th>lgbm</th>\n",
       "      <td>0.986667</td>\n",
       "      <td>1.000000</td>\n",
       "    </tr>\n",
       "    <tr>\n",
       "      <th>logistic</th>\n",
       "      <td>0.789524</td>\n",
       "      <td>0.790448</td>\n",
       "    </tr>\n",
       "    <tr>\n",
       "      <th>lsvc</th>\n",
       "      <td>0.747937</td>\n",
       "      <td>0.753300</td>\n",
       "    </tr>\n",
       "    <tr>\n",
       "      <th>mlp</th>\n",
       "      <td>0.960317</td>\n",
       "      <td>0.969111</td>\n",
       "    </tr>\n",
       "    <tr>\n",
       "      <th>rf</th>\n",
       "      <td>0.976508</td>\n",
       "      <td>0.984488</td>\n",
       "    </tr>\n",
       "    <tr>\n",
       "      <th>rsvc</th>\n",
       "      <td>0.955238</td>\n",
       "      <td>0.982583</td>\n",
       "    </tr>\n",
       "    <tr>\n",
       "      <th>tree</th>\n",
       "      <td>0.974603</td>\n",
       "      <td>0.990339</td>\n",
       "    </tr>\n",
       "    <tr>\n",
       "      <th>xgb</th>\n",
       "      <td>0.985079</td>\n",
       "      <td>1.000000</td>\n",
       "    </tr>\n",
       "  </tbody>\n",
       "</table>\n",
       "</div>"
      ],
      "text/plain": [
       "              test     train\n",
       "gb        0.817143  0.820656\n",
       "knn       0.957460  1.000000\n",
       "lgbm      0.986667  1.000000\n",
       "logistic  0.789524  0.790448\n",
       "lsvc      0.747937  0.753300\n",
       "mlp       0.960317  0.969111\n",
       "rf        0.976508  0.984488\n",
       "rsvc      0.955238  0.982583\n",
       "tree      0.974603  0.990339\n",
       "xgb       0.985079  1.000000"
      ]
     },
     "execution_count": 29,
     "metadata": {},
     "output_type": "execute_result"
    }
   ],
   "source": [
    "#  評価指標\n",
    "evaluation_scoring = 'f1'\n",
    "\n",
    "# スコア格納用リストの初期化（Dict型）\n",
    "scores = {}\n",
    "\n",
    "# GridSearchのパラメータ、スコア格納用リストの初期化\n",
    "best_params ={}\n",
    "best_scores ={}\n",
    "\n",
    "# パイプラインの先頭にある文字列（例えば、'KNN')が pipe_name に、各パイプラインのインスタンスがpipelineに順次入る\n",
    "\n",
    "for pipe_name, pipeline in pipelines.items():\n",
    "    print(pipe_name)\n",
    "    print(params[pipe_name])\n",
    "    start = time.time()\n",
    "    gs = GridSearchCV(estimator=pipeline,\n",
    "                     param_grid = params[pipe_name],\n",
    "                     scoring=evaluation_scoring,\n",
    "                     cv=5,\n",
    "                     return_train_score=False)\n",
    "    # 学習\n",
    "    gs.fit(X_train, y_train)\n",
    "    \n",
    "    print('time', time.time()-start)\n",
    "    scores[(pipe_name,'train')] = accuracy_score(y_train, gs.predict(X_train))\n",
    "    scores[(pipe_name,'test')] = accuracy_score(y_test, gs.predict(X_test))\n",
    "    best_params[pipe_name] = gs.best_params_\n",
    "    best_scores[pipe_name] = gs.best_score_\n",
    "    \n",
    "    # 各モデル格納用のディレクトリ を作成\n",
    "    os.makedirs('../models/pipeline_models', exist_ok=True)\n",
    "     # 各モデル保存(modelフォルダー)\n",
    "    file_name = '../models/pipeline_models/'+pipe_name+str(time.time())+'.pkl'\n",
    "    pickle.dump(pipeline, open(file_name, 'wb'))\n",
    "\n",
    "print('---accuracy---')\n",
    "pd.Series(scores).unstack()"
   ]
  },
  {
   "cell_type": "markdown",
   "metadata": {
    "colab_type": "text",
    "id": "Asit4KWnJJTn"
   },
   "source": [
    "ラジオボタンで選択するモデル"
   ]
  },
  {
   "cell_type": "code",
   "execution_count": 30,
   "metadata": {
    "colab": {},
    "colab_type": "code",
    "id": "QhOldaQoJJTn",
    "outputId": "32c28f58-baa2-4a16-e8b9-d0cb18999c99"
   },
   "outputs": [
    {
     "data": {
      "text/plain": [
       "{('knn', 'train'): 1.0,\n",
       " ('knn', 'test'): 0.9574603174603175,\n",
       " ('logistic', 'train'): 0.7904476799564567,\n",
       " ('logistic', 'test'): 0.7895238095238095,\n",
       " ('rsvc', 'train'): 0.9825826643080692,\n",
       " ('rsvc', 'test'): 0.9552380952380952,\n",
       " ('lsvc', 'train'): 0.7532997686760103,\n",
       " ('lsvc', 'test'): 0.7479365079365079,\n",
       " ('tree', 'train'): 0.990338821608382,\n",
       " ('tree', 'test'): 0.9746031746031746,\n",
       " ('rf', 'train'): 0.984487685399374,\n",
       " ('rf', 'test'): 0.9765079365079365,\n",
       " ('gb', 'train'): 0.8206558715471493,\n",
       " ('gb', 'test'): 0.8171428571428572,\n",
       " ('mlp', 'train'): 0.9691114437338414,\n",
       " ('mlp', 'test'): 0.9603174603174603,\n",
       " ('xgb', 'train'): 1.0,\n",
       " ('xgb', 'test'): 0.9850793650793651,\n",
       " ('lgbm', 'train'): 1.0,\n",
       " ('lgbm', 'test'): 0.9866666666666667}"
      ]
     },
     "execution_count": 30,
     "metadata": {},
     "output_type": "execute_result"
    }
   ],
   "source": [
    "scores"
   ]
  },
  {
   "cell_type": "code",
   "execution_count": 59,
   "metadata": {},
   "outputs": [
    {
     "data": {
      "text/plain": [
       "{'knn': 0.898906054088131,\n",
       " 'logistic': 0.4470123588261713,\n",
       " 'rsvc': 0.9050709120684335,\n",
       " 'lsvc': 0.6048973471466998,\n",
       " 'tree': 0.9489598325569286,\n",
       " 'rf': 0.9480085299053954,\n",
       " 'gb': 0.4488457486521494,\n",
       " 'mlp': 0.9112046475613489,\n",
       " 'xgb': 0.9648079085800434,\n",
       " 'lgbm': 0.9685688853930448}"
      ]
     },
     "execution_count": 59,
     "metadata": {},
     "output_type": "execute_result"
    }
   ],
   "source": [
    "best_scores"
   ]
  },
  {
   "cell_type": "code",
   "execution_count": 58,
   "metadata": {},
   "outputs": [
    {
     "data": {
      "text/plain": [
       "{'knn': {'est__n_neighbors': 5, 'est__weights': 'distance'},\n",
       " 'logistic': {'est__C': 100},\n",
       " 'rsvc': {'est__C': 100},\n",
       " 'lsvc': {'est__C': 1},\n",
       " 'tree': {'est__criterion': 'entropy', 'est__max_depth': 11},\n",
       " 'rf': {'est__max_depth': 10,\n",
       "  'est__n_estimators': 340,\n",
       "  'est__random_state': 0},\n",
       " 'gb': {'est__criterion': 'friedman_mse',\n",
       "  'est__learning_rate': 0.1,\n",
       "  'est__loss': 'deviance',\n",
       "  'est__max_depth': 3,\n",
       "  'est__max_features': 'log2',\n",
       "  'est__min_samples_leaf': 0.1,\n",
       "  'est__min_samples_split': 0.1,\n",
       "  'est__n_estimators': 10,\n",
       "  'est__subsample': 1.0},\n",
       " 'mlp': {'est__alpha': 0.01,\n",
       "  'est__hidden_layer_sizes': 10,\n",
       "  'est__max_iter': 10000,\n",
       "  'est__solver': 'lbfgs'},\n",
       " 'xgb': {'est__learning_rate': 0.1,\n",
       "  'est__max_depth': 8,\n",
       "  'est__min_child_weight': 1,\n",
       "  'est__n_estimators': 500},\n",
       " 'lgbm': {'est__learning_rate': 0.1,\n",
       "  'est__max_depth': 50,\n",
       "  'est__n_estimators': 500,\n",
       "  'est__num_leaves': 31}}"
      ]
     },
     "execution_count": 58,
     "metadata": {},
     "output_type": "execute_result"
    }
   ],
   "source": [
    "best_params"
   ]
  },
  {
   "cell_type": "markdown",
   "metadata": {
    "colab_type": "text",
    "id": "kU3CaGZdN7s1"
   },
   "source": [
    "### 8. モデルの選定"
   ]
  },
  {
   "cell_type": "code",
   "execution_count": 31,
   "metadata": {
    "colab": {},
    "colab_type": "code",
    "id": "B9YaWFbRN7st"
   },
   "outputs": [],
   "source": [
    "def get_answer(x):\n",
    "    return x"
   ]
  },
  {
   "cell_type": "code",
   "execution_count": 38,
   "metadata": {
    "colab": {},
    "colab_type": "code",
    "id": "83xvLma9N7sv",
    "outputId": "cf096ed2-07ec-4258-8f17-d5940cd24360"
   },
   "outputs": [
    {
     "data": {
      "application/vnd.jupyter.widget-view+json": {
       "model_id": "ab31543518e5456a86f5aed877787bf4",
       "version_major": 2,
       "version_minor": 0
      },
      "text/plain": [
       "RadioButtons(options=('knn', 'logistic', 'rsvc', 'lsvc', 'tree', 'rf', 'gb', 'mlp', 'xgb', 'lgbm'), value='knn…"
      ]
     },
     "metadata": {},
     "output_type": "display_data"
    }
   ],
   "source": [
    "model_selection = get_answer(widgets.RadioButtons(options=pipelines.keys()))\n",
    "display(model_selection)"
   ]
  },
  {
   "cell_type": "code",
   "execution_count": 64,
   "metadata": {
    "colab": {},
    "colab_type": "code",
    "id": "x_-4k9R9N7sy",
    "outputId": "650ee6c0-1297-4448-c2de-705e58a4a316"
   },
   "outputs": [
    {
     "name": "stdout",
     "output_type": "stream",
     "text": [
      "xgb\n"
     ]
    }
   ],
   "source": [
    "final_model_name = model_selection.value\n",
    "print(final_model_name)"
   ]
  },
  {
   "cell_type": "code",
   "execution_count": 74,
   "metadata": {},
   "outputs": [
    {
     "name": "stdout",
     "output_type": "stream",
     "text": [
      "0.9438832772166106\n"
     ]
    }
   ],
   "source": [
    "# final_param = best_params['lgbm']\n",
    "# final_model=lgb.LGBMClassifier(**final_param)\n",
    "# final_model.fit(X_fin, y)\n",
    "# print(final_model.score(X_fin, y))"
   ]
  },
  {
   "cell_type": "code",
   "execution_count": 65,
   "metadata": {
    "colab": {},
    "colab_type": "code",
    "id": "xtwB3UEFN7s1",
    "outputId": "28b01f13-f040-489a-fe22-0db002fed1ed"
   },
   "outputs": [
    {
     "name": "stdout",
     "output_type": "stream",
     "text": [
      "0.99761882084008\n"
     ]
    }
   ],
   "source": [
    "# 全データを使った学習\n",
    "final_model = pipelines[final_model_name].fit(X_fin, y)\n",
    "print(final_model.score(X_fin, y))\n",
    "\n",
    "# モデル格納用のディレクトリ を作成\n",
    "os.makedirs('../models/final_model', exist_ok=True)\n",
    "# モデル保存(modelフォルダー)\n",
    "file_name = '../models/final_model/'+'final_model_'+ final_model_name +'.pkl'\n",
    "pickle.dump(final_model, open(file_name, 'wb'))"
   ]
  },
  {
   "cell_type": "code",
   "execution_count": 41,
   "metadata": {},
   "outputs": [
    {
     "data": {
      "image/png": "[encoded data removed]",
      "text/plain": [
       "<Figure size 432x288 with 1 Axes>"
      ]
     },
     "metadata": {
      "needs_background": "light"
     },
     "output_type": "display_data"
    }
   ],
   "source": [
    "from sklearn import metrics\n",
    "import matplotlib.pyplot as plt\n",
    "import numpy as np\n",
    "\n",
    "y_pred_m = final_model.predict(X_fin)\n",
    "\n",
    "# FPR, TPR(, しきい値) を算出\n",
    "fpr, tpr, thresholds = metrics.roc_curve(y, y_pred_m)\n",
    "\n",
    "# ついでにAUCも\n",
    "auc = metrics.auc(fpr, tpr)\n",
    "\n",
    "# ROC曲線をプロット\n",
    "plt.plot(fpr, tpr, label='ROC curve (area = %.2f)'%auc)\n",
    "plt.legend()\n",
    "plt.title('ROC curve')\n",
    "plt.xlabel('False Positive Rate')\n",
    "plt.ylabel('True Positive Rate')\n",
    "plt.grid(True)"
   ]
  },
  {
   "cell_type": "code",
   "execution_count": 57,
   "metadata": {},
   "outputs": [
    {
     "name": "stdout",
     "output_type": "stream",
     "text": [
      "0.9904648390941597\n"
     ]
    }
   ],
   "source": [
    "from sklearn.metrics import f1_score\n",
    "print(f1_score(y, y_pred_m))"
   ]
  },
  {
   "cell_type": "markdown",
   "metadata": {
    "colab_type": "text",
    "id": "gBJa13UxN7s4"
   },
   "source": [
    "### 10. スコアリングフェーズ  \n",
    "#### 10-1. スコアリングフェーズ：スコアリング用のデータ読み出し"
   ]
  },
  {
   "cell_type": "code",
   "execution_count": 42,
   "metadata": {
    "colab": {},
    "colab_type": "code",
    "id": "3uoNF1MBN7s7",
    "outputId": "8aa1384f-a331-49d2-9d4b-e3e247f2f3da"
   },
   "outputs": [
    {
     "name": "stdout",
     "output_type": "stream",
     "text": [
      "-----------------------------------\n",
      "Raw Shape: (4500, 11)\n",
      "X_s Shape: (4500, 10)\n",
      "-----------------------------------\n",
      "left                     float64\n",
      "satisfaction_level       float64\n",
      "last_evaluation          float64\n",
      "number_project             int64\n",
      "average_montly_hours       int64\n",
      "time_spend_company         int64\n",
      "Work_accident              int64\n",
      "promotion_last_5years      int64\n",
      "sales                     object\n",
      "salary                    object\n",
      "dtype: object\n"
     ]
    },
    {
     "data": {
      "text/html": [
       "<div>\n",
       "<style scoped>\n",
       "    .dataframe tbody tr th:only-of-type {\n",
       "        vertical-align: middle;\n",
       "    }\n",
       "\n",
       "    .dataframe tbody tr th {\n",
       "        vertical-align: top;\n",
       "    }\n",
       "\n",
       "    .dataframe thead th {\n",
       "        text-align: right;\n",
       "    }\n",
       "</style>\n",
       "<table border=\"1\" class=\"dataframe\">\n",
       "  <thead>\n",
       "    <tr style=\"text-align: right;\">\n",
       "      <th></th>\n",
       "      <th>index</th>\n",
       "      <th>left</th>\n",
       "      <th>satisfaction_level</th>\n",
       "      <th>last_evaluation</th>\n",
       "      <th>number_project</th>\n",
       "      <th>average_montly_hours</th>\n",
       "      <th>time_spend_company</th>\n",
       "      <th>Work_accident</th>\n",
       "      <th>promotion_last_5years</th>\n",
       "      <th>sales</th>\n",
       "      <th>salary</th>\n",
       "    </tr>\n",
       "  </thead>\n",
       "  <tbody>\n",
       "    <tr>\n",
       "      <th>0</th>\n",
       "      <td>1670</td>\n",
       "      <td>NaN</td>\n",
       "      <td>0.44</td>\n",
       "      <td>0.57</td>\n",
       "      <td>2</td>\n",
       "      <td>141</td>\n",
       "      <td>3</td>\n",
       "      <td>0</td>\n",
       "      <td>0</td>\n",
       "      <td>product_mng</td>\n",
       "      <td>medium</td>\n",
       "    </tr>\n",
       "    <tr>\n",
       "      <th>1</th>\n",
       "      <td>13378</td>\n",
       "      <td>NaN</td>\n",
       "      <td>0.55</td>\n",
       "      <td>0.96</td>\n",
       "      <td>3</td>\n",
       "      <td>194</td>\n",
       "      <td>3</td>\n",
       "      <td>0</td>\n",
       "      <td>0</td>\n",
       "      <td>product_mng</td>\n",
       "      <td>medium</td>\n",
       "    </tr>\n",
       "    <tr>\n",
       "      <th>2</th>\n",
       "      <td>10233</td>\n",
       "      <td>NaN</td>\n",
       "      <td>0.72</td>\n",
       "      <td>0.67</td>\n",
       "      <td>5</td>\n",
       "      <td>210</td>\n",
       "      <td>2</td>\n",
       "      <td>0</td>\n",
       "      <td>0</td>\n",
       "      <td>management</td>\n",
       "      <td>medium</td>\n",
       "    </tr>\n",
       "    <tr>\n",
       "      <th>3</th>\n",
       "      <td>4719</td>\n",
       "      <td>NaN</td>\n",
       "      <td>0.96</td>\n",
       "      <td>0.75</td>\n",
       "      <td>4</td>\n",
       "      <td>177</td>\n",
       "      <td>2</td>\n",
       "      <td>0</td>\n",
       "      <td>0</td>\n",
       "      <td>IT</td>\n",
       "      <td>low</td>\n",
       "    </tr>\n",
       "    <tr>\n",
       "      <th>4</th>\n",
       "      <td>7003</td>\n",
       "      <td>NaN</td>\n",
       "      <td>0.96</td>\n",
       "      <td>0.54</td>\n",
       "      <td>3</td>\n",
       "      <td>198</td>\n",
       "      <td>3</td>\n",
       "      <td>0</td>\n",
       "      <td>0</td>\n",
       "      <td>support</td>\n",
       "      <td>low</td>\n",
       "    </tr>\n",
       "  </tbody>\n",
       "</table>\n",
       "</div>"
      ],
      "text/plain": [
       "   index  left  satisfaction_level  last_evaluation  number_project  \\\n",
       "0   1670   NaN                0.44             0.57               2   \n",
       "1  13378   NaN                0.55             0.96               3   \n",
       "2  10233   NaN                0.72             0.67               5   \n",
       "3   4719   NaN                0.96             0.75               4   \n",
       "4   7003   NaN                0.96             0.54               3   \n",
       "\n",
       "   average_montly_hours  time_spend_company  Work_accident  \\\n",
       "0                   141                   3              0   \n",
       "1                   194                   3              0   \n",
       "2                   210                   2              0   \n",
       "3                   177                   2              0   \n",
       "4                   198                   3              0   \n",
       "\n",
       "   promotion_last_5years        sales  salary  \n",
       "0                      0  product_mng  medium  \n",
       "1                      0  product_mng  medium  \n",
       "2                      0   management  medium  \n",
       "3                      0           IT     low  \n",
       "4                      0      support     low  "
      ]
     },
     "execution_count": 42,
     "metadata": {},
     "output_type": "execute_result"
    }
   ],
   "source": [
    "# csvファイルからの読み出し\n",
    "dataset_s = pd.read_csv(test_file,\n",
    "                          header=0,    # CSVデータの1行目が見出し(header)で有ることを指定。データは1行目が[0]\n",
    "                          dtype=my_dtype)\n",
    "\n",
    "# 1列目のID情報、推論対象は特徴量から削除\n",
    "ID_s = dataset_s.iloc[:,[0]]    # 第０列はPassengerIDなので、IDとしてセット\n",
    "X_s = dataset_s.drop(score_reject_items, axis=1)    # 1列目はID情報のため特徴量から削除\n",
    "\n",
    "# 形状の確認\n",
    "print('-----------------------------------')\n",
    "print('Raw Shape: (%i, %i)' %dataset_s.shape)\n",
    "print('X_s Shape: (%i, %i)' %X_s.shape)\n",
    "print('-----------------------------------')\n",
    "print(X_s.dtypes)\n",
    "ID_s.join(X_s).head()"
   ]
  },
  {
   "cell_type": "markdown",
   "metadata": {},
   "source": [
    "#### 10-2. スコアリングフェーズ：one-hot-encoding処理"
   ]
  },
  {
   "cell_type": "code",
   "execution_count": 43,
   "metadata": {
    "colab": {},
    "colab_type": "code",
    "id": "XU1_kZvJN7s-",
    "outputId": "ae47640b-62bc-41d2-9623-4c676abbaaf8"
   },
   "outputs": [
    {
     "name": "stdout",
     "output_type": "stream",
     "text": [
      "X_ohe_s shape:(4500,23)\n"
     ]
    },
    {
     "data": {
      "text/html": [
       "<div>\n",
       "<style scoped>\n",
       "    .dataframe tbody tr th:only-of-type {\n",
       "        vertical-align: middle;\n",
       "    }\n",
       "\n",
       "    .dataframe tbody tr th {\n",
       "        vertical-align: top;\n",
       "    }\n",
       "\n",
       "    .dataframe thead th {\n",
       "        text-align: right;\n",
       "    }\n",
       "</style>\n",
       "<table border=\"1\" class=\"dataframe\">\n",
       "  <thead>\n",
       "    <tr style=\"text-align: right;\">\n",
       "      <th></th>\n",
       "      <th>left</th>\n",
       "      <th>satisfaction_level</th>\n",
       "      <th>last_evaluation</th>\n",
       "      <th>number_project</th>\n",
       "      <th>average_montly_hours</th>\n",
       "      <th>time_spend_company</th>\n",
       "      <th>Work_accident</th>\n",
       "      <th>promotion_last_5years</th>\n",
       "      <th>sales_IT</th>\n",
       "      <th>sales_RandD</th>\n",
       "      <th>sales_accounting</th>\n",
       "      <th>sales_hr</th>\n",
       "      <th>sales_management</th>\n",
       "      <th>sales_marketing</th>\n",
       "      <th>sales_product_mng</th>\n",
       "      <th>sales_sales</th>\n",
       "      <th>sales_support</th>\n",
       "      <th>sales_technical</th>\n",
       "      <th>sales_nan</th>\n",
       "      <th>salary_high</th>\n",
       "      <th>salary_low</th>\n",
       "      <th>salary_medium</th>\n",
       "      <th>salary_nan</th>\n",
       "    </tr>\n",
       "  </thead>\n",
       "  <tbody>\n",
       "    <tr>\n",
       "      <th>0</th>\n",
       "      <td>NaN</td>\n",
       "      <td>0.44</td>\n",
       "      <td>0.57</td>\n",
       "      <td>2</td>\n",
       "      <td>141</td>\n",
       "      <td>3</td>\n",
       "      <td>0</td>\n",
       "      <td>0</td>\n",
       "      <td>0</td>\n",
       "      <td>0</td>\n",
       "      <td>0</td>\n",
       "      <td>0</td>\n",
       "      <td>0</td>\n",
       "      <td>0</td>\n",
       "      <td>1</td>\n",
       "      <td>0</td>\n",
       "      <td>0</td>\n",
       "      <td>0</td>\n",
       "      <td>0</td>\n",
       "      <td>0</td>\n",
       "      <td>0</td>\n",
       "      <td>1</td>\n",
       "      <td>0</td>\n",
       "    </tr>\n",
       "    <tr>\n",
       "      <th>1</th>\n",
       "      <td>NaN</td>\n",
       "      <td>0.55</td>\n",
       "      <td>0.96</td>\n",
       "      <td>3</td>\n",
       "      <td>194</td>\n",
       "      <td>3</td>\n",
       "      <td>0</td>\n",
       "      <td>0</td>\n",
       "      <td>0</td>\n",
       "      <td>0</td>\n",
       "      <td>0</td>\n",
       "      <td>0</td>\n",
       "      <td>0</td>\n",
       "      <td>0</td>\n",
       "      <td>1</td>\n",
       "      <td>0</td>\n",
       "      <td>0</td>\n",
       "      <td>0</td>\n",
       "      <td>0</td>\n",
       "      <td>0</td>\n",
       "      <td>0</td>\n",
       "      <td>1</td>\n",
       "      <td>0</td>\n",
       "    </tr>\n",
       "    <tr>\n",
       "      <th>2</th>\n",
       "      <td>NaN</td>\n",
       "      <td>0.72</td>\n",
       "      <td>0.67</td>\n",
       "      <td>5</td>\n",
       "      <td>210</td>\n",
       "      <td>2</td>\n",
       "      <td>0</td>\n",
       "      <td>0</td>\n",
       "      <td>0</td>\n",
       "      <td>0</td>\n",
       "      <td>0</td>\n",
       "      <td>0</td>\n",
       "      <td>1</td>\n",
       "      <td>0</td>\n",
       "      <td>0</td>\n",
       "      <td>0</td>\n",
       "      <td>0</td>\n",
       "      <td>0</td>\n",
       "      <td>0</td>\n",
       "      <td>0</td>\n",
       "      <td>0</td>\n",
       "      <td>1</td>\n",
       "      <td>0</td>\n",
       "    </tr>\n",
       "  </tbody>\n",
       "</table>\n",
       "</div>"
      ],
      "text/plain": [
       "   left  satisfaction_level  last_evaluation  number_project  \\\n",
       "0   NaN                0.44             0.57               2   \n",
       "1   NaN                0.55             0.96               3   \n",
       "2   NaN                0.72             0.67               5   \n",
       "\n",
       "   average_montly_hours  time_spend_company  Work_accident  \\\n",
       "0                   141                   3              0   \n",
       "1                   194                   3              0   \n",
       "2                   210                   2              0   \n",
       "\n",
       "   promotion_last_5years  sales_IT  sales_RandD  sales_accounting  sales_hr  \\\n",
       "0                      0         0            0                 0         0   \n",
       "1                      0         0            0                 0         0   \n",
       "2                      0         0            0                 0         0   \n",
       "\n",
       "   sales_management  sales_marketing  sales_product_mng  sales_sales  \\\n",
       "0                 0                0                  1            0   \n",
       "1                 0                0                  1            0   \n",
       "2                 1                0                  0            0   \n",
       "\n",
       "   sales_support  sales_technical  sales_nan  salary_high  salary_low  \\\n",
       "0              0                0          0            0           0   \n",
       "1              0                0          0            0           0   \n",
       "2              0                0          0            0           0   \n",
       "\n",
       "   salary_medium  salary_nan  \n",
       "0              1           0  \n",
       "1              1           0  \n",
       "2              1           0  "
      ]
     },
     "execution_count": 43,
     "metadata": {},
     "output_type": "execute_result"
    }
   ],
   "source": [
    "X_ohe_s = pd.get_dummies(X_s,\n",
    "                         dummy_na=True,\n",
    "                         columns=ohe_columns)\n",
    "print('X_ohe_s shape:(%i,%i)' % X_ohe_s.shape)\n",
    "X_ohe_s.head(3)"
   ]
  },
  {
   "cell_type": "markdown",
   "metadata": {
    "colab_type": "text",
    "id": "T6qvnySmN7tD"
   },
   "source": [
    "#### 10-3. スコアリングフェーズ：one-hot encoding後のデータ整合チェック"
   ]
  },
  {
   "cell_type": "code",
   "execution_count": 44,
   "metadata": {
    "colab": {},
    "colab_type": "code",
    "id": "hBsuLXkAN7tD",
    "outputId": "2b921661-56bf-4ce5-da30-34ba5878958f"
   },
   "outputs": [
    {
     "name": "stdout",
     "output_type": "stream",
     "text": [
      "モデル用データのみに存在する項目: set()\n",
      "スコア用データのみに存在する項目: {'left'}\n"
     ]
    }
   ],
   "source": [
    "cols_model= set(X_ohe.columns.values)\n",
    "cols_score = set(X_ohe_s.columns.values)\n",
    "\n",
    "diff1 = cols_model - cols_score\n",
    "print('モデル用データのみに存在する項目: %s' %diff1)\n",
    "\n",
    "diff2 = cols_score - cols_model\n",
    "print('スコア用データのみに存在する項目: %s' %diff2)"
   ]
  },
  {
   "cell_type": "markdown",
   "metadata": {},
   "source": [
    "#### 10-4. スコアリングフェーズ：one-hot-encoding後のデータ不整合の解消"
   ]
  },
  {
   "cell_type": "markdown",
   "metadata": {},
   "source": [
    "##### 不整合解消のための基本指針\n",
    "- モデル用にはあるが、スコア用に存在しない変数は復活させる\n",
    "- スコア用データにあるが、モデル用に存在しない変数は削除する"
   ]
  },
  {
   "cell_type": "code",
   "execution_count": 45,
   "metadata": {},
   "outputs": [
    {
     "data": {
      "text/html": [
       "<div>\n",
       "<style scoped>\n",
       "    .dataframe tbody tr th:only-of-type {\n",
       "        vertical-align: middle;\n",
       "    }\n",
       "\n",
       "    .dataframe tbody tr th {\n",
       "        vertical-align: top;\n",
       "    }\n",
       "\n",
       "    .dataframe thead th {\n",
       "        text-align: right;\n",
       "    }\n",
       "</style>\n",
       "<table border=\"1\" class=\"dataframe\">\n",
       "  <thead>\n",
       "    <tr style=\"text-align: right;\">\n",
       "      <th></th>\n",
       "      <th>satisfaction_level</th>\n",
       "      <th>last_evaluation</th>\n",
       "      <th>number_project</th>\n",
       "      <th>average_montly_hours</th>\n",
       "      <th>time_spend_company</th>\n",
       "      <th>Work_accident</th>\n",
       "      <th>promotion_last_5years</th>\n",
       "      <th>sales_IT</th>\n",
       "      <th>sales_RandD</th>\n",
       "      <th>sales_accounting</th>\n",
       "      <th>sales_hr</th>\n",
       "      <th>sales_management</th>\n",
       "      <th>sales_marketing</th>\n",
       "      <th>sales_product_mng</th>\n",
       "      <th>sales_sales</th>\n",
       "      <th>sales_support</th>\n",
       "      <th>sales_technical</th>\n",
       "      <th>sales_nan</th>\n",
       "      <th>salary_high</th>\n",
       "      <th>salary_low</th>\n",
       "      <th>salary_medium</th>\n",
       "      <th>salary_nan</th>\n",
       "    </tr>\n",
       "  </thead>\n",
       "  <tbody>\n",
       "  </tbody>\n",
       "</table>\n",
       "</div>"
      ],
      "text/plain": [
       "Empty DataFrame\n",
       "Columns: [satisfaction_level, last_evaluation, number_project, average_montly_hours, time_spend_company, Work_accident, promotion_last_5years, sales_IT, sales_RandD, sales_accounting, sales_hr, sales_management, sales_marketing, sales_product_mng, sales_sales, sales_support, sales_technical, sales_nan, salary_high, salary_low, salary_medium, salary_nan]\n",
       "Index: []"
      ]
     },
     "metadata": {},
     "output_type": "display_data"
    }
   ],
   "source": [
    "dataset_cols_m = pd.DataFrame(None,    # 空のデータ\n",
    "                         columns=X_ohe_columns,# モデリング時のone-hot-encoding後のカラム構成\n",
    "                         dtype=float)\n",
    "display(dataset_cols_m)"
   ]
  },
  {
   "cell_type": "code",
   "execution_count": 46,
   "metadata": {},
   "outputs": [
    {
     "name": "stdout",
     "output_type": "stream",
     "text": [
      "(4500, 23)\n"
     ]
    },
    {
     "data": {
      "text/html": [
       "<div>\n",
       "<style scoped>\n",
       "    .dataframe tbody tr th:only-of-type {\n",
       "        vertical-align: middle;\n",
       "    }\n",
       "\n",
       "    .dataframe tbody tr th {\n",
       "        vertical-align: top;\n",
       "    }\n",
       "\n",
       "    .dataframe thead th {\n",
       "        text-align: right;\n",
       "    }\n",
       "</style>\n",
       "<table border=\"1\" class=\"dataframe\">\n",
       "  <thead>\n",
       "    <tr style=\"text-align: right;\">\n",
       "      <th></th>\n",
       "      <th>satisfaction_level</th>\n",
       "      <th>last_evaluation</th>\n",
       "      <th>number_project</th>\n",
       "      <th>average_montly_hours</th>\n",
       "      <th>time_spend_company</th>\n",
       "      <th>Work_accident</th>\n",
       "      <th>promotion_last_5years</th>\n",
       "      <th>sales_IT</th>\n",
       "      <th>sales_RandD</th>\n",
       "      <th>sales_accounting</th>\n",
       "      <th>sales_hr</th>\n",
       "      <th>sales_management</th>\n",
       "      <th>sales_marketing</th>\n",
       "      <th>sales_product_mng</th>\n",
       "      <th>sales_sales</th>\n",
       "      <th>sales_support</th>\n",
       "      <th>sales_technical</th>\n",
       "      <th>sales_nan</th>\n",
       "      <th>salary_high</th>\n",
       "      <th>salary_low</th>\n",
       "      <th>salary_medium</th>\n",
       "      <th>salary_nan</th>\n",
       "      <th>left</th>\n",
       "    </tr>\n",
       "  </thead>\n",
       "  <tbody>\n",
       "    <tr>\n",
       "      <th>0</th>\n",
       "      <td>0.44</td>\n",
       "      <td>0.57</td>\n",
       "      <td>2.0</td>\n",
       "      <td>141.0</td>\n",
       "      <td>3.0</td>\n",
       "      <td>0.0</td>\n",
       "      <td>0.0</td>\n",
       "      <td>0.0</td>\n",
       "      <td>0.0</td>\n",
       "      <td>0.0</td>\n",
       "      <td>0.0</td>\n",
       "      <td>0.0</td>\n",
       "      <td>0.0</td>\n",
       "      <td>1.0</td>\n",
       "      <td>0.0</td>\n",
       "      <td>0.0</td>\n",
       "      <td>0.0</td>\n",
       "      <td>0.0</td>\n",
       "      <td>0.0</td>\n",
       "      <td>0.0</td>\n",
       "      <td>1.0</td>\n",
       "      <td>0.0</td>\n",
       "      <td>NaN</td>\n",
       "    </tr>\n",
       "    <tr>\n",
       "      <th>1</th>\n",
       "      <td>0.55</td>\n",
       "      <td>0.96</td>\n",
       "      <td>3.0</td>\n",
       "      <td>194.0</td>\n",
       "      <td>3.0</td>\n",
       "      <td>0.0</td>\n",
       "      <td>0.0</td>\n",
       "      <td>0.0</td>\n",
       "      <td>0.0</td>\n",
       "      <td>0.0</td>\n",
       "      <td>0.0</td>\n",
       "      <td>0.0</td>\n",
       "      <td>0.0</td>\n",
       "      <td>1.0</td>\n",
       "      <td>0.0</td>\n",
       "      <td>0.0</td>\n",
       "      <td>0.0</td>\n",
       "      <td>0.0</td>\n",
       "      <td>0.0</td>\n",
       "      <td>0.0</td>\n",
       "      <td>1.0</td>\n",
       "      <td>0.0</td>\n",
       "      <td>NaN</td>\n",
       "    </tr>\n",
       "    <tr>\n",
       "      <th>2</th>\n",
       "      <td>0.72</td>\n",
       "      <td>0.67</td>\n",
       "      <td>5.0</td>\n",
       "      <td>210.0</td>\n",
       "      <td>2.0</td>\n",
       "      <td>0.0</td>\n",
       "      <td>0.0</td>\n",
       "      <td>0.0</td>\n",
       "      <td>0.0</td>\n",
       "      <td>0.0</td>\n",
       "      <td>0.0</td>\n",
       "      <td>1.0</td>\n",
       "      <td>0.0</td>\n",
       "      <td>0.0</td>\n",
       "      <td>0.0</td>\n",
       "      <td>0.0</td>\n",
       "      <td>0.0</td>\n",
       "      <td>0.0</td>\n",
       "      <td>0.0</td>\n",
       "      <td>0.0</td>\n",
       "      <td>1.0</td>\n",
       "      <td>0.0</td>\n",
       "      <td>NaN</td>\n",
       "    </tr>\n",
       "  </tbody>\n",
       "</table>\n",
       "</div>"
      ],
      "text/plain": [
       "   satisfaction_level  last_evaluation  number_project  average_montly_hours  \\\n",
       "0                0.44             0.57             2.0                 141.0   \n",
       "1                0.55             0.96             3.0                 194.0   \n",
       "2                0.72             0.67             5.0                 210.0   \n",
       "\n",
       "   time_spend_company  Work_accident  promotion_last_5years  sales_IT  \\\n",
       "0                 3.0            0.0                    0.0       0.0   \n",
       "1                 3.0            0.0                    0.0       0.0   \n",
       "2                 2.0            0.0                    0.0       0.0   \n",
       "\n",
       "   sales_RandD  sales_accounting  sales_hr  sales_management  sales_marketing  \\\n",
       "0          0.0               0.0       0.0               0.0              0.0   \n",
       "1          0.0               0.0       0.0               0.0              0.0   \n",
       "2          0.0               0.0       0.0               1.0              0.0   \n",
       "\n",
       "   sales_product_mng  sales_sales  sales_support  sales_technical  sales_nan  \\\n",
       "0                1.0          0.0            0.0              0.0        0.0   \n",
       "1                1.0          0.0            0.0              0.0        0.0   \n",
       "2                0.0          0.0            0.0              0.0        0.0   \n",
       "\n",
       "   salary_high  salary_low  salary_medium  salary_nan  left  \n",
       "0          0.0         0.0            1.0         0.0   NaN  \n",
       "1          0.0         0.0            1.0         0.0   NaN  \n",
       "2          0.0         0.0            1.0         0.0   NaN  "
      ]
     },
     "metadata": {},
     "output_type": "display_data"
    }
   ],
   "source": [
    "X_ohe_s = pd.concat([dataset_cols_m, X_ohe_s])\n",
    "print(X_ohe_s.shape)\n",
    "display(X_ohe_s.head(3))"
   ]
  },
  {
   "cell_type": "markdown",
   "metadata": {},
   "source": [
    "スコアリングデータのみに登場する変数を削除する"
   ]
  },
  {
   "cell_type": "code",
   "execution_count": 47,
   "metadata": {},
   "outputs": [
    {
     "name": "stdout",
     "output_type": "stream",
     "text": [
      "{'left'}\n",
      "(4500, 22)\n"
     ]
    },
    {
     "data": {
      "text/html": [
       "<div>\n",
       "<style scoped>\n",
       "    .dataframe tbody tr th:only-of-type {\n",
       "        vertical-align: middle;\n",
       "    }\n",
       "\n",
       "    .dataframe tbody tr th {\n",
       "        vertical-align: top;\n",
       "    }\n",
       "\n",
       "    .dataframe thead th {\n",
       "        text-align: right;\n",
       "    }\n",
       "</style>\n",
       "<table border=\"1\" class=\"dataframe\">\n",
       "  <thead>\n",
       "    <tr style=\"text-align: right;\">\n",
       "      <th></th>\n",
       "      <th>satisfaction_level</th>\n",
       "      <th>last_evaluation</th>\n",
       "      <th>number_project</th>\n",
       "      <th>average_montly_hours</th>\n",
       "      <th>time_spend_company</th>\n",
       "      <th>Work_accident</th>\n",
       "      <th>promotion_last_5years</th>\n",
       "      <th>sales_IT</th>\n",
       "      <th>sales_RandD</th>\n",
       "      <th>sales_accounting</th>\n",
       "      <th>sales_hr</th>\n",
       "      <th>sales_management</th>\n",
       "      <th>sales_marketing</th>\n",
       "      <th>sales_product_mng</th>\n",
       "      <th>sales_sales</th>\n",
       "      <th>sales_support</th>\n",
       "      <th>sales_technical</th>\n",
       "      <th>sales_nan</th>\n",
       "      <th>salary_high</th>\n",
       "      <th>salary_low</th>\n",
       "      <th>salary_medium</th>\n",
       "      <th>salary_nan</th>\n",
       "    </tr>\n",
       "  </thead>\n",
       "  <tbody>\n",
       "    <tr>\n",
       "      <th>0</th>\n",
       "      <td>0.44</td>\n",
       "      <td>0.57</td>\n",
       "      <td>2.0</td>\n",
       "      <td>141.0</td>\n",
       "      <td>3.0</td>\n",
       "      <td>0.0</td>\n",
       "      <td>0.0</td>\n",
       "      <td>0.0</td>\n",
       "      <td>0.0</td>\n",
       "      <td>0.0</td>\n",
       "      <td>0.0</td>\n",
       "      <td>0.0</td>\n",
       "      <td>0.0</td>\n",
       "      <td>1.0</td>\n",
       "      <td>0.0</td>\n",
       "      <td>0.0</td>\n",
       "      <td>0.0</td>\n",
       "      <td>0.0</td>\n",
       "      <td>0.0</td>\n",
       "      <td>0.0</td>\n",
       "      <td>1.0</td>\n",
       "      <td>0.0</td>\n",
       "    </tr>\n",
       "    <tr>\n",
       "      <th>1</th>\n",
       "      <td>0.55</td>\n",
       "      <td>0.96</td>\n",
       "      <td>3.0</td>\n",
       "      <td>194.0</td>\n",
       "      <td>3.0</td>\n",
       "      <td>0.0</td>\n",
       "      <td>0.0</td>\n",
       "      <td>0.0</td>\n",
       "      <td>0.0</td>\n",
       "      <td>0.0</td>\n",
       "      <td>0.0</td>\n",
       "      <td>0.0</td>\n",
       "      <td>0.0</td>\n",
       "      <td>1.0</td>\n",
       "      <td>0.0</td>\n",
       "      <td>0.0</td>\n",
       "      <td>0.0</td>\n",
       "      <td>0.0</td>\n",
       "      <td>0.0</td>\n",
       "      <td>0.0</td>\n",
       "      <td>1.0</td>\n",
       "      <td>0.0</td>\n",
       "    </tr>\n",
       "    <tr>\n",
       "      <th>2</th>\n",
       "      <td>0.72</td>\n",
       "      <td>0.67</td>\n",
       "      <td>5.0</td>\n",
       "      <td>210.0</td>\n",
       "      <td>2.0</td>\n",
       "      <td>0.0</td>\n",
       "      <td>0.0</td>\n",
       "      <td>0.0</td>\n",
       "      <td>0.0</td>\n",
       "      <td>0.0</td>\n",
       "      <td>0.0</td>\n",
       "      <td>1.0</td>\n",
       "      <td>0.0</td>\n",
       "      <td>0.0</td>\n",
       "      <td>0.0</td>\n",
       "      <td>0.0</td>\n",
       "      <td>0.0</td>\n",
       "      <td>0.0</td>\n",
       "      <td>0.0</td>\n",
       "      <td>0.0</td>\n",
       "      <td>1.0</td>\n",
       "      <td>0.0</td>\n",
       "    </tr>\n",
       "  </tbody>\n",
       "</table>\n",
       "</div>"
      ],
      "text/plain": [
       "   satisfaction_level  last_evaluation  number_project  average_montly_hours  \\\n",
       "0                0.44             0.57             2.0                 141.0   \n",
       "1                0.55             0.96             3.0                 194.0   \n",
       "2                0.72             0.67             5.0                 210.0   \n",
       "\n",
       "   time_spend_company  Work_accident  promotion_last_5years  sales_IT  \\\n",
       "0                 3.0            0.0                    0.0       0.0   \n",
       "1                 3.0            0.0                    0.0       0.0   \n",
       "2                 2.0            0.0                    0.0       0.0   \n",
       "\n",
       "   sales_RandD  sales_accounting  sales_hr  sales_management  sales_marketing  \\\n",
       "0          0.0               0.0       0.0               0.0              0.0   \n",
       "1          0.0               0.0       0.0               0.0              0.0   \n",
       "2          0.0               0.0       0.0               1.0              0.0   \n",
       "\n",
       "   sales_product_mng  sales_sales  sales_support  sales_technical  sales_nan  \\\n",
       "0                1.0          0.0            0.0              0.0        0.0   \n",
       "1                1.0          0.0            0.0              0.0        0.0   \n",
       "2                0.0          0.0            0.0              0.0        0.0   \n",
       "\n",
       "   salary_high  salary_low  salary_medium  salary_nan  \n",
       "0          0.0         0.0            1.0         0.0  \n",
       "1          0.0         0.0            1.0         0.0  \n",
       "2          0.0         0.0            1.0         0.0  "
      ]
     },
     "metadata": {},
     "output_type": "display_data"
    }
   ],
   "source": [
    "set_Xm = set(X_ohe.columns.values)\n",
    "set_Xs = set(X_ohe_s.columns.values)\n",
    "print(set_Xs-set_Xm)\n",
    "X_ohe_s = X_ohe_s.drop(list(set_Xs-set_Xm),axis=1)\n",
    "\n",
    "print(X_ohe_s.shape)\n",
    "display(X_ohe_s.head(3))"
   ]
  },
  {
   "cell_type": "markdown",
   "metadata": {},
   "source": [
    "スコアリングでは登場しなかったデータ項目をゼロで埋める"
   ]
  },
  {
   "cell_type": "code",
   "execution_count": 48,
   "metadata": {},
   "outputs": [
    {
     "name": "stdout",
     "output_type": "stream",
     "text": [
      "set()\n"
     ]
    },
    {
     "data": {
      "text/html": [
       "<div>\n",
       "<style scoped>\n",
       "    .dataframe tbody tr th:only-of-type {\n",
       "        vertical-align: middle;\n",
       "    }\n",
       "\n",
       "    .dataframe tbody tr th {\n",
       "        vertical-align: top;\n",
       "    }\n",
       "\n",
       "    .dataframe thead th {\n",
       "        text-align: right;\n",
       "    }\n",
       "</style>\n",
       "<table border=\"1\" class=\"dataframe\">\n",
       "  <thead>\n",
       "    <tr style=\"text-align: right;\">\n",
       "      <th></th>\n",
       "      <th>satisfaction_level</th>\n",
       "      <th>last_evaluation</th>\n",
       "      <th>number_project</th>\n",
       "      <th>average_montly_hours</th>\n",
       "      <th>time_spend_company</th>\n",
       "      <th>Work_accident</th>\n",
       "      <th>promotion_last_5years</th>\n",
       "      <th>sales_IT</th>\n",
       "      <th>sales_RandD</th>\n",
       "      <th>sales_accounting</th>\n",
       "      <th>sales_hr</th>\n",
       "      <th>sales_management</th>\n",
       "      <th>sales_marketing</th>\n",
       "      <th>sales_product_mng</th>\n",
       "      <th>sales_sales</th>\n",
       "      <th>sales_support</th>\n",
       "      <th>sales_technical</th>\n",
       "      <th>sales_nan</th>\n",
       "      <th>salary_high</th>\n",
       "      <th>salary_low</th>\n",
       "      <th>salary_medium</th>\n",
       "      <th>salary_nan</th>\n",
       "    </tr>\n",
       "  </thead>\n",
       "  <tbody>\n",
       "    <tr>\n",
       "      <th>0</th>\n",
       "      <td>0.44</td>\n",
       "      <td>0.57</td>\n",
       "      <td>2.0</td>\n",
       "      <td>141.0</td>\n",
       "      <td>3.0</td>\n",
       "      <td>0.0</td>\n",
       "      <td>0.0</td>\n",
       "      <td>0.0</td>\n",
       "      <td>0.0</td>\n",
       "      <td>0.0</td>\n",
       "      <td>0.0</td>\n",
       "      <td>0.0</td>\n",
       "      <td>0.0</td>\n",
       "      <td>1.0</td>\n",
       "      <td>0.0</td>\n",
       "      <td>0.0</td>\n",
       "      <td>0.0</td>\n",
       "      <td>0.0</td>\n",
       "      <td>0.0</td>\n",
       "      <td>0.0</td>\n",
       "      <td>1.0</td>\n",
       "      <td>0.0</td>\n",
       "    </tr>\n",
       "    <tr>\n",
       "      <th>1</th>\n",
       "      <td>0.55</td>\n",
       "      <td>0.96</td>\n",
       "      <td>3.0</td>\n",
       "      <td>194.0</td>\n",
       "      <td>3.0</td>\n",
       "      <td>0.0</td>\n",
       "      <td>0.0</td>\n",
       "      <td>0.0</td>\n",
       "      <td>0.0</td>\n",
       "      <td>0.0</td>\n",
       "      <td>0.0</td>\n",
       "      <td>0.0</td>\n",
       "      <td>0.0</td>\n",
       "      <td>1.0</td>\n",
       "      <td>0.0</td>\n",
       "      <td>0.0</td>\n",
       "      <td>0.0</td>\n",
       "      <td>0.0</td>\n",
       "      <td>0.0</td>\n",
       "      <td>0.0</td>\n",
       "      <td>1.0</td>\n",
       "      <td>0.0</td>\n",
       "    </tr>\n",
       "    <tr>\n",
       "      <th>2</th>\n",
       "      <td>0.72</td>\n",
       "      <td>0.67</td>\n",
       "      <td>5.0</td>\n",
       "      <td>210.0</td>\n",
       "      <td>2.0</td>\n",
       "      <td>0.0</td>\n",
       "      <td>0.0</td>\n",
       "      <td>0.0</td>\n",
       "      <td>0.0</td>\n",
       "      <td>0.0</td>\n",
       "      <td>0.0</td>\n",
       "      <td>1.0</td>\n",
       "      <td>0.0</td>\n",
       "      <td>0.0</td>\n",
       "      <td>0.0</td>\n",
       "      <td>0.0</td>\n",
       "      <td>0.0</td>\n",
       "      <td>0.0</td>\n",
       "      <td>0.0</td>\n",
       "      <td>0.0</td>\n",
       "      <td>1.0</td>\n",
       "      <td>0.0</td>\n",
       "    </tr>\n",
       "  </tbody>\n",
       "</table>\n",
       "</div>"
      ],
      "text/plain": [
       "   satisfaction_level  last_evaluation  number_project  average_montly_hours  \\\n",
       "0                0.44             0.57             2.0                 141.0   \n",
       "1                0.55             0.96             3.0                 194.0   \n",
       "2                0.72             0.67             5.0                 210.0   \n",
       "\n",
       "   time_spend_company  Work_accident  promotion_last_5years  sales_IT  \\\n",
       "0                 3.0            0.0                    0.0       0.0   \n",
       "1                 3.0            0.0                    0.0       0.0   \n",
       "2                 2.0            0.0                    0.0       0.0   \n",
       "\n",
       "   sales_RandD  sales_accounting  sales_hr  sales_management  sales_marketing  \\\n",
       "0          0.0               0.0       0.0               0.0              0.0   \n",
       "1          0.0               0.0       0.0               0.0              0.0   \n",
       "2          0.0               0.0       0.0               1.0              0.0   \n",
       "\n",
       "   sales_product_mng  sales_sales  sales_support  sales_technical  sales_nan  \\\n",
       "0                1.0          0.0            0.0              0.0        0.0   \n",
       "1                1.0          0.0            0.0              0.0        0.0   \n",
       "2                0.0          0.0            0.0              0.0        0.0   \n",
       "\n",
       "   salary_high  salary_low  salary_medium  salary_nan  \n",
       "0          0.0         0.0            1.0         0.0  \n",
       "1          0.0         0.0            1.0         0.0  \n",
       "2          0.0         0.0            1.0         0.0  "
      ]
     },
     "execution_count": 48,
     "metadata": {},
     "output_type": "execute_result"
    }
   ],
   "source": [
    "print(set_Xm-set_Xs)\n",
    "X_ohe_s.loc[:,list(set_Xm-set_Xs)] = X_ohe_s.loc[:,list(set_Xm-set_Xs)].fillna(0,axis=1)\n",
    "X_ohe_s.head(3)"
   ]
  },
  {
   "cell_type": "markdown",
   "metadata": {},
   "source": [
    "#### 10-5. スコアリングフェーズ:データ項目の並び順の担保\n",
    "モデリング時点のデータ項目の並び順を明示的に担保する  \n",
    "reindex関数を使うことで並び順を制御できます。"
   ]
  },
  {
   "cell_type": "code",
   "execution_count": 49,
   "metadata": {},
   "outputs": [
    {
     "name": "stdout",
     "output_type": "stream",
     "text": [
      "(4500, 22)\n"
     ]
    }
   ],
   "source": [
    "X_ohe_s = X_ohe_s.reindex(X_ohe_columns, axis=1)\n",
    "X_ohe_s.head(3)\n",
    "print(X_ohe_s.shape)"
   ]
  },
  {
   "cell_type": "markdown",
   "metadata": {
    "colab_type": "text",
    "id": "wWcQgTeaJJVk"
   },
   "source": [
    "#### 10-6. スコアリングフェーズ：欠損値処理\n",
    "ここまで整合させてようやく、学習済みSimpleImputerインスタンスが適用可能となる"
   ]
  },
  {
   "cell_type": "code",
   "execution_count": 50,
   "metadata": {
    "colab": {},
    "colab_type": "code",
    "id": "1Ex1ttJPJJVk",
    "outputId": "0e5c696d-f6f7-41e3-e34b-c7c2c05d5a2f"
   },
   "outputs": [
    {
     "name": "stdout",
     "output_type": "stream",
     "text": [
      "欠損個数（数値変数の欠損補完前） 0\n",
      "欠損個数（数値変数の欠損補完後） 0\n"
     ]
    }
   ],
   "source": [
    "print('欠損個数（数値変数の欠損補完前）',X_ohe_s.isnull().sum().sum())    # rowをsum()して、columnをsum()する\n",
    "\n",
    "# (重要)モデリングデータで作ったimpを使ってtransformする\n",
    "# もしここで改めてimpしたら、改めて計算されてしまう。そのためモデリングデータで使った平均値データを使ってtransformする\n",
    "X_ohe_s = pd.DataFrame(imp.transform(X_ohe_s),columns=X_ohe_columns)\n",
    "\n",
    "print('欠損個数（数値変数の欠損補完後）',X_ohe_s.isnull().sum().sum())"
   ]
  },
  {
   "cell_type": "markdown",
   "metadata": {
    "colab_type": "text",
    "id": "2OikM8NDJJVt"
   },
   "source": [
    "####  10-7. スコアリングフェーズ：次元圧縮、特徴量選択\n",
    "学習済みのRFEクラスのインスタンス（本ファイルではselector）を使って、選択された特徴量のインデックスを指定する。"
   ]
  },
  {
   "cell_type": "code",
   "execution_count": 51,
   "metadata": {
    "colab": {},
    "colab_type": "code",
    "id": "pJ1WHsCUJJVu",
    "outputId": "22947f55-e6e8-47b8-e124-fb3a742ab3a0"
   },
   "outputs": [
    {
     "data": {
      "text/plain": [
       "22"
      ]
     },
     "execution_count": 51,
     "metadata": {},
     "output_type": "execute_result"
    }
   ],
   "source": [
    "len(selector.support_)"
   ]
  },
  {
   "cell_type": "code",
   "execution_count": 52,
   "metadata": {
    "colab": {},
    "colab_type": "code",
    "id": "6gBDj_tuJJVw",
    "outputId": "44294188-c78a-4570-e633-c57327c203b1"
   },
   "outputs": [
    {
     "name": "stdout",
     "output_type": "stream",
     "text": [
      "(4500, 15)\n"
     ]
    },
    {
     "data": {
      "text/html": [
       "<div>\n",
       "<style scoped>\n",
       "    .dataframe tbody tr th:only-of-type {\n",
       "        vertical-align: middle;\n",
       "    }\n",
       "\n",
       "    .dataframe tbody tr th {\n",
       "        vertical-align: top;\n",
       "    }\n",
       "\n",
       "    .dataframe thead th {\n",
       "        text-align: right;\n",
       "    }\n",
       "</style>\n",
       "<table border=\"1\" class=\"dataframe\">\n",
       "  <thead>\n",
       "    <tr style=\"text-align: right;\">\n",
       "      <th></th>\n",
       "      <th>satisfaction_level</th>\n",
       "      <th>last_evaluation</th>\n",
       "      <th>number_project</th>\n",
       "      <th>average_montly_hours</th>\n",
       "      <th>time_spend_company</th>\n",
       "      <th>Work_accident</th>\n",
       "      <th>sales_IT</th>\n",
       "      <th>sales_RandD</th>\n",
       "      <th>sales_accounting</th>\n",
       "      <th>sales_sales</th>\n",
       "      <th>sales_support</th>\n",
       "      <th>sales_technical</th>\n",
       "      <th>salary_high</th>\n",
       "      <th>salary_low</th>\n",
       "      <th>salary_medium</th>\n",
       "    </tr>\n",
       "  </thead>\n",
       "  <tbody>\n",
       "    <tr>\n",
       "      <th>0</th>\n",
       "      <td>0.44</td>\n",
       "      <td>0.57</td>\n",
       "      <td>2.0</td>\n",
       "      <td>141.0</td>\n",
       "      <td>3.0</td>\n",
       "      <td>0.0</td>\n",
       "      <td>0.0</td>\n",
       "      <td>0.0</td>\n",
       "      <td>0.0</td>\n",
       "      <td>0.0</td>\n",
       "      <td>0.0</td>\n",
       "      <td>0.0</td>\n",
       "      <td>0.0</td>\n",
       "      <td>0.0</td>\n",
       "      <td>1.0</td>\n",
       "    </tr>\n",
       "    <tr>\n",
       "      <th>1</th>\n",
       "      <td>0.55</td>\n",
       "      <td>0.96</td>\n",
       "      <td>3.0</td>\n",
       "      <td>194.0</td>\n",
       "      <td>3.0</td>\n",
       "      <td>0.0</td>\n",
       "      <td>0.0</td>\n",
       "      <td>0.0</td>\n",
       "      <td>0.0</td>\n",
       "      <td>0.0</td>\n",
       "      <td>0.0</td>\n",
       "      <td>0.0</td>\n",
       "      <td>0.0</td>\n",
       "      <td>0.0</td>\n",
       "      <td>1.0</td>\n",
       "    </tr>\n",
       "    <tr>\n",
       "      <th>2</th>\n",
       "      <td>0.72</td>\n",
       "      <td>0.67</td>\n",
       "      <td>5.0</td>\n",
       "      <td>210.0</td>\n",
       "      <td>2.0</td>\n",
       "      <td>0.0</td>\n",
       "      <td>0.0</td>\n",
       "      <td>0.0</td>\n",
       "      <td>0.0</td>\n",
       "      <td>0.0</td>\n",
       "      <td>0.0</td>\n",
       "      <td>0.0</td>\n",
       "      <td>0.0</td>\n",
       "      <td>0.0</td>\n",
       "      <td>1.0</td>\n",
       "    </tr>\n",
       "  </tbody>\n",
       "</table>\n",
       "</div>"
      ],
      "text/plain": [
       "   satisfaction_level  last_evaluation  number_project  average_montly_hours  \\\n",
       "0                0.44             0.57             2.0                 141.0   \n",
       "1                0.55             0.96             3.0                 194.0   \n",
       "2                0.72             0.67             5.0                 210.0   \n",
       "\n",
       "   time_spend_company  Work_accident  sales_IT  sales_RandD  sales_accounting  \\\n",
       "0                 3.0            0.0       0.0          0.0               0.0   \n",
       "1                 3.0            0.0       0.0          0.0               0.0   \n",
       "2                 2.0            0.0       0.0          0.0               0.0   \n",
       "\n",
       "   sales_sales  sales_support  sales_technical  salary_high  salary_low  \\\n",
       "0          0.0            0.0              0.0          0.0         0.0   \n",
       "1          0.0            0.0              0.0          0.0         0.0   \n",
       "2          0.0            0.0              0.0          0.0         0.0   \n",
       "\n",
       "   salary_medium  \n",
       "0            1.0  \n",
       "1            1.0  \n",
       "2            1.0  "
      ]
     },
     "execution_count": 52,
     "metadata": {},
     "output_type": "execute_result"
    }
   ],
   "source": [
    "X_fin_s = X_ohe_s.loc[:, X_ohe_columns[selector.support_]]\n",
    "print(X_fin_s.shape)\n",
    "X_fin_s.head(3)"
   ]
  },
  {
   "cell_type": "code",
   "execution_count": 53,
   "metadata": {
    "colab": {},
    "colab_type": "code",
    "id": "M05n1LdxJJV0",
    "outputId": "e7fc7cb8-2961-4251-f894-170391d26a8e"
   },
   "outputs": [
    {
     "name": "stdout",
     "output_type": "stream",
     "text": [
      "-----------------------------------\n",
      "X_fin_s shape: (4500,15)\n",
      "-----------------------------------\n"
     ]
    }
   ],
   "source": [
    "print('-----------------------------------')\n",
    "print('X_fin_s shape: (%i,%i)' %X_fin_s.shape)\n",
    "print('-----------------------------------')"
   ]
  },
  {
   "cell_type": "markdown",
   "metadata": {
    "colab_type": "text",
    "id": "AutqjgLTN7tb"
   },
   "source": [
    "### 11. 推論"
   ]
  },
  {
   "cell_type": "code",
   "execution_count": 54,
   "metadata": {
    "colab": {},
    "colab_type": "code",
    "id": "kxfr4t2zN7tc"
   },
   "outputs": [],
   "source": [
    "y_pred = final_model.predict(X_fin_s)"
   ]
  },
  {
   "cell_type": "code",
   "execution_count": 55,
   "metadata": {
    "colab": {},
    "colab_type": "code",
    "id": "oJlpEgdwN7te",
    "outputId": "eea43fb3-f411-482e-951d-fd79291c0c6b"
   },
   "outputs": [
    {
     "data": {
      "text/plain": [
       "4500"
      ]
     },
     "execution_count": 55,
     "metadata": {},
     "output_type": "execute_result"
    }
   ],
   "source": [
    "len(y_pred)"
   ]
  },
  {
   "cell_type": "markdown",
   "metadata": {
    "colab_type": "text",
    "id": "-bG2s6p8N7ti"
   },
   "source": [
    "### 12. 提出用データ(CSVファイル)の作成"
   ]
  },
  {
   "cell_type": "code",
   "execution_count": 56,
   "metadata": {
    "colab": {},
    "colab_type": "code",
    "id": "6uVo1DDsN7ti"
   },
   "outputs": [],
   "source": [
    "result_for_submit = pd.DataFrame({ID_column:dataset_s[ID_column], target_value:y_pred})\n",
    "\n",
    "# 提出用のファイル格納用のディレクトリ を作成\n",
    "os.makedirs(submit_file_dir, exist_ok=True)\n",
    "result_for_submit.to_csv(submit_file_dir+submit_file_name, index=False)"
   ]
  }
 ],
 "metadata": {
  "colab": {
   "collapsed_sections": [
    "WpVqy3BvN7sJ",
    "cKR105_lN7sO",
    "ZqfJOSWAN7sP",
    "umaeQLM-N7sV",
    "BCkXzpmFJJTD",
    "hfG2H0lFN7sh",
    "ZQRqx22mN7sq",
    "kU3CaGZdN7s1",
    "gBJa13UxN7s4",
    "B2iMEx61JJUE",
    "zKJe18eiN7s-",
    "T6qvnySmN7tD",
    "wWcQgTeaJJVk",
    "2OikM8NDJJVt",
    "AutqjgLTN7tb"
   ],
   "name": "My Automated ML_Titanic.ipynb",
   "provenance": []
  },
  "kernelspec": {
   "display_name": "Python 3",
   "language": "python",
   "name": "python3"
  },
  "language_info": {
   "codemirror_mode": {
    "name": "ipython",
    "version": 3
   },
   "file_extension": ".py",
   "mimetype": "text/x-python",
   "name": "python",
   "nbconvert_exporter": "python",
   "pygments_lexer": "ipython3",
   "version": "3.8.3"
  }
 },
 "nbformat": 4,
 "nbformat_minor": 1
}
