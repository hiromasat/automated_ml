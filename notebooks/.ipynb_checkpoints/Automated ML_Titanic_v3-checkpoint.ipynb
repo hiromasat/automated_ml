{
 "cells": [
  {
   "cell_type": "markdown",
   "metadata": {
    "colab_type": "text",
    "id": "tACqR8FDN7rU"
   },
   "source": [
    "## Automated ML"
   ]
  },
  {
   "cell_type": "markdown",
   "metadata": {
    "colab_type": "text",
    "id": "jsQQwaNqN7rX"
   },
   "source": [
    "### 全体の流れ\n",
    "1. モジュールのインポート  \n",
    "2. 定数の設定  \n",
    "3. データセットの読み込み  \n",
    "4. EDA(データを知る)  \n",
    "    欠損値の確認  \n",
    "    各データのタイプ確認  \n",
    "5. 学習用データセットの作成  \n",
    "    5-1. ohe-encoding  \n",
    "    5-2. 欠損値補完  \n",
    "    5-3. 次元圧縮、特徴量選択  \n",
    "    (5-4. 不均衡データへの対応)  \n",
    "6. Pipelineの設定  \n",
    "    6-1. Pipelineの定義  \n",
    "    6-2. Grid Search用のパラメータ定義  \n",
    "7. 学習  \n",
    "8. モデル選定  \n",
    "9. 全データを使った学習  \n",
    "10. スコアリング用のデータ作成  \n",
    "    10-1. スコアリング用のデータの読み出し  \n",
    "    10-2. one-hot-encoding処理  \n",
    "    10-3. one-hot encoding後のデータ整合チェック  \n",
    "    10-4. one-hot-encoding後のデータ不整合の解消  \n",
    "    10-5. データ項目の並び順の担保  \n",
    "    10-6. 欠損値処理  \n",
    "11. 推論  \n",
    "12. 提出用データ(CSVファイル）の作成  "
   ]
  },
  {
   "cell_type": "markdown",
   "metadata": {
    "colab_type": "text",
    "id": "1qiwgNd0N7rX"
   },
   "source": [
    "<未実装>\n",
    "- カテゴリ変数の自動判別 -> 手動で設定\n",
    "- 推論対象データの自動判別 -> 手動で設定\n",
    "- 訓練データ/テストデータの自動判別 -> 手動で設定"
   ]
  },
  {
   "cell_type": "markdown",
   "metadata": {
    "colab_type": "text",
    "id": "Ti_ifKasN7rY"
   },
   "source": [
    "### 1. モジュール類のインポート"
   ]
  },
  {
   "cell_type": "code",
   "execution_count": 5,
   "metadata": {
    "colab": {},
    "colab_type": "code",
    "id": "w5xbE1v6N7rZ"
   },
   "outputs": [],
   "source": [
    "# データ解析のライブラリ\n",
    "import numpy as np\n",
    "import pandas as pd\n",
    "import os\n",
    "import pickle\n",
    "import time\n",
    "\n",
    "# 評価手法\n",
    "from sklearn.metrics import confusion_matrix\n",
    "from sklearn.metrics import accuracy_score\n",
    "from sklearn.model_selection import train_test_split\n",
    "from sklearn.naive_bayes import GaussianNB\n",
    "from sklearn.model_selection import cross_val_score, GridSearchCV\n",
    "from sklearn.preprocessing import StandardScaler\n",
    "from sklearn.pipeline import Pipeline\n",
    "\n",
    "# 欠損値補完\n",
    "from sklearn.impute import SimpleImputer\n",
    "\n",
    "# 次元圧縮\n",
    "from sklearn.feature_selection import RFE\n",
    "\n",
    "# 学習手法\n",
    "from sklearn.neighbors import KNeighborsClassifier\n",
    "from sklearn.linear_model import LogisticRegression\n",
    "from sklearn.ensemble import RandomForestClassifier\n",
    "from sklearn.tree import DecisionTreeClassifier\n",
    "from sklearn.svm import SVC, LinearSVC\n",
    "from sklearn.ensemble import GradientBoostingClassifier\n",
    "from sklearn.neural_network import MLPClassifier\n",
    "import xgboost as xgb\n",
    "import lightgbm as lgb\n",
    "\n",
    " # 指標の選択\n",
    "from ipywidgets import interact,interactive,fixed,interact_manual\n",
    "from IPython.display import display\n",
    "import ipywidgets as widgets"
   ]
  },
  {
   "cell_type": "code",
   "execution_count": 6,
   "metadata": {
    "colab": {},
    "colab_type": "code",
    "id": "BVu5y6sVN7rd"
   },
   "outputs": [],
   "source": [
    "# 表示オプションの変更\n",
    "pd.options.display.max_columns = 50"
   ]
  },
  {
   "cell_type": "markdown",
   "metadata": {
    "colab_type": "text",
    "id": "rpdUIlZsN7rj"
   },
   "source": [
    "### 2. 定数の設定"
   ]
  },
  {
   "cell_type": "markdown",
   "metadata": {
    "colab_type": "text",
    "id": "eTloCHBHJJR4"
   },
   "source": [
    "提出ファイル作成時のIDのカラム"
   ]
  },
  {
   "cell_type": "code",
   "execution_count": 7,
   "metadata": {
    "colab": {},
    "colab_type": "code",
    "id": "F44UbPTmJJR5"
   },
   "outputs": [],
   "source": [
    "ID_column = 'index'"
   ]
  },
  {
   "cell_type": "markdown",
   "metadata": {
    "colab_type": "text",
    "id": "ghYmdLqbN7rj"
   },
   "source": [
    "教師データ（推論の対象データ）の設定"
   ]
  },
  {
   "cell_type": "code",
   "execution_count": 8,
   "metadata": {
    "colab": {},
    "colab_type": "code",
    "id": "VxdAf4qwN7rk"
   },
   "outputs": [],
   "source": [
    "target_value = 'left'"
   ]
  },
  {
   "cell_type": "markdown",
   "metadata": {
    "colab_type": "text",
    "id": "d1KNVfg1N7rn"
   },
   "source": [
    "データセットの指定"
   ]
  },
  {
   "cell_type": "code",
   "execution_count": 9,
   "metadata": {
    "colab": {},
    "colab_type": "code",
    "id": "RvjoAKvDN7ro"
   },
   "outputs": [],
   "source": [
    "# ダミーファイル（事前動作確認用）\n",
    "train_file = '../data/final_hr_analysis_train.csv'\n",
    "test_file = '../data/final_hr_analysis_test.csv'"
   ]
  },
  {
   "cell_type": "code",
   "execution_count": 32,
   "metadata": {
    "colab": {},
    "colab_type": "code",
    "id": "8IYTa5-OJJSN"
   },
   "outputs": [],
   "source": [
    "submit_file_dir = '../submit/'\n",
    "submit_file_name = 'submit_'+str(time.time()) +'.csv'"
   ]
  },
  {
   "cell_type": "markdown",
   "metadata": {
    "colab_type": "text",
    "id": "MIhttQx9N7rr"
   },
   "source": [
    "データセットに関する設定（カテゴリ変数）"
   ]
  },
  {
   "cell_type": "code",
   "execution_count": 13,
   "metadata": {
    "colab": {},
    "colab_type": "code",
    "id": "frtpNASLN7rr"
   },
   "outputs": [],
   "source": [
    "# カテゴリ変数をリストで設定\n",
    "ohe_columns = ['sales', 'salary',]\n",
    "\n",
    "# 設定したカテゴリリストをkeyに、valueはobjectを設定する(リストから辞書を作成)\n",
    "my_dtype = {k: object  for k in ohe_columns}"
   ]
  },
  {
   "cell_type": "code",
   "execution_count": 14,
   "metadata": {
    "colab": {
     "base_uri": "https://localhost:8080/",
     "height": 34
    },
    "colab_type": "code",
    "executionInfo": {
     "elapsed": 635,
     "status": "ok",
     "timestamp": 1590450535174,
     "user": {
      "displayName": "田淵大将",
      "photoUrl": "https://lh3.googleusercontent.com/a-/AOh14Gg7LuHKhSXdI-c0NZpBaTv-L0d2aHFhtAD_-dB3rpw=s64",
      "userId": "01937725829077514098"
     },
     "user_tz": -540
    },
    "id": "r6AC7R8LN7ru",
    "outputId": "5048316e-87d0-4e31-ea75-78f9c7c2e4b4",
    "scrolled": true
   },
   "outputs": [
    {
     "name": "stdout",
     "output_type": "stream",
     "text": [
      "{'sales': <class 'object'>, 'salary': <class 'object'>}\n"
     ]
    }
   ],
   "source": [
    "print(my_dtype)"
   ]
  },
  {
   "cell_type": "markdown",
   "metadata": {
    "colab_type": "text",
    "id": "nWNe5q9gN7r2"
   },
   "source": [
    "訓練データ/テストデータから除外するカラムリスト"
   ]
  },
  {
   "cell_type": "code",
   "execution_count": 19,
   "metadata": {
    "colab": {},
    "colab_type": "code",
    "id": "YiZ4JLF4N7r3"
   },
   "outputs": [],
   "source": [
    "# 除外リスト\n",
    "score_reject_items =[ID_column]\n",
    "train_reject_items = score_reject_items + [target_value]"
   ]
  },
  {
   "cell_type": "markdown",
   "metadata": {
    "colab_type": "text",
    "id": "Wwq9whOlN7r9"
   },
   "source": [
    "### 3. データセットの読み込み"
   ]
  },
  {
   "cell_type": "code",
   "execution_count": 28,
   "metadata": {
    "colab": {
     "base_uri": "https://localhost:8080/",
     "height": 447
    },
    "colab_type": "code",
    "executionInfo": {
     "elapsed": 4382,
     "status": "error",
     "timestamp": 1590450568299,
     "user": {
      "displayName": "田淵大将",
      "photoUrl": "https://lh3.googleusercontent.com/a-/AOh14Gg7LuHKhSXdI-c0NZpBaTv-L0d2aHFhtAD_-dB3rpw=s64",
      "userId": "01937725829077514098"
     },
     "user_tz": -540
    },
    "id": "HGMhOdczN7r9",
    "outputId": "be1ed031-97aa-4bcd-aedc-a5351416e4b2"
   },
   "outputs": [
    {
     "name": "stdout",
     "output_type": "stream",
     "text": [
      "----------------------------------------------------------------\n",
      "X shape: (891,9)\n",
      "----------------------------------------------------------------\n",
      "y shape: (891,)\n",
      "----------------------------------------------------------------\n",
      "0    549\n",
      "1    342\n",
      "Name: left, dtype: int64\n",
      "left（1：退職、0：非退職の正解ラベル）\n",
      "----------------------------------------------------------------\n",
      "\n",
      "dataset:csvファイル生データ\n"
     ]
    },
    {
     "data": {
      "text/html": [
       "<div>\n",
       "<style scoped>\n",
       "    .dataframe tbody tr th:only-of-type {\n",
       "        vertical-align: middle;\n",
       "    }\n",
       "\n",
       "    .dataframe tbody tr th {\n",
       "        vertical-align: top;\n",
       "    }\n",
       "\n",
       "    .dataframe thead th {\n",
       "        text-align: right;\n",
       "    }\n",
       "</style>\n",
       "<table border=\"1\" class=\"dataframe\">\n",
       "  <thead>\n",
       "    <tr style=\"text-align: right;\">\n",
       "      <th></th>\n",
       "      <th>index</th>\n",
       "      <th>left</th>\n",
       "      <th>satisfaction_level</th>\n",
       "      <th>last_evaluation</th>\n",
       "      <th>number_project</th>\n",
       "      <th>average_montly_hours</th>\n",
       "      <th>time_spend_company</th>\n",
       "      <th>Work_accident</th>\n",
       "      <th>promotion_last_5years</th>\n",
       "      <th>sales</th>\n",
       "      <th>salary</th>\n",
       "    </tr>\n",
       "  </thead>\n",
       "  <tbody>\n",
       "    <tr>\n",
       "      <th>0</th>\n",
       "      <td>1</td>\n",
       "      <td>0</td>\n",
       "      <td>3</td>\n",
       "      <td>NaN</td>\n",
       "      <td>3</td>\n",
       "      <td>22.0</td>\n",
       "      <td>1</td>\n",
       "      <td>0</td>\n",
       "      <td>NaN</td>\n",
       "      <td>7.25</td>\n",
       "      <td>7.25</td>\n",
       "    </tr>\n",
       "    <tr>\n",
       "      <th>1</th>\n",
       "      <td>2</td>\n",
       "      <td>1</td>\n",
       "      <td>1</td>\n",
       "      <td>NaN</td>\n",
       "      <td>1</td>\n",
       "      <td>38.0</td>\n",
       "      <td>1</td>\n",
       "      <td>0</td>\n",
       "      <td>NaN</td>\n",
       "      <td>71.2833</td>\n",
       "      <td>71.2833</td>\n",
       "    </tr>\n",
       "    <tr>\n",
       "      <th>2</th>\n",
       "      <td>3</td>\n",
       "      <td>1</td>\n",
       "      <td>3</td>\n",
       "      <td>NaN</td>\n",
       "      <td>3</td>\n",
       "      <td>26.0</td>\n",
       "      <td>0</td>\n",
       "      <td>0</td>\n",
       "      <td>NaN</td>\n",
       "      <td>7.925</td>\n",
       "      <td>7.925</td>\n",
       "    </tr>\n",
       "    <tr>\n",
       "      <th>3</th>\n",
       "      <td>4</td>\n",
       "      <td>1</td>\n",
       "      <td>1</td>\n",
       "      <td>NaN</td>\n",
       "      <td>1</td>\n",
       "      <td>35.0</td>\n",
       "      <td>1</td>\n",
       "      <td>0</td>\n",
       "      <td>NaN</td>\n",
       "      <td>53.1</td>\n",
       "      <td>53.1</td>\n",
       "    </tr>\n",
       "    <tr>\n",
       "      <th>4</th>\n",
       "      <td>5</td>\n",
       "      <td>0</td>\n",
       "      <td>3</td>\n",
       "      <td>NaN</td>\n",
       "      <td>3</td>\n",
       "      <td>35.0</td>\n",
       "      <td>0</td>\n",
       "      <td>0</td>\n",
       "      <td>NaN</td>\n",
       "      <td>8.05</td>\n",
       "      <td>8.05</td>\n",
       "    </tr>\n",
       "  </tbody>\n",
       "</table>\n",
       "</div>"
      ],
      "text/plain": [
       "   index  left  satisfaction_level  last_evaluation  number_project  \\\n",
       "0      1     0                   3              NaN               3   \n",
       "1      2     1                   1              NaN               1   \n",
       "2      3     1                   3              NaN               3   \n",
       "3      4     1                   1              NaN               1   \n",
       "4      5     0                   3              NaN               3   \n",
       "\n",
       "   average_montly_hours  time_spend_company  Work_accident  \\\n",
       "0                  22.0                   1              0   \n",
       "1                  38.0                   1              0   \n",
       "2                  26.0                   0              0   \n",
       "3                  35.0                   1              0   \n",
       "4                  35.0                   0              0   \n",
       "\n",
       "   promotion_last_5years    sales   salary  \n",
       "0                    NaN     7.25     7.25  \n",
       "1                    NaN  71.2833  71.2833  \n",
       "2                    NaN    7.925    7.925  \n",
       "3                    NaN     53.1     53.1  \n",
       "4                    NaN     8.05     8.05  "
      ]
     },
     "metadata": {},
     "output_type": "display_data"
    },
    {
     "name": "stdout",
     "output_type": "stream",
     "text": [
      "X:訓練データセット\n"
     ]
    },
    {
     "data": {
      "text/html": [
       "<div>\n",
       "<style scoped>\n",
       "    .dataframe tbody tr th:only-of-type {\n",
       "        vertical-align: middle;\n",
       "    }\n",
       "\n",
       "    .dataframe tbody tr th {\n",
       "        vertical-align: top;\n",
       "    }\n",
       "\n",
       "    .dataframe thead th {\n",
       "        text-align: right;\n",
       "    }\n",
       "</style>\n",
       "<table border=\"1\" class=\"dataframe\">\n",
       "  <thead>\n",
       "    <tr style=\"text-align: right;\">\n",
       "      <th></th>\n",
       "      <th>satisfaction_level</th>\n",
       "      <th>last_evaluation</th>\n",
       "      <th>number_project</th>\n",
       "      <th>average_montly_hours</th>\n",
       "      <th>time_spend_company</th>\n",
       "      <th>Work_accident</th>\n",
       "      <th>promotion_last_5years</th>\n",
       "      <th>sales</th>\n",
       "      <th>salary</th>\n",
       "      <th>left</th>\n",
       "    </tr>\n",
       "  </thead>\n",
       "  <tbody>\n",
       "    <tr>\n",
       "      <th>0</th>\n",
       "      <td>3</td>\n",
       "      <td>NaN</td>\n",
       "      <td>3</td>\n",
       "      <td>22.0</td>\n",
       "      <td>1</td>\n",
       "      <td>0</td>\n",
       "      <td>NaN</td>\n",
       "      <td>7.25</td>\n",
       "      <td>7.25</td>\n",
       "      <td>0</td>\n",
       "    </tr>\n",
       "    <tr>\n",
       "      <th>1</th>\n",
       "      <td>1</td>\n",
       "      <td>NaN</td>\n",
       "      <td>1</td>\n",
       "      <td>38.0</td>\n",
       "      <td>1</td>\n",
       "      <td>0</td>\n",
       "      <td>NaN</td>\n",
       "      <td>71.2833</td>\n",
       "      <td>71.2833</td>\n",
       "      <td>1</td>\n",
       "    </tr>\n",
       "    <tr>\n",
       "      <th>2</th>\n",
       "      <td>3</td>\n",
       "      <td>NaN</td>\n",
       "      <td>3</td>\n",
       "      <td>26.0</td>\n",
       "      <td>0</td>\n",
       "      <td>0</td>\n",
       "      <td>NaN</td>\n",
       "      <td>7.925</td>\n",
       "      <td>7.925</td>\n",
       "      <td>1</td>\n",
       "    </tr>\n",
       "    <tr>\n",
       "      <th>3</th>\n",
       "      <td>1</td>\n",
       "      <td>NaN</td>\n",
       "      <td>1</td>\n",
       "      <td>35.0</td>\n",
       "      <td>1</td>\n",
       "      <td>0</td>\n",
       "      <td>NaN</td>\n",
       "      <td>53.1</td>\n",
       "      <td>53.1</td>\n",
       "      <td>1</td>\n",
       "    </tr>\n",
       "    <tr>\n",
       "      <th>4</th>\n",
       "      <td>3</td>\n",
       "      <td>NaN</td>\n",
       "      <td>3</td>\n",
       "      <td>35.0</td>\n",
       "      <td>0</td>\n",
       "      <td>0</td>\n",
       "      <td>NaN</td>\n",
       "      <td>8.05</td>\n",
       "      <td>8.05</td>\n",
       "      <td>0</td>\n",
       "    </tr>\n",
       "  </tbody>\n",
       "</table>\n",
       "</div>"
      ],
      "text/plain": [
       "   satisfaction_level  last_evaluation  number_project  average_montly_hours  \\\n",
       "0                   3              NaN               3                  22.0   \n",
       "1                   1              NaN               1                  38.0   \n",
       "2                   3              NaN               3                  26.0   \n",
       "3                   1              NaN               1                  35.0   \n",
       "4                   3              NaN               3                  35.0   \n",
       "\n",
       "   time_spend_company  Work_accident  promotion_last_5years    sales   salary  \\\n",
       "0                   1              0                    NaN     7.25     7.25   \n",
       "1                   1              0                    NaN  71.2833  71.2833   \n",
       "2                   0              0                    NaN    7.925    7.925   \n",
       "3                   1              0                    NaN     53.1     53.1   \n",
       "4                   0              0                    NaN     8.05     8.05   \n",
       "\n",
       "   left  \n",
       "0     0  \n",
       "1     1  \n",
       "2     1  \n",
       "3     1  \n",
       "4     0  "
      ]
     },
     "execution_count": 28,
     "metadata": {},
     "output_type": "execute_result"
    }
   ],
   "source": [
    "# csvファイルからの読み出し\n",
    "dataset = pd.read_csv(train_file,\n",
    "                     header=0,    # CSVデータの1行目が見出し(header)で有ることを指定。データは1行目が[0]\n",
    "                     dtype=my_dtype)\n",
    "\n",
    "# 1列目のID情報、推論対象は特徴量から削除\n",
    "# pandas.core.frame.DataFrame\n",
    "X = pd.DataFrame(dataset).drop(columns=train_reject_items, axis=1)\n",
    "\n",
    "# pandas.core.series.Series\n",
    "y = pd.Series(dataset[target_value])\n",
    "\n",
    "# 形状の確認\n",
    "# check the shape\n",
    "print('----------------------------------------------------------------')\n",
    "print('X shape: (%i,%i)' %X.shape)\n",
    "print('----------------------------------------------------------------')\n",
    "print('y shape: (%i,)' %y.shape)\n",
    "print('----------------------------------------------------------------')\n",
    "print(y.value_counts())\n",
    "print('left（1：退職、0：非退職の正解ラベル）')\n",
    "print('----------------------------------------------------------------')\n",
    "print()\n",
    "print('dataset:csvファイル生データ')\n",
    "display(dataset.head())\n",
    "print('X:訓練データセット')\n",
    "X.join(y).head()"
   ]
  },
  {
   "cell_type": "markdown",
   "metadata": {
    "colab_type": "text",
    "id": "WpVqy3BvN7sJ"
   },
   "source": [
    "### 4. EDA"
   ]
  },
  {
   "cell_type": "code",
   "execution_count": 31,
   "metadata": {
    "colab": {},
    "colab_type": "code",
    "id": "qjaoDgtVN7sJ",
    "outputId": "70f931ce-cf20-4dfa-c91d-579822b4441e"
   },
   "outputs": [
    {
     "data": {
      "text/plain": [
       "PassengerId      0\n",
       "Survived         0\n",
       "Pclass           0\n",
       "Name             0\n",
       "Sex              0\n",
       "Age            177\n",
       "SibSp            0\n",
       "Parch            0\n",
       "Ticket           0\n",
       "Fare             0\n",
       "Cabin          687\n",
       "Embarked         2\n",
       "dtype: int64"
      ]
     },
     "execution_count": 31,
     "metadata": {},
     "output_type": "execute_result"
    }
   ],
   "source": [
    "# 欠損値の確認\n",
    "dataset.isnull().sum()"
   ]
  },
  {
   "cell_type": "code",
   "execution_count": 32,
   "metadata": {
    "colab": {},
    "colab_type": "code",
    "id": "awKQKOn1N7sM",
    "outputId": "29b10139-25fe-4448-8270-1f4c9459c72c"
   },
   "outputs": [
    {
     "data": {
      "text/plain": [
       "PassengerId      int64\n",
       "Survived         int64\n",
       "Pclass          object\n",
       "Name            object\n",
       "Sex             object\n",
       "Age            float64\n",
       "SibSp            int64\n",
       "Parch           object\n",
       "Ticket          object\n",
       "Fare           float64\n",
       "Cabin           object\n",
       "Embarked        object\n",
       "dtype: object"
      ]
     },
     "execution_count": 32,
     "metadata": {},
     "output_type": "execute_result"
    }
   ],
   "source": [
    "# 各データ型を表示\n",
    "dataset.dtypes"
   ]
  },
  {
   "cell_type": "markdown",
   "metadata": {
    "colab_type": "text",
    "id": "cKR105_lN7sO"
   },
   "source": [
    "### 5. データセットの作成"
   ]
  },
  {
   "cell_type": "markdown",
   "metadata": {
    "colab_type": "text",
    "id": "ZqfJOSWAN7sP"
   },
   "source": [
    "#### 5-1. カテゴリカル変数⇒one-hotエンコード  \n",
    "選択したcolumnに対してone-hot encoding処理を行う"
   ]
  },
  {
   "cell_type": "code",
   "execution_count": 33,
   "metadata": {
    "colab": {},
    "colab_type": "code",
    "id": "qBFAUahcN7sQ",
    "outputId": "ba23ed0f-835e-4830-de6d-176b4339a2db"
   },
   "outputs": [
    {
     "name": "stdout",
     "output_type": "stream",
     "text": [
      "X_ohe shape:(891,22)\n"
     ]
    },
    {
     "data": {
      "text/html": [
       "<div>\n",
       "<style scoped>\n",
       "    .dataframe tbody tr th:only-of-type {\n",
       "        vertical-align: middle;\n",
       "    }\n",
       "\n",
       "    .dataframe tbody tr th {\n",
       "        vertical-align: top;\n",
       "    }\n",
       "\n",
       "    .dataframe thead th {\n",
       "        text-align: right;\n",
       "    }\n",
       "</style>\n",
       "<table border=\"1\" class=\"dataframe\">\n",
       "  <thead>\n",
       "    <tr style=\"text-align: right;\">\n",
       "      <th></th>\n",
       "      <th>Age</th>\n",
       "      <th>SibSp</th>\n",
       "      <th>Fare</th>\n",
       "      <th>Pclass_1</th>\n",
       "      <th>Pclass_2</th>\n",
       "      <th>Pclass_3</th>\n",
       "      <th>Pclass_nan</th>\n",
       "      <th>Sex_female</th>\n",
       "      <th>Sex_male</th>\n",
       "      <th>Sex_nan</th>\n",
       "      <th>Parch_0</th>\n",
       "      <th>Parch_1</th>\n",
       "      <th>Parch_2</th>\n",
       "      <th>Parch_3</th>\n",
       "      <th>Parch_4</th>\n",
       "      <th>Parch_5</th>\n",
       "      <th>Parch_6</th>\n",
       "      <th>Parch_nan</th>\n",
       "      <th>Embarked_C</th>\n",
       "      <th>Embarked_Q</th>\n",
       "      <th>Embarked_S</th>\n",
       "      <th>Embarked_nan</th>\n",
       "    </tr>\n",
       "  </thead>\n",
       "  <tbody>\n",
       "    <tr>\n",
       "      <th>0</th>\n",
       "      <td>22.0</td>\n",
       "      <td>1</td>\n",
       "      <td>7.2500</td>\n",
       "      <td>0</td>\n",
       "      <td>0</td>\n",
       "      <td>1</td>\n",
       "      <td>0</td>\n",
       "      <td>0</td>\n",
       "      <td>1</td>\n",
       "      <td>0</td>\n",
       "      <td>1</td>\n",
       "      <td>0</td>\n",
       "      <td>0</td>\n",
       "      <td>0</td>\n",
       "      <td>0</td>\n",
       "      <td>0</td>\n",
       "      <td>0</td>\n",
       "      <td>0</td>\n",
       "      <td>0</td>\n",
       "      <td>0</td>\n",
       "      <td>1</td>\n",
       "      <td>0</td>\n",
       "    </tr>\n",
       "    <tr>\n",
       "      <th>1</th>\n",
       "      <td>38.0</td>\n",
       "      <td>1</td>\n",
       "      <td>71.2833</td>\n",
       "      <td>1</td>\n",
       "      <td>0</td>\n",
       "      <td>0</td>\n",
       "      <td>0</td>\n",
       "      <td>1</td>\n",
       "      <td>0</td>\n",
       "      <td>0</td>\n",
       "      <td>1</td>\n",
       "      <td>0</td>\n",
       "      <td>0</td>\n",
       "      <td>0</td>\n",
       "      <td>0</td>\n",
       "      <td>0</td>\n",
       "      <td>0</td>\n",
       "      <td>0</td>\n",
       "      <td>1</td>\n",
       "      <td>0</td>\n",
       "      <td>0</td>\n",
       "      <td>0</td>\n",
       "    </tr>\n",
       "    <tr>\n",
       "      <th>2</th>\n",
       "      <td>26.0</td>\n",
       "      <td>0</td>\n",
       "      <td>7.9250</td>\n",
       "      <td>0</td>\n",
       "      <td>0</td>\n",
       "      <td>1</td>\n",
       "      <td>0</td>\n",
       "      <td>1</td>\n",
       "      <td>0</td>\n",
       "      <td>0</td>\n",
       "      <td>1</td>\n",
       "      <td>0</td>\n",
       "      <td>0</td>\n",
       "      <td>0</td>\n",
       "      <td>0</td>\n",
       "      <td>0</td>\n",
       "      <td>0</td>\n",
       "      <td>0</td>\n",
       "      <td>0</td>\n",
       "      <td>0</td>\n",
       "      <td>1</td>\n",
       "      <td>0</td>\n",
       "    </tr>\n",
       "    <tr>\n",
       "      <th>3</th>\n",
       "      <td>35.0</td>\n",
       "      <td>1</td>\n",
       "      <td>53.1000</td>\n",
       "      <td>1</td>\n",
       "      <td>0</td>\n",
       "      <td>0</td>\n",
       "      <td>0</td>\n",
       "      <td>1</td>\n",
       "      <td>0</td>\n",
       "      <td>0</td>\n",
       "      <td>1</td>\n",
       "      <td>0</td>\n",
       "      <td>0</td>\n",
       "      <td>0</td>\n",
       "      <td>0</td>\n",
       "      <td>0</td>\n",
       "      <td>0</td>\n",
       "      <td>0</td>\n",
       "      <td>0</td>\n",
       "      <td>0</td>\n",
       "      <td>1</td>\n",
       "      <td>0</td>\n",
       "    </tr>\n",
       "    <tr>\n",
       "      <th>4</th>\n",
       "      <td>35.0</td>\n",
       "      <td>0</td>\n",
       "      <td>8.0500</td>\n",
       "      <td>0</td>\n",
       "      <td>0</td>\n",
       "      <td>1</td>\n",
       "      <td>0</td>\n",
       "      <td>0</td>\n",
       "      <td>1</td>\n",
       "      <td>0</td>\n",
       "      <td>1</td>\n",
       "      <td>0</td>\n",
       "      <td>0</td>\n",
       "      <td>0</td>\n",
       "      <td>0</td>\n",
       "      <td>0</td>\n",
       "      <td>0</td>\n",
       "      <td>0</td>\n",
       "      <td>0</td>\n",
       "      <td>0</td>\n",
       "      <td>1</td>\n",
       "      <td>0</td>\n",
       "    </tr>\n",
       "  </tbody>\n",
       "</table>\n",
       "</div>"
      ],
      "text/plain": [
       "    Age  SibSp     Fare  Pclass_1  Pclass_2  Pclass_3  Pclass_nan  Sex_female  \\\n",
       "0  22.0      1   7.2500         0         0         1           0           0   \n",
       "1  38.0      1  71.2833         1         0         0           0           1   \n",
       "2  26.0      0   7.9250         0         0         1           0           1   \n",
       "3  35.0      1  53.1000         1         0         0           0           1   \n",
       "4  35.0      0   8.0500         0         0         1           0           0   \n",
       "\n",
       "   Sex_male  Sex_nan  Parch_0  Parch_1  Parch_2  Parch_3  Parch_4  Parch_5  \\\n",
       "0         1        0        1        0        0        0        0        0   \n",
       "1         0        0        1        0        0        0        0        0   \n",
       "2         0        0        1        0        0        0        0        0   \n",
       "3         0        0        1        0        0        0        0        0   \n",
       "4         1        0        1        0        0        0        0        0   \n",
       "\n",
       "   Parch_6  Parch_nan  Embarked_C  Embarked_Q  Embarked_S  Embarked_nan  \n",
       "0        0          0           0           0           1             0  \n",
       "1        0          0           1           0           0             0  \n",
       "2        0          0           0           0           1             0  \n",
       "3        0          0           0           0           1             0  \n",
       "4        0          0           0           0           1             0  "
      ]
     },
     "metadata": {},
     "output_type": "display_data"
    }
   ],
   "source": [
    "def one_hot_encoding(data, ohe_columns):\n",
    "    X_ohe = pd.get_dummies(data,\n",
    "                       dummy_na=True,    # 欠損値もダミー化\n",
    "                       columns=ohe_columns)\n",
    "    print('X_ohe shape:(%i,%i)' % X_ohe.shape)\n",
    "    display(X_ohe.head())\n",
    "    return X_ohe\n",
    "    \n",
    "X_ohe = one_hot_encoding(X, ohe_columns)"
   ]
  },
  {
   "cell_type": "markdown",
   "metadata": {
    "colab_type": "text",
    "id": "umaeQLM-N7sV"
   },
   "source": [
    "#### 5-2. 数値変数の欠損値対応\n",
    "1. 平均値をオリジナルのデータを使って計算する。（fit）   \n",
    "2. impに設定した平均値で、モデルに読み込むデータの欠損値を処理する。    \n",
    "※ (注意)test用のデータでは、訓練用に計算した平均値データを使って、欠損値を処理する。(test用のデータの平均値を使わない)"
   ]
  },
  {
   "cell_type": "code",
   "execution_count": 34,
   "metadata": {
    "colab": {},
    "colab_type": "code",
    "id": "hs-6zPgLN7sV",
    "outputId": "e77b1299-2b5e-46ac-8c54-c6e13517638d"
   },
   "outputs": [
    {
     "data": {
      "text/html": [
       "<div>\n",
       "<style scoped>\n",
       "    .dataframe tbody tr th:only-of-type {\n",
       "        vertical-align: middle;\n",
       "    }\n",
       "\n",
       "    .dataframe tbody tr th {\n",
       "        vertical-align: top;\n",
       "    }\n",
       "\n",
       "    .dataframe thead th {\n",
       "        text-align: right;\n",
       "    }\n",
       "</style>\n",
       "<table border=\"1\" class=\"dataframe\">\n",
       "  <thead>\n",
       "    <tr style=\"text-align: right;\">\n",
       "      <th></th>\n",
       "      <th>Age</th>\n",
       "      <th>SibSp</th>\n",
       "      <th>Fare</th>\n",
       "      <th>Pclass_1</th>\n",
       "      <th>Pclass_2</th>\n",
       "      <th>Pclass_3</th>\n",
       "      <th>Pclass_nan</th>\n",
       "      <th>Sex_female</th>\n",
       "      <th>Sex_male</th>\n",
       "      <th>Sex_nan</th>\n",
       "      <th>Parch_0</th>\n",
       "      <th>Parch_1</th>\n",
       "      <th>Parch_2</th>\n",
       "      <th>Parch_3</th>\n",
       "      <th>Parch_4</th>\n",
       "      <th>Parch_5</th>\n",
       "      <th>Parch_6</th>\n",
       "      <th>Parch_nan</th>\n",
       "      <th>Embarked_C</th>\n",
       "      <th>Embarked_Q</th>\n",
       "      <th>Embarked_S</th>\n",
       "      <th>Embarked_nan</th>\n",
       "    </tr>\n",
       "  </thead>\n",
       "  <tbody>\n",
       "    <tr>\n",
       "      <th>0</th>\n",
       "      <td>22.0</td>\n",
       "      <td>1.0</td>\n",
       "      <td>7.2500</td>\n",
       "      <td>0.0</td>\n",
       "      <td>0.0</td>\n",
       "      <td>1.0</td>\n",
       "      <td>0.0</td>\n",
       "      <td>0.0</td>\n",
       "      <td>1.0</td>\n",
       "      <td>0.0</td>\n",
       "      <td>1.0</td>\n",
       "      <td>0.0</td>\n",
       "      <td>0.0</td>\n",
       "      <td>0.0</td>\n",
       "      <td>0.0</td>\n",
       "      <td>0.0</td>\n",
       "      <td>0.0</td>\n",
       "      <td>0.0</td>\n",
       "      <td>0.0</td>\n",
       "      <td>0.0</td>\n",
       "      <td>1.0</td>\n",
       "      <td>0.0</td>\n",
       "    </tr>\n",
       "    <tr>\n",
       "      <th>1</th>\n",
       "      <td>38.0</td>\n",
       "      <td>1.0</td>\n",
       "      <td>71.2833</td>\n",
       "      <td>1.0</td>\n",
       "      <td>0.0</td>\n",
       "      <td>0.0</td>\n",
       "      <td>0.0</td>\n",
       "      <td>1.0</td>\n",
       "      <td>0.0</td>\n",
       "      <td>0.0</td>\n",
       "      <td>1.0</td>\n",
       "      <td>0.0</td>\n",
       "      <td>0.0</td>\n",
       "      <td>0.0</td>\n",
       "      <td>0.0</td>\n",
       "      <td>0.0</td>\n",
       "      <td>0.0</td>\n",
       "      <td>0.0</td>\n",
       "      <td>1.0</td>\n",
       "      <td>0.0</td>\n",
       "      <td>0.0</td>\n",
       "      <td>0.0</td>\n",
       "    </tr>\n",
       "    <tr>\n",
       "      <th>2</th>\n",
       "      <td>26.0</td>\n",
       "      <td>0.0</td>\n",
       "      <td>7.9250</td>\n",
       "      <td>0.0</td>\n",
       "      <td>0.0</td>\n",
       "      <td>1.0</td>\n",
       "      <td>0.0</td>\n",
       "      <td>1.0</td>\n",
       "      <td>0.0</td>\n",
       "      <td>0.0</td>\n",
       "      <td>1.0</td>\n",
       "      <td>0.0</td>\n",
       "      <td>0.0</td>\n",
       "      <td>0.0</td>\n",
       "      <td>0.0</td>\n",
       "      <td>0.0</td>\n",
       "      <td>0.0</td>\n",
       "      <td>0.0</td>\n",
       "      <td>0.0</td>\n",
       "      <td>0.0</td>\n",
       "      <td>1.0</td>\n",
       "      <td>0.0</td>\n",
       "    </tr>\n",
       "    <tr>\n",
       "      <th>3</th>\n",
       "      <td>35.0</td>\n",
       "      <td>1.0</td>\n",
       "      <td>53.1000</td>\n",
       "      <td>1.0</td>\n",
       "      <td>0.0</td>\n",
       "      <td>0.0</td>\n",
       "      <td>0.0</td>\n",
       "      <td>1.0</td>\n",
       "      <td>0.0</td>\n",
       "      <td>0.0</td>\n",
       "      <td>1.0</td>\n",
       "      <td>0.0</td>\n",
       "      <td>0.0</td>\n",
       "      <td>0.0</td>\n",
       "      <td>0.0</td>\n",
       "      <td>0.0</td>\n",
       "      <td>0.0</td>\n",
       "      <td>0.0</td>\n",
       "      <td>0.0</td>\n",
       "      <td>0.0</td>\n",
       "      <td>1.0</td>\n",
       "      <td>0.0</td>\n",
       "    </tr>\n",
       "    <tr>\n",
       "      <th>4</th>\n",
       "      <td>35.0</td>\n",
       "      <td>0.0</td>\n",
       "      <td>8.0500</td>\n",
       "      <td>0.0</td>\n",
       "      <td>0.0</td>\n",
       "      <td>1.0</td>\n",
       "      <td>0.0</td>\n",
       "      <td>0.0</td>\n",
       "      <td>1.0</td>\n",
       "      <td>0.0</td>\n",
       "      <td>1.0</td>\n",
       "      <td>0.0</td>\n",
       "      <td>0.0</td>\n",
       "      <td>0.0</td>\n",
       "      <td>0.0</td>\n",
       "      <td>0.0</td>\n",
       "      <td>0.0</td>\n",
       "      <td>0.0</td>\n",
       "      <td>0.0</td>\n",
       "      <td>0.0</td>\n",
       "      <td>1.0</td>\n",
       "      <td>0.0</td>\n",
       "    </tr>\n",
       "  </tbody>\n",
       "</table>\n",
       "</div>"
      ],
      "text/plain": [
       "    Age  SibSp     Fare  Pclass_1  Pclass_2  Pclass_3  Pclass_nan  Sex_female  \\\n",
       "0  22.0    1.0   7.2500       0.0       0.0       1.0         0.0         0.0   \n",
       "1  38.0    1.0  71.2833       1.0       0.0       0.0         0.0         1.0   \n",
       "2  26.0    0.0   7.9250       0.0       0.0       1.0         0.0         1.0   \n",
       "3  35.0    1.0  53.1000       1.0       0.0       0.0         0.0         1.0   \n",
       "4  35.0    0.0   8.0500       0.0       0.0       1.0         0.0         0.0   \n",
       "\n",
       "   Sex_male  Sex_nan  Parch_0  Parch_1  Parch_2  Parch_3  Parch_4  Parch_5  \\\n",
       "0       1.0      0.0      1.0      0.0      0.0      0.0      0.0      0.0   \n",
       "1       0.0      0.0      1.0      0.0      0.0      0.0      0.0      0.0   \n",
       "2       0.0      0.0      1.0      0.0      0.0      0.0      0.0      0.0   \n",
       "3       0.0      0.0      1.0      0.0      0.0      0.0      0.0      0.0   \n",
       "4       1.0      0.0      1.0      0.0      0.0      0.0      0.0      0.0   \n",
       "\n",
       "   Parch_6  Parch_nan  Embarked_C  Embarked_Q  Embarked_S  Embarked_nan  \n",
       "0      0.0        0.0         0.0         0.0         1.0           0.0  \n",
       "1      0.0        0.0         1.0         0.0         0.0           0.0  \n",
       "2      0.0        0.0         0.0         0.0         1.0           0.0  \n",
       "3      0.0        0.0         0.0         0.0         1.0           0.0  \n",
       "4      0.0        0.0         0.0         0.0         1.0           0.0  "
      ]
     },
     "metadata": {},
     "output_type": "display_data"
    }
   ],
   "source": [
    "def imputing_nan(X_ohe_for_training, X_ohe_apply_to):\n",
    "    \n",
    "    imp = SimpleImputer()    # default設定で平均値\n",
    "    imp.fit(X_ohe_for_training)             # impにて計算するデータ\n",
    "    \n",
    "    X_ohe_columns =  X_ohe_for_training.columns.values\n",
    "    X_ohe = pd.DataFrame(imp.transform(X_ohe_apply_to), columns=X_ohe_columns)\n",
    "    display(X_ohe.head())\n",
    "    return X_ohe,  X_ohe_columns, imp\n",
    "\n",
    "X_ohe, X_ohe_columns, imp = imputing_nan(X_ohe, X_ohe)"
   ]
  },
  {
   "cell_type": "code",
   "execution_count": 35,
   "metadata": {
    "colab": {},
    "colab_type": "code",
    "id": "VA6lGGOdJJS-",
    "outputId": "214809e6-308e-45de-e60c-edce7adbdbf1"
   },
   "outputs": [
    {
     "data": {
      "text/plain": [
       "(891, 22)"
      ]
     },
     "execution_count": 35,
     "metadata": {},
     "output_type": "execute_result"
    }
   ],
   "source": [
    "X_ohe.shape"
   ]
  },
  {
   "cell_type": "markdown",
   "metadata": {
    "colab_type": "text",
    "id": "BCkXzpmFJJTD"
   },
   "source": [
    "#### 5-3. 次元圧縮(特徴量選択)"
   ]
  },
  {
   "cell_type": "markdown",
   "metadata": {
    "colab_type": "text",
    "id": "w33zAZ37N7sa"
   },
   "source": [
    "モデル用データの前処理：次元圧縮（特徴量選択）  \n",
    "RFEによる特徴量選択を実施します。"
   ]
  },
  {
   "cell_type": "code",
   "execution_count": 37,
   "metadata": {
    "colab": {},
    "colab_type": "code",
    "id": "SDTmAmz8N7sb",
    "outputId": "ad1acfde-9b77-4e6d-f967-778710553a5c"
   },
   "outputs": [
    {
     "name": "stdout",
     "output_type": "stream",
     "text": [
      "X_fin shape:(891,15)\n"
     ]
    },
    {
     "data": {
      "text/html": [
       "<div>\n",
       "<style scoped>\n",
       "    .dataframe tbody tr th:only-of-type {\n",
       "        vertical-align: middle;\n",
       "    }\n",
       "\n",
       "    .dataframe tbody tr th {\n",
       "        vertical-align: top;\n",
       "    }\n",
       "\n",
       "    .dataframe thead th {\n",
       "        text-align: right;\n",
       "    }\n",
       "</style>\n",
       "<table border=\"1\" class=\"dataframe\">\n",
       "  <thead>\n",
       "    <tr style=\"text-align: right;\">\n",
       "      <th></th>\n",
       "      <th>Age</th>\n",
       "      <th>SibSp</th>\n",
       "      <th>Fare</th>\n",
       "      <th>Pclass_1</th>\n",
       "      <th>Pclass_2</th>\n",
       "      <th>Pclass_3</th>\n",
       "      <th>Sex_female</th>\n",
       "      <th>Sex_male</th>\n",
       "      <th>Parch_0</th>\n",
       "      <th>Parch_1</th>\n",
       "      <th>Parch_2</th>\n",
       "      <th>Parch_5</th>\n",
       "      <th>Embarked_C</th>\n",
       "      <th>Embarked_Q</th>\n",
       "      <th>Embarked_S</th>\n",
       "    </tr>\n",
       "  </thead>\n",
       "  <tbody>\n",
       "    <tr>\n",
       "      <th>0</th>\n",
       "      <td>22.0</td>\n",
       "      <td>1.0</td>\n",
       "      <td>7.2500</td>\n",
       "      <td>0.0</td>\n",
       "      <td>0.0</td>\n",
       "      <td>1.0</td>\n",
       "      <td>0.0</td>\n",
       "      <td>1.0</td>\n",
       "      <td>1.0</td>\n",
       "      <td>0.0</td>\n",
       "      <td>0.0</td>\n",
       "      <td>0.0</td>\n",
       "      <td>0.0</td>\n",
       "      <td>0.0</td>\n",
       "      <td>1.0</td>\n",
       "    </tr>\n",
       "    <tr>\n",
       "      <th>1</th>\n",
       "      <td>38.0</td>\n",
       "      <td>1.0</td>\n",
       "      <td>71.2833</td>\n",
       "      <td>1.0</td>\n",
       "      <td>0.0</td>\n",
       "      <td>0.0</td>\n",
       "      <td>1.0</td>\n",
       "      <td>0.0</td>\n",
       "      <td>1.0</td>\n",
       "      <td>0.0</td>\n",
       "      <td>0.0</td>\n",
       "      <td>0.0</td>\n",
       "      <td>1.0</td>\n",
       "      <td>0.0</td>\n",
       "      <td>0.0</td>\n",
       "    </tr>\n",
       "    <tr>\n",
       "      <th>2</th>\n",
       "      <td>26.0</td>\n",
       "      <td>0.0</td>\n",
       "      <td>7.9250</td>\n",
       "      <td>0.0</td>\n",
       "      <td>0.0</td>\n",
       "      <td>1.0</td>\n",
       "      <td>1.0</td>\n",
       "      <td>0.0</td>\n",
       "      <td>1.0</td>\n",
       "      <td>0.0</td>\n",
       "      <td>0.0</td>\n",
       "      <td>0.0</td>\n",
       "      <td>0.0</td>\n",
       "      <td>0.0</td>\n",
       "      <td>1.0</td>\n",
       "    </tr>\n",
       "    <tr>\n",
       "      <th>3</th>\n",
       "      <td>35.0</td>\n",
       "      <td>1.0</td>\n",
       "      <td>53.1000</td>\n",
       "      <td>1.0</td>\n",
       "      <td>0.0</td>\n",
       "      <td>0.0</td>\n",
       "      <td>1.0</td>\n",
       "      <td>0.0</td>\n",
       "      <td>1.0</td>\n",
       "      <td>0.0</td>\n",
       "      <td>0.0</td>\n",
       "      <td>0.0</td>\n",
       "      <td>0.0</td>\n",
       "      <td>0.0</td>\n",
       "      <td>1.0</td>\n",
       "    </tr>\n",
       "    <tr>\n",
       "      <th>4</th>\n",
       "      <td>35.0</td>\n",
       "      <td>0.0</td>\n",
       "      <td>8.0500</td>\n",
       "      <td>0.0</td>\n",
       "      <td>0.0</td>\n",
       "      <td>1.0</td>\n",
       "      <td>0.0</td>\n",
       "      <td>1.0</td>\n",
       "      <td>1.0</td>\n",
       "      <td>0.0</td>\n",
       "      <td>0.0</td>\n",
       "      <td>0.0</td>\n",
       "      <td>0.0</td>\n",
       "      <td>0.0</td>\n",
       "      <td>1.0</td>\n",
       "    </tr>\n",
       "  </tbody>\n",
       "</table>\n",
       "</div>"
      ],
      "text/plain": [
       "    Age  SibSp     Fare  Pclass_1  Pclass_2  Pclass_3  Sex_female  Sex_male  \\\n",
       "0  22.0    1.0   7.2500       0.0       0.0       1.0         0.0       1.0   \n",
       "1  38.0    1.0  71.2833       1.0       0.0       0.0         1.0       0.0   \n",
       "2  26.0    0.0   7.9250       0.0       0.0       1.0         1.0       0.0   \n",
       "3  35.0    1.0  53.1000       1.0       0.0       0.0         1.0       0.0   \n",
       "4  35.0    0.0   8.0500       0.0       0.0       1.0         0.0       1.0   \n",
       "\n",
       "   Parch_0  Parch_1  Parch_2  Parch_5  Embarked_C  Embarked_Q  Embarked_S  \n",
       "0      1.0      0.0      0.0      0.0         0.0         0.0         1.0  \n",
       "1      1.0      0.0      0.0      0.0         1.0         0.0         0.0  \n",
       "2      1.0      0.0      0.0      0.0         0.0         0.0         1.0  \n",
       "3      1.0      0.0      0.0      0.0         0.0         0.0         1.0  \n",
       "4      1.0      0.0      0.0      0.0         0.0         0.0         1.0  "
      ]
     },
     "metadata": {},
     "output_type": "display_data"
    }
   ],
   "source": [
    "def dimension_compression(X_ohe, y):\n",
    "    selector = RFE(RandomForestClassifier(n_estimators=100, random_state=1),\n",
    "               n_features_to_select=15, # 圧縮後の次元数\n",
    "               step=.05)\n",
    "    selector.fit(X_ohe,y)\n",
    "    X_ohe_columns =  X_ohe.columns.values\n",
    "    # 学習用のデータセットを処理\n",
    "    # selector.support_には、True/Falseのリストとなっている\n",
    "    X_fin = X_ohe.loc[:, X_ohe_columns[selector.support_]]\n",
    "    print('X_fin shape:(%i,%i)' % X_fin.shape)\n",
    "    display(X_fin.head())\n",
    "    return X_fin, selector\n",
    "    \n",
    "X_fin, selector = dimension_compression(X_ohe, y)"
   ]
  },
  {
   "cell_type": "code",
   "execution_count": 57,
   "metadata": {
    "colab": {},
    "colab_type": "code",
    "id": "gXemgjGDN7se",
    "outputId": "b4e1d09a-f691-460b-aab6-4acea80a079a"
   },
   "outputs": [
    {
     "name": "stdout",
     "output_type": "stream",
     "text": [
      "-----------------------------------\n",
      "X_fin shape: (891,15)\n",
      "-----------------------------------\n",
      "0    549\n",
      "1    342\n",
      "Name: Survived, dtype: int64\n",
      "--------------------------------------------------\n",
      "y=0 means Not survived,　y=1 Survived(生存):\n",
      "--------------------------------------------------\n",
      "y shape: (891,)\n",
      "--------------------------------------------------\n"
     ]
    }
   ],
   "source": [
    "print('-----------------------------------')\n",
    "print('X_fin shape: (%i,%i)' %X_fin.shape)\n",
    "print('-----------------------------------')\n",
    "print(y.value_counts())\n",
    "print('--------------------------------------------------')\n",
    "print('y=0 means Not survived,　y=1 Survived(生存):')\n",
    "print('--------------------------------------------------')\n",
    "print('y shape: (%i,)' %y.shape)\n",
    "print('--------------------------------------------------')"
   ]
  },
  {
   "cell_type": "markdown",
   "metadata": {},
   "source": [
    "#### 5-4. 不均衡データへの対応\n",
    "(未実装)"
   ]
  },
  {
   "cell_type": "markdown",
   "metadata": {
    "colab_type": "text",
    "id": "hfG2H0lFN7sh"
   },
   "source": [
    "### 6. Pipelineの設定  \n",
    "#### 6-1. Pipelineの定義"
   ]
  },
  {
   "cell_type": "code",
   "execution_count": 60,
   "metadata": {},
   "outputs": [],
   "source": [
    "# set pipelines for different algorithms\n",
    "# ディクショナリー型のpipelinesに、モデル名をkey、値にpipelineのリストを登録\n",
    "pipelines = {\n",
    "    'knn':\n",
    "        Pipeline([('scl',StandardScaler()),\n",
    "                    ('est',KNeighborsClassifier())]),\n",
    "    # ロジスティック回帰\n",
    "    'logistic':\n",
    "        Pipeline([('scl',StandardScaler()),\n",
    "                    ('est',LogisticRegression(random_state=1))]),\n",
    "    'rsvc':\n",
    "        Pipeline([('scl',StandardScaler()),\n",
    "                    ('est',SVC(C=1.0, kernel='rbf', class_weight='balanced', random_state=1))]),\n",
    "    'lsvc':\n",
    "        Pipeline([('scl',StandardScaler()),\n",
    "                    ('est',LinearSVC(C=1.0, class_weight='balanced',random_state=1))]),\n",
    "    'tree':\n",
    "        Pipeline([('scl',StandardScaler()),\n",
    "                    ('est',DecisionTreeClassifier(random_state=1))]),\n",
    "    'rf':\n",
    "        Pipeline([('scl',StandardScaler()),\n",
    "                    ('est',RandomForestClassifier(random_state=1))]),\n",
    "    'gb':\n",
    "        Pipeline([('scl',StandardScaler()),\n",
    "                    ('est',GradientBoostingClassifier(random_state=1))]),\n",
    "    'mlp':\n",
    "        Pipeline([('scl',StandardScaler()),\n",
    "                    ('est',MLPClassifier(hidden_layer_sizes=(3,3), max_iter=1000, random_state=1))]),\n",
    "    'xgb':\n",
    "        Pipeline([('scl',StandardScaler()),\n",
    "                    ('est',xgb.XGBClassifier())]),\n",
    "    'lgbm':\n",
    "        Pipeline([('scl',StandardScaler()),\n",
    "                    ('est',lgb.LGBMClassifier())]),\n",
    "}"
   ]
  },
  {
   "cell_type": "markdown",
   "metadata": {},
   "source": [
    "#### 6-2. Grid Seach用のパラメータ設定"
   ]
  },
  {
   "cell_type": "code",
   "execution_count": 64,
   "metadata": {
    "colab": {},
    "colab_type": "code",
    "id": "tNq-V1m8JJTb"
   },
   "outputs": [],
   "source": [
    "params = {\n",
    "    'knn' : {'est__n_neighbors':[5,7,10], 'est__weights':['uniform','distance'],},\n",
    "    \n",
    "    'logistic': {'est__C':[1, 100],},\n",
    "    \n",
    "    'rsvc': {'est__C':[1, 100],},\n",
    "    \n",
    "    'lsvc': {'est__C':[1, 100],},\n",
    "    \n",
    "    'tree': {'est__max_depth': list(range(10, 20)),\n",
    "              'est__criterion': ['gini', 'entropy'],},\n",
    "    \n",
    "    'rf': {'est__n_estimators':[320, 340],\n",
    "            'est__max_depth': [8, 10,],\n",
    "            'est__random_state': [0],},\n",
    "    \n",
    "    'gb': {'est__loss':['deviance'],\n",
    "            'est__learning_rate': [0.01, 0.1],\n",
    "            'est__min_samples_split': np.linspace(0.1, 0.5, 2),\n",
    "            'est__min_samples_leaf': np.linspace(0.1, 0.5, 2),\n",
    "            'est__max_depth':[3,5],\n",
    "            'est__max_features':['log2','sqrt'],\n",
    "            'est__criterion': ['friedman_mse',  'mae'],\n",
    "            'est__subsample':[0.5, 1.0],\n",
    "            'est__n_estimators':[10],},\n",
    "    \n",
    "    'mlp': {'est__solver': ['lbfgs'],\n",
    "            'est__max_iter': [10000],\n",
    "            'est__alpha': 10.0 ** -np.arange(1, 3),\n",
    "            'est__hidden_layer_sizes':np.arange(10, 12),},\n",
    "    \n",
    "    'xgb': {'est__n_estimators':[100,500,],\n",
    "            'est__max_depth':[6, 8,10],\n",
    "            'est__learning_rate':[0.001, 0.01, 0.1, 1],\n",
    "            'est__min_child_weight': [1,6],},\n",
    "    \n",
    "    'lgbm': {'est__max_depth':[5,10, 20, 50,],\n",
    "            'est__learning_rate':[0.001, 0.01,0.1,1],\n",
    "            'est__num_leaves':[10, 15, 31,],\n",
    "            'est__n_estimators':[100, 500,],},\n",
    "    \n",
    "}"
   ]
  },
  {
   "cell_type": "markdown",
   "metadata": {
    "colab_type": "text",
    "id": "ZQRqx22mN7sq"
   },
   "source": [
    "### 7. 学習、評価"
   ]
  },
  {
   "cell_type": "code",
   "execution_count": 38,
   "metadata": {
    "colab": {},
    "colab_type": "code",
    "id": "ZYI69rogN7si"
   },
   "outputs": [],
   "source": [
    "# Holdout法(訓練データとテストデータに分ける)\n",
    "X_train, X_test, y_train, y_test=train_test_split(X_fin,\n",
    "                                               y,\n",
    "                                               test_size=0.3,\n",
    "                                               random_state=1)"
   ]
  },
  {
   "cell_type": "markdown",
   "metadata": {
    "colab_type": "text",
    "id": "EbAh94vVJJTY"
   },
   "source": [
    "Grid Searchのパラメータを設定"
   ]
  },
  {
   "cell_type": "code",
   "execution_count": 39,
   "metadata": {
    "colab": {},
    "colab_type": "code",
    "id": "6jx-8dmjJJTf",
    "outputId": "7309f74d-5bfa-456c-d9ee-2eb5a4c879d6"
   },
   "outputs": [
    {
     "ename": "NameError",
     "evalue": "name 'pipelines' is not defined",
     "output_type": "error",
     "traceback": [
      "\u001b[0;31m---------------------------------------------------------------------------\u001b[0m",
      "\u001b[0;31mNameError\u001b[0m                                 Traceback (most recent call last)",
      "\u001b[0;32m<ipython-input-39-ca3dee8e9abd>\u001b[0m in \u001b[0;36m<module>\u001b[0;34m\u001b[0m\n\u001b[1;32m     11\u001b[0m \u001b[0;31m# パイプラインの先頭にある文字列（例えば、'KNN')が pipe_name に、各パイプラインのインスタンスがpipelineに順次入る\u001b[0m\u001b[0;34m\u001b[0m\u001b[0;34m\u001b[0m\u001b[0;34m\u001b[0m\u001b[0m\n\u001b[1;32m     12\u001b[0m \u001b[0;34m\u001b[0m\u001b[0m\n\u001b[0;32m---> 13\u001b[0;31m \u001b[0;32mfor\u001b[0m \u001b[0mpipe_name\u001b[0m\u001b[0;34m,\u001b[0m \u001b[0mpipeline\u001b[0m \u001b[0;32min\u001b[0m \u001b[0mpipelines\u001b[0m\u001b[0;34m.\u001b[0m\u001b[0mitems\u001b[0m\u001b[0;34m(\u001b[0m\u001b[0;34m)\u001b[0m\u001b[0;34m:\u001b[0m\u001b[0;34m\u001b[0m\u001b[0;34m\u001b[0m\u001b[0m\n\u001b[0m\u001b[1;32m     14\u001b[0m     \u001b[0mprint\u001b[0m\u001b[0;34m(\u001b[0m\u001b[0mpipe_name\u001b[0m\u001b[0;34m)\u001b[0m\u001b[0;34m\u001b[0m\u001b[0;34m\u001b[0m\u001b[0m\n\u001b[1;32m     15\u001b[0m     \u001b[0mprint\u001b[0m\u001b[0;34m(\u001b[0m\u001b[0mparams\u001b[0m\u001b[0;34m[\u001b[0m\u001b[0mpipe_name\u001b[0m\u001b[0;34m]\u001b[0m\u001b[0;34m)\u001b[0m\u001b[0;34m\u001b[0m\u001b[0;34m\u001b[0m\u001b[0m\n",
      "\u001b[0;31mNameError\u001b[0m: name 'pipelines' is not defined"
     ]
    }
   ],
   "source": [
    "#  評価指標\n",
    "evaluation_scoring = 'f1'\n",
    "\n",
    "# スコア格納用リストの初期化（Dict型）\n",
    "scores = {}\n",
    "\n",
    "# GridSearchのパラメータ、スコア格納用リストの初期化\n",
    "best_params ={}\n",
    "best_scores ={}\n",
    "\n",
    "# パイプラインの先頭にある文字列（例えば、'KNN')が pipe_name に、各パイプラインのインスタンスがpipelineに順次入る\n",
    "\n",
    "for pipe_name, pipeline in pipelines.items():\n",
    "    print(pipe_name)\n",
    "    print(params[pipe_name])\n",
    "    start = time.time()\n",
    "    gs = GridSearchCV(estimator=pipeline,\n",
    "                     param_grid = params[pipe_name],\n",
    "                     scoring=evaluation_scoring,\n",
    "                     cv=5,\n",
    "                     return_train_score=False)\n",
    "    # 学習\n",
    "    gs.fit(X_train, y_train)\n",
    "    \n",
    "    print('time', time.time()-start)\n",
    "    scores[(pipe_name,'train')] = accuracy_score(y_train, gs.predict(X_train))\n",
    "    scores[(pipe_name,'test')] = accuracy_score(y_test, gs.predict(X_test))\n",
    "    best_params[pipe_name] = gs.best_params_\n",
    "    best_scores[pipe_name] = gs.best_score_\n",
    "    \n",
    "    # 各モデル格納用のディレクトリ を作成\n",
    "    os.makedirs('./pipeline_model', exist_ok=True)\n",
    "     # 各モデル保存(modelフォルダー)\n",
    "    file_name = './pipeline_model/'+pipe_name+'.pkl'\n",
    "    pickle.dump(pipeline, open(file_name, 'wb'))\n",
    "\n",
    "print('---accuracy---')\n",
    "pd.Series(scores).unstack()"
   ]
  },
  {
   "cell_type": "markdown",
   "metadata": {
    "colab_type": "text",
    "id": "Asit4KWnJJTn"
   },
   "source": [
    "ラジオボタンで選択するモデル"
   ]
  },
  {
   "cell_type": "code",
   "execution_count": 67,
   "metadata": {
    "colab": {},
    "colab_type": "code",
    "id": "QhOldaQoJJTn",
    "outputId": "32c28f58-baa2-4a16-e8b9-d0cb18999c99"
   },
   "outputs": [
    {
     "data": {
      "text/plain": [
       "{('knn', 'train'): 0.9887640449438202,\n",
       " ('knn', 'test'): 0.75,\n",
       " ('logistic', 'train'): 0.8202247191011236,\n",
       " ('logistic', 'test'): 0.7761194029850746,\n",
       " ('rsvc', 'train'): 0.8475120385232745,\n",
       " ('rsvc', 'test'): 0.7761194029850746,\n",
       " ('lsvc', 'train'): 0.7929373996789727,\n",
       " ('lsvc', 'test'): 0.7873134328358209,\n",
       " ('tree', 'train'): 0.9293739967897271,\n",
       " ('tree', 'test'): 0.7611940298507462,\n",
       " ('rf', 'train'): 0.9181380417335474,\n",
       " ('rf', 'test'): 0.7910447761194029,\n",
       " ('gb', 'train'): 0.8009630818619583,\n",
       " ('gb', 'test'): 0.753731343283582,\n",
       " ('mlp', 'train'): 0.9165329052969502,\n",
       " ('mlp', 'test'): 0.746268656716418,\n",
       " ('xgb', 'train'): 0.8876404494382022,\n",
       " ('xgb', 'test'): 0.7723880597014925,\n",
       " ('lgbm', 'train'): 0.898876404494382,\n",
       " ('lgbm', 'test'): 0.7723880597014925}"
      ]
     },
     "execution_count": 67,
     "metadata": {},
     "output_type": "execute_result"
    }
   ],
   "source": [
    "scores"
   ]
  },
  {
   "cell_type": "markdown",
   "metadata": {
    "colab_type": "text",
    "id": "kU3CaGZdN7s1"
   },
   "source": [
    "### 8. モデルの選定"
   ]
  },
  {
   "cell_type": "code",
   "execution_count": 70,
   "metadata": {
    "colab": {},
    "colab_type": "code",
    "id": "B9YaWFbRN7st"
   },
   "outputs": [],
   "source": [
    "def get_answer(x):\n",
    "    return x"
   ]
  },
  {
   "cell_type": "code",
   "execution_count": 71,
   "metadata": {
    "colab": {},
    "colab_type": "code",
    "id": "83xvLma9N7sv",
    "outputId": "cf096ed2-07ec-4258-8f17-d5940cd24360"
   },
   "outputs": [
    {
     "data": {
      "application/vnd.jupyter.widget-view+json": {
       "model_id": "0f7e2abb0ece4e218c853f877e83ef3b",
       "version_major": 2,
       "version_minor": 0
      },
      "text/plain": [
       "RadioButtons(options=('knn', 'logistic', 'rsvc', 'lsvc', 'tree', 'rf', 'gb', 'mlp', 'xgb', 'lgbm'), value='knn…"
      ]
     },
     "metadata": {},
     "output_type": "display_data"
    }
   ],
   "source": [
    "model_selection = get_answer(widgets.RadioButtons(options=pipelines.keys()))\n",
    "display(model_selection)"
   ]
  },
  {
   "cell_type": "code",
   "execution_count": 73,
   "metadata": {
    "colab": {},
    "colab_type": "code",
    "id": "x_-4k9R9N7sy",
    "outputId": "650ee6c0-1297-4448-c2de-705e58a4a316"
   },
   "outputs": [
    {
     "name": "stdout",
     "output_type": "stream",
     "text": [
      "lgbm\n"
     ]
    }
   ],
   "source": [
    "selected_model_name = model_selection.value\n",
    "print(selected_model_name)"
   ]
  },
  {
   "cell_type": "code",
   "execution_count": 74,
   "metadata": {},
   "outputs": [
    {
     "name": "stdout",
     "output_type": "stream",
     "text": [
      "0.9438832772166106\n"
     ]
    }
   ],
   "source": [
    "final_param = best_params['lgbm']\n",
    "final_model=lgb.LGBMClassifier(**final_param)\n",
    "final_model.fit(X_fin, y)\n",
    "print(final_model.score(X_fin, y))"
   ]
  },
  {
   "cell_type": "code",
   "execution_count": 75,
   "metadata": {
    "colab": {},
    "colab_type": "code",
    "id": "xtwB3UEFN7s1",
    "outputId": "28b01f13-f040-489a-fe22-0db002fed1ed"
   },
   "outputs": [
    {
     "name": "stdout",
     "output_type": "stream",
     "text": [
      "0.9438832772166106\n"
     ]
    }
   ],
   "source": [
    "# 全データを使った学習\n",
    "final_model = pipelines[selected_model_name].fit(X_fin, y)\n",
    "print(final_model.score(X_fin, y))\n",
    "\n",
    "# モデル格納用のディレクトリ を作成\n",
    "os.makedirs('./selected_model', exist_ok=True)\n",
    "# モデル保存(modelフォルダー)\n",
    "file_name = './selected_model/selected_model_'+selected_model_name +'.pkl'\n",
    "pickle.dump(final_model, open(file_name, 'wb'))"
   ]
  },
  {
   "cell_type": "markdown",
   "metadata": {
    "colab_type": "text",
    "id": "gBJa13UxN7s4"
   },
   "source": [
    "### 10. スコアリングフェーズ  \n",
    "#### 10-1. スコアリングフェーズ：スコアリング用のデータ読み出し"
   ]
  },
  {
   "cell_type": "code",
   "execution_count": 76,
   "metadata": {
    "colab": {},
    "colab_type": "code",
    "id": "3uoNF1MBN7s7",
    "outputId": "8aa1384f-a331-49d2-9d4b-e3e247f2f3da"
   },
   "outputs": [
    {
     "name": "stdout",
     "output_type": "stream",
     "text": [
      "-----------------------------------\n",
      "Raw Shape: (418, 11)\n",
      "X_s Shape: (418, 7)\n",
      "-----------------------------------\n",
      "Pclass       object\n",
      "Sex          object\n",
      "Age         float64\n",
      "SibSp         int64\n",
      "Parch        object\n",
      "Fare        float64\n",
      "Embarked     object\n",
      "dtype: object\n"
     ]
    },
    {
     "data": {
      "text/html": [
       "<div>\n",
       "<style scoped>\n",
       "    .dataframe tbody tr th:only-of-type {\n",
       "        vertical-align: middle;\n",
       "    }\n",
       "\n",
       "    .dataframe tbody tr th {\n",
       "        vertical-align: top;\n",
       "    }\n",
       "\n",
       "    .dataframe thead th {\n",
       "        text-align: right;\n",
       "    }\n",
       "</style>\n",
       "<table border=\"1\" class=\"dataframe\">\n",
       "  <thead>\n",
       "    <tr style=\"text-align: right;\">\n",
       "      <th></th>\n",
       "      <th>PassengerId</th>\n",
       "      <th>Pclass</th>\n",
       "      <th>Sex</th>\n",
       "      <th>Age</th>\n",
       "      <th>SibSp</th>\n",
       "      <th>Parch</th>\n",
       "      <th>Fare</th>\n",
       "      <th>Embarked</th>\n",
       "    </tr>\n",
       "  </thead>\n",
       "  <tbody>\n",
       "    <tr>\n",
       "      <th>0</th>\n",
       "      <td>892</td>\n",
       "      <td>3</td>\n",
       "      <td>male</td>\n",
       "      <td>34.5</td>\n",
       "      <td>0</td>\n",
       "      <td>0</td>\n",
       "      <td>7.8292</td>\n",
       "      <td>Q</td>\n",
       "    </tr>\n",
       "    <tr>\n",
       "      <th>1</th>\n",
       "      <td>893</td>\n",
       "      <td>3</td>\n",
       "      <td>female</td>\n",
       "      <td>47.0</td>\n",
       "      <td>1</td>\n",
       "      <td>0</td>\n",
       "      <td>7.0000</td>\n",
       "      <td>S</td>\n",
       "    </tr>\n",
       "    <tr>\n",
       "      <th>2</th>\n",
       "      <td>894</td>\n",
       "      <td>2</td>\n",
       "      <td>male</td>\n",
       "      <td>62.0</td>\n",
       "      <td>0</td>\n",
       "      <td>0</td>\n",
       "      <td>9.6875</td>\n",
       "      <td>Q</td>\n",
       "    </tr>\n",
       "    <tr>\n",
       "      <th>3</th>\n",
       "      <td>895</td>\n",
       "      <td>3</td>\n",
       "      <td>male</td>\n",
       "      <td>27.0</td>\n",
       "      <td>0</td>\n",
       "      <td>0</td>\n",
       "      <td>8.6625</td>\n",
       "      <td>S</td>\n",
       "    </tr>\n",
       "    <tr>\n",
       "      <th>4</th>\n",
       "      <td>896</td>\n",
       "      <td>3</td>\n",
       "      <td>female</td>\n",
       "      <td>22.0</td>\n",
       "      <td>1</td>\n",
       "      <td>1</td>\n",
       "      <td>12.2875</td>\n",
       "      <td>S</td>\n",
       "    </tr>\n",
       "  </tbody>\n",
       "</table>\n",
       "</div>"
      ],
      "text/plain": [
       "   PassengerId Pclass     Sex   Age  SibSp Parch     Fare Embarked\n",
       "0          892      3    male  34.5      0     0   7.8292        Q\n",
       "1          893      3  female  47.0      1     0   7.0000        S\n",
       "2          894      2    male  62.0      0     0   9.6875        Q\n",
       "3          895      3    male  27.0      0     0   8.6625        S\n",
       "4          896      3  female  22.0      1     1  12.2875        S"
      ]
     },
     "execution_count": 76,
     "metadata": {},
     "output_type": "execute_result"
    }
   ],
   "source": [
    "# csvファイルからの読み出し\n",
    "dataset_s = pd.read_csv(test_file,\n",
    "                          header=0,    # CSVデータの1行目が見出し(header)で有ることを指定。データは1行目が[0]\n",
    "                          dtype=my_dtype)\n",
    "\n",
    "# 1列目のID情報、推論対象は特徴量から削除\n",
    "ID_s = dataset_s.iloc[:,[0]]    # 第０列はPassengerIDなので、IDとしてセット\n",
    "X_s = dataset_s.drop(score_reject_items, axis=1)    # 1列目はID情報のため特徴量から削除\n",
    "\n",
    "# 形状の確認\n",
    "print('-----------------------------------')\n",
    "print('Raw Shape: (%i, %i)' %dataset_s.shape)\n",
    "print('X_s Shape: (%i, %i)' %X_s.shape)\n",
    "print('-----------------------------------')\n",
    "print(X_s.dtypes)\n",
    "ID_s.join(X_s).head()"
   ]
  },
  {
   "cell_type": "markdown",
   "metadata": {},
   "source": [
    "#### 10-2. スコアリングフェーズ：one-hot-encoding処理"
   ]
  },
  {
   "cell_type": "code",
   "execution_count": 40,
   "metadata": {
    "colab": {},
    "colab_type": "code",
    "id": "XU1_kZvJN7s-",
    "outputId": "ae47640b-62bc-41d2-9623-4c676abbaaf8"
   },
   "outputs": [
    {
     "ename": "NameError",
     "evalue": "name 'X_s' is not defined",
     "output_type": "error",
     "traceback": [
      "\u001b[0;31m---------------------------------------------------------------------------\u001b[0m",
      "\u001b[0;31mNameError\u001b[0m                                 Traceback (most recent call last)",
      "\u001b[0;32m<ipython-input-40-e0227bd1ab24>\u001b[0m in \u001b[0;36m<module>\u001b[0;34m\u001b[0m\n\u001b[0;32m----> 1\u001b[0;31m X_ohe_s = pd.get_dummies(X_s,\n\u001b[0m\u001b[1;32m      2\u001b[0m                          \u001b[0mdummy_na\u001b[0m\u001b[0;34m=\u001b[0m\u001b[0;32mTrue\u001b[0m\u001b[0;34m,\u001b[0m\u001b[0;34m\u001b[0m\u001b[0;34m\u001b[0m\u001b[0m\n\u001b[1;32m      3\u001b[0m                          columns=ohe_columns)\n\u001b[1;32m      4\u001b[0m \u001b[0mprint\u001b[0m\u001b[0;34m(\u001b[0m\u001b[0;34m'X_ohe_s shape:(%i,%i)'\u001b[0m \u001b[0;34m%\u001b[0m \u001b[0mX_ohe_s\u001b[0m\u001b[0;34m.\u001b[0m\u001b[0mshape\u001b[0m\u001b[0;34m)\u001b[0m\u001b[0;34m\u001b[0m\u001b[0;34m\u001b[0m\u001b[0m\n\u001b[1;32m      5\u001b[0m \u001b[0mX_ohe_s\u001b[0m\u001b[0;34m.\u001b[0m\u001b[0mhead\u001b[0m\u001b[0;34m(\u001b[0m\u001b[0;36m3\u001b[0m\u001b[0;34m)\u001b[0m\u001b[0;34m\u001b[0m\u001b[0;34m\u001b[0m\u001b[0m\n",
      "\u001b[0;31mNameError\u001b[0m: name 'X_s' is not defined"
     ]
    }
   ],
   "source": [
    "X_ohe_s = pd.get_dummies(X_s,\n",
    "                         dummy_na=True,\n",
    "                         columns=ohe_columns)\n",
    "print('X_ohe_s shape:(%i,%i)' % X_ohe_s.shape)\n",
    "X_ohe_s.head(3)"
   ]
  },
  {
   "cell_type": "markdown",
   "metadata": {
    "colab_type": "text",
    "id": "T6qvnySmN7tD"
   },
   "source": [
    "#### 10-3. スコアリングフェーズ：one-hot encoding後のデータ整合チェック"
   ]
  },
  {
   "cell_type": "code",
   "execution_count": 78,
   "metadata": {
    "colab": {},
    "colab_type": "code",
    "id": "hBsuLXkAN7tD",
    "outputId": "2b921661-56bf-4ce5-da30-34ba5878958f"
   },
   "outputs": [
    {
     "name": "stdout",
     "output_type": "stream",
     "text": [
      "モデル用データのみに存在する項目: set()\n",
      "スコア用データのみに存在する項目: {'Parch_9'}\n"
     ]
    }
   ],
   "source": [
    "cols_model= set(X_ohe.columns.values)\n",
    "cols_score = set(X_ohe_s.columns.values)\n",
    "\n",
    "diff1 = cols_model - cols_score\n",
    "print('モデル用データのみに存在する項目: %s' %diff1)\n",
    "\n",
    "diff2 = cols_score - cols_model\n",
    "print('スコア用データのみに存在する項目: %s' %diff2)"
   ]
  },
  {
   "cell_type": "markdown",
   "metadata": {},
   "source": [
    "#### 10-4. スコアリングフェーズ：one-hot-encoding後のデータ不整合の解消"
   ]
  },
  {
   "cell_type": "markdown",
   "metadata": {},
   "source": [
    "##### 不整合解消のための基本指針\n",
    "- モデル用にはあるが、スコア用に存在しない変数は復活させる\n",
    "- スコア用データにあるが、モデル用に存在しない変数は削除する"
   ]
  },
  {
   "cell_type": "code",
   "execution_count": 84,
   "metadata": {},
   "outputs": [
    {
     "data": {
      "text/html": [
       "<div>\n",
       "<style scoped>\n",
       "    .dataframe tbody tr th:only-of-type {\n",
       "        vertical-align: middle;\n",
       "    }\n",
       "\n",
       "    .dataframe tbody tr th {\n",
       "        vertical-align: top;\n",
       "    }\n",
       "\n",
       "    .dataframe thead th {\n",
       "        text-align: right;\n",
       "    }\n",
       "</style>\n",
       "<table border=\"1\" class=\"dataframe\">\n",
       "  <thead>\n",
       "    <tr style=\"text-align: right;\">\n",
       "      <th></th>\n",
       "      <th>Age</th>\n",
       "      <th>SibSp</th>\n",
       "      <th>Fare</th>\n",
       "      <th>Pclass_1</th>\n",
       "      <th>Pclass_2</th>\n",
       "      <th>Pclass_3</th>\n",
       "      <th>Pclass_nan</th>\n",
       "      <th>Sex_female</th>\n",
       "      <th>Sex_male</th>\n",
       "      <th>Sex_nan</th>\n",
       "      <th>Parch_0</th>\n",
       "      <th>Parch_1</th>\n",
       "      <th>Parch_2</th>\n",
       "      <th>Parch_3</th>\n",
       "      <th>Parch_4</th>\n",
       "      <th>Parch_5</th>\n",
       "      <th>Parch_6</th>\n",
       "      <th>Parch_nan</th>\n",
       "      <th>Embarked_C</th>\n",
       "      <th>Embarked_Q</th>\n",
       "      <th>Embarked_S</th>\n",
       "      <th>Embarked_nan</th>\n",
       "    </tr>\n",
       "  </thead>\n",
       "  <tbody>\n",
       "  </tbody>\n",
       "</table>\n",
       "</div>"
      ],
      "text/plain": [
       "Empty DataFrame\n",
       "Columns: [Age, SibSp, Fare, Pclass_1, Pclass_2, Pclass_3, Pclass_nan, Sex_female, Sex_male, Sex_nan, Parch_0, Parch_1, Parch_2, Parch_3, Parch_4, Parch_5, Parch_6, Parch_nan, Embarked_C, Embarked_Q, Embarked_S, Embarked_nan]\n",
       "Index: []"
      ]
     },
     "metadata": {},
     "output_type": "display_data"
    }
   ],
   "source": [
    "dataset_cols_m = pd.DataFrame(None,    # 空のデータ\n",
    "                         columns=X_ohe_columns,# モデリング時のone-hot-encoding後のカラム構成\n",
    "                         dtype=float)\n",
    "display(dataset_cols_m)"
   ]
  },
  {
   "cell_type": "code",
   "execution_count": 85,
   "metadata": {},
   "outputs": [
    {
     "name": "stdout",
     "output_type": "stream",
     "text": [
      "(418, 23)\n"
     ]
    },
    {
     "data": {
      "text/html": [
       "<div>\n",
       "<style scoped>\n",
       "    .dataframe tbody tr th:only-of-type {\n",
       "        vertical-align: middle;\n",
       "    }\n",
       "\n",
       "    .dataframe tbody tr th {\n",
       "        vertical-align: top;\n",
       "    }\n",
       "\n",
       "    .dataframe thead th {\n",
       "        text-align: right;\n",
       "    }\n",
       "</style>\n",
       "<table border=\"1\" class=\"dataframe\">\n",
       "  <thead>\n",
       "    <tr style=\"text-align: right;\">\n",
       "      <th></th>\n",
       "      <th>Age</th>\n",
       "      <th>SibSp</th>\n",
       "      <th>Fare</th>\n",
       "      <th>Pclass_1</th>\n",
       "      <th>Pclass_2</th>\n",
       "      <th>Pclass_3</th>\n",
       "      <th>Pclass_nan</th>\n",
       "      <th>Sex_female</th>\n",
       "      <th>Sex_male</th>\n",
       "      <th>Sex_nan</th>\n",
       "      <th>Parch_0</th>\n",
       "      <th>Parch_1</th>\n",
       "      <th>Parch_2</th>\n",
       "      <th>Parch_3</th>\n",
       "      <th>Parch_4</th>\n",
       "      <th>Parch_5</th>\n",
       "      <th>Parch_6</th>\n",
       "      <th>Parch_nan</th>\n",
       "      <th>Embarked_C</th>\n",
       "      <th>Embarked_Q</th>\n",
       "      <th>Embarked_S</th>\n",
       "      <th>Embarked_nan</th>\n",
       "      <th>Parch_9</th>\n",
       "    </tr>\n",
       "  </thead>\n",
       "  <tbody>\n",
       "    <tr>\n",
       "      <th>0</th>\n",
       "      <td>34.5</td>\n",
       "      <td>0.0</td>\n",
       "      <td>7.8292</td>\n",
       "      <td>0.0</td>\n",
       "      <td>0.0</td>\n",
       "      <td>1.0</td>\n",
       "      <td>0.0</td>\n",
       "      <td>0.0</td>\n",
       "      <td>1.0</td>\n",
       "      <td>0.0</td>\n",
       "      <td>1.0</td>\n",
       "      <td>0.0</td>\n",
       "      <td>0.0</td>\n",
       "      <td>0.0</td>\n",
       "      <td>0.0</td>\n",
       "      <td>0.0</td>\n",
       "      <td>0.0</td>\n",
       "      <td>0.0</td>\n",
       "      <td>0.0</td>\n",
       "      <td>1.0</td>\n",
       "      <td>0.0</td>\n",
       "      <td>0.0</td>\n",
       "      <td>0.0</td>\n",
       "    </tr>\n",
       "    <tr>\n",
       "      <th>1</th>\n",
       "      <td>47.0</td>\n",
       "      <td>1.0</td>\n",
       "      <td>7.0000</td>\n",
       "      <td>0.0</td>\n",
       "      <td>0.0</td>\n",
       "      <td>1.0</td>\n",
       "      <td>0.0</td>\n",
       "      <td>1.0</td>\n",
       "      <td>0.0</td>\n",
       "      <td>0.0</td>\n",
       "      <td>1.0</td>\n",
       "      <td>0.0</td>\n",
       "      <td>0.0</td>\n",
       "      <td>0.0</td>\n",
       "      <td>0.0</td>\n",
       "      <td>0.0</td>\n",
       "      <td>0.0</td>\n",
       "      <td>0.0</td>\n",
       "      <td>0.0</td>\n",
       "      <td>0.0</td>\n",
       "      <td>1.0</td>\n",
       "      <td>0.0</td>\n",
       "      <td>0.0</td>\n",
       "    </tr>\n",
       "    <tr>\n",
       "      <th>2</th>\n",
       "      <td>62.0</td>\n",
       "      <td>0.0</td>\n",
       "      <td>9.6875</td>\n",
       "      <td>0.0</td>\n",
       "      <td>1.0</td>\n",
       "      <td>0.0</td>\n",
       "      <td>0.0</td>\n",
       "      <td>0.0</td>\n",
       "      <td>1.0</td>\n",
       "      <td>0.0</td>\n",
       "      <td>1.0</td>\n",
       "      <td>0.0</td>\n",
       "      <td>0.0</td>\n",
       "      <td>0.0</td>\n",
       "      <td>0.0</td>\n",
       "      <td>0.0</td>\n",
       "      <td>0.0</td>\n",
       "      <td>0.0</td>\n",
       "      <td>0.0</td>\n",
       "      <td>1.0</td>\n",
       "      <td>0.0</td>\n",
       "      <td>0.0</td>\n",
       "      <td>0.0</td>\n",
       "    </tr>\n",
       "  </tbody>\n",
       "</table>\n",
       "</div>"
      ],
      "text/plain": [
       "    Age  SibSp    Fare  Pclass_1  Pclass_2  Pclass_3  Pclass_nan  Sex_female  \\\n",
       "0  34.5    0.0  7.8292       0.0       0.0       1.0         0.0         0.0   \n",
       "1  47.0    1.0  7.0000       0.0       0.0       1.0         0.0         1.0   \n",
       "2  62.0    0.0  9.6875       0.0       1.0       0.0         0.0         0.0   \n",
       "\n",
       "   Sex_male  Sex_nan  Parch_0  Parch_1  Parch_2  Parch_3  Parch_4  Parch_5  \\\n",
       "0       1.0      0.0      1.0      0.0      0.0      0.0      0.0      0.0   \n",
       "1       0.0      0.0      1.0      0.0      0.0      0.0      0.0      0.0   \n",
       "2       1.0      0.0      1.0      0.0      0.0      0.0      0.0      0.0   \n",
       "\n",
       "   Parch_6  Parch_nan  Embarked_C  Embarked_Q  Embarked_S  Embarked_nan  \\\n",
       "0      0.0        0.0         0.0         1.0         0.0           0.0   \n",
       "1      0.0        0.0         0.0         0.0         1.0           0.0   \n",
       "2      0.0        0.0         0.0         1.0         0.0           0.0   \n",
       "\n",
       "   Parch_9  \n",
       "0      0.0  \n",
       "1      0.0  \n",
       "2      0.0  "
      ]
     },
     "metadata": {},
     "output_type": "display_data"
    }
   ],
   "source": [
    "X_ohe_s = pd.concat([dataset_cols_m, X_ohe_s])\n",
    "print(X_ohe_s.shape)\n",
    "display(X_ohe_s.head(3))"
   ]
  },
  {
   "cell_type": "markdown",
   "metadata": {},
   "source": [
    "スコアリングデータのみに登場する変数を削除する"
   ]
  },
  {
   "cell_type": "code",
   "execution_count": 86,
   "metadata": {},
   "outputs": [
    {
     "name": "stdout",
     "output_type": "stream",
     "text": [
      "{'Parch_9'}\n",
      "(418, 22)\n"
     ]
    },
    {
     "data": {
      "text/html": [
       "<div>\n",
       "<style scoped>\n",
       "    .dataframe tbody tr th:only-of-type {\n",
       "        vertical-align: middle;\n",
       "    }\n",
       "\n",
       "    .dataframe tbody tr th {\n",
       "        vertical-align: top;\n",
       "    }\n",
       "\n",
       "    .dataframe thead th {\n",
       "        text-align: right;\n",
       "    }\n",
       "</style>\n",
       "<table border=\"1\" class=\"dataframe\">\n",
       "  <thead>\n",
       "    <tr style=\"text-align: right;\">\n",
       "      <th></th>\n",
       "      <th>Age</th>\n",
       "      <th>SibSp</th>\n",
       "      <th>Fare</th>\n",
       "      <th>Pclass_1</th>\n",
       "      <th>Pclass_2</th>\n",
       "      <th>Pclass_3</th>\n",
       "      <th>Pclass_nan</th>\n",
       "      <th>Sex_female</th>\n",
       "      <th>Sex_male</th>\n",
       "      <th>Sex_nan</th>\n",
       "      <th>Parch_0</th>\n",
       "      <th>Parch_1</th>\n",
       "      <th>Parch_2</th>\n",
       "      <th>Parch_3</th>\n",
       "      <th>Parch_4</th>\n",
       "      <th>Parch_5</th>\n",
       "      <th>Parch_6</th>\n",
       "      <th>Parch_nan</th>\n",
       "      <th>Embarked_C</th>\n",
       "      <th>Embarked_Q</th>\n",
       "      <th>Embarked_S</th>\n",
       "      <th>Embarked_nan</th>\n",
       "    </tr>\n",
       "  </thead>\n",
       "  <tbody>\n",
       "    <tr>\n",
       "      <th>0</th>\n",
       "      <td>34.5</td>\n",
       "      <td>0.0</td>\n",
       "      <td>7.8292</td>\n",
       "      <td>0.0</td>\n",
       "      <td>0.0</td>\n",
       "      <td>1.0</td>\n",
       "      <td>0.0</td>\n",
       "      <td>0.0</td>\n",
       "      <td>1.0</td>\n",
       "      <td>0.0</td>\n",
       "      <td>1.0</td>\n",
       "      <td>0.0</td>\n",
       "      <td>0.0</td>\n",
       "      <td>0.0</td>\n",
       "      <td>0.0</td>\n",
       "      <td>0.0</td>\n",
       "      <td>0.0</td>\n",
       "      <td>0.0</td>\n",
       "      <td>0.0</td>\n",
       "      <td>1.0</td>\n",
       "      <td>0.0</td>\n",
       "      <td>0.0</td>\n",
       "    </tr>\n",
       "    <tr>\n",
       "      <th>1</th>\n",
       "      <td>47.0</td>\n",
       "      <td>1.0</td>\n",
       "      <td>7.0000</td>\n",
       "      <td>0.0</td>\n",
       "      <td>0.0</td>\n",
       "      <td>1.0</td>\n",
       "      <td>0.0</td>\n",
       "      <td>1.0</td>\n",
       "      <td>0.0</td>\n",
       "      <td>0.0</td>\n",
       "      <td>1.0</td>\n",
       "      <td>0.0</td>\n",
       "      <td>0.0</td>\n",
       "      <td>0.0</td>\n",
       "      <td>0.0</td>\n",
       "      <td>0.0</td>\n",
       "      <td>0.0</td>\n",
       "      <td>0.0</td>\n",
       "      <td>0.0</td>\n",
       "      <td>0.0</td>\n",
       "      <td>1.0</td>\n",
       "      <td>0.0</td>\n",
       "    </tr>\n",
       "    <tr>\n",
       "      <th>2</th>\n",
       "      <td>62.0</td>\n",
       "      <td>0.0</td>\n",
       "      <td>9.6875</td>\n",
       "      <td>0.0</td>\n",
       "      <td>1.0</td>\n",
       "      <td>0.0</td>\n",
       "      <td>0.0</td>\n",
       "      <td>0.0</td>\n",
       "      <td>1.0</td>\n",
       "      <td>0.0</td>\n",
       "      <td>1.0</td>\n",
       "      <td>0.0</td>\n",
       "      <td>0.0</td>\n",
       "      <td>0.0</td>\n",
       "      <td>0.0</td>\n",
       "      <td>0.0</td>\n",
       "      <td>0.0</td>\n",
       "      <td>0.0</td>\n",
       "      <td>0.0</td>\n",
       "      <td>1.0</td>\n",
       "      <td>0.0</td>\n",
       "      <td>0.0</td>\n",
       "    </tr>\n",
       "  </tbody>\n",
       "</table>\n",
       "</div>"
      ],
      "text/plain": [
       "    Age  SibSp    Fare  Pclass_1  Pclass_2  Pclass_3  Pclass_nan  Sex_female  \\\n",
       "0  34.5    0.0  7.8292       0.0       0.0       1.0         0.0         0.0   \n",
       "1  47.0    1.0  7.0000       0.0       0.0       1.0         0.0         1.0   \n",
       "2  62.0    0.0  9.6875       0.0       1.0       0.0         0.0         0.0   \n",
       "\n",
       "   Sex_male  Sex_nan  Parch_0  Parch_1  Parch_2  Parch_3  Parch_4  Parch_5  \\\n",
       "0       1.0      0.0      1.0      0.0      0.0      0.0      0.0      0.0   \n",
       "1       0.0      0.0      1.0      0.0      0.0      0.0      0.0      0.0   \n",
       "2       1.0      0.0      1.0      0.0      0.0      0.0      0.0      0.0   \n",
       "\n",
       "   Parch_6  Parch_nan  Embarked_C  Embarked_Q  Embarked_S  Embarked_nan  \n",
       "0      0.0        0.0         0.0         1.0         0.0           0.0  \n",
       "1      0.0        0.0         0.0         0.0         1.0           0.0  \n",
       "2      0.0        0.0         0.0         1.0         0.0           0.0  "
      ]
     },
     "metadata": {},
     "output_type": "display_data"
    }
   ],
   "source": [
    "set_Xm = set(X_ohe.columns.values)\n",
    "set_Xs = set(X_ohe_s.columns.values)\n",
    "print(set_Xs-set_Xm)\n",
    "X_ohe_s = X_ohe_s.drop(list(set_Xs-set_Xm),axis=1)\n",
    "\n",
    "print(X_ohe_s.shape)\n",
    "display(X_ohe_s.head(3))"
   ]
  },
  {
   "cell_type": "markdown",
   "metadata": {},
   "source": [
    "スコアリングでは登場しなかったデータ項目をゼロで埋める"
   ]
  },
  {
   "cell_type": "code",
   "execution_count": 89,
   "metadata": {},
   "outputs": [
    {
     "name": "stdout",
     "output_type": "stream",
     "text": [
      "set()\n"
     ]
    },
    {
     "data": {
      "text/html": [
       "<div>\n",
       "<style scoped>\n",
       "    .dataframe tbody tr th:only-of-type {\n",
       "        vertical-align: middle;\n",
       "    }\n",
       "\n",
       "    .dataframe tbody tr th {\n",
       "        vertical-align: top;\n",
       "    }\n",
       "\n",
       "    .dataframe thead th {\n",
       "        text-align: right;\n",
       "    }\n",
       "</style>\n",
       "<table border=\"1\" class=\"dataframe\">\n",
       "  <thead>\n",
       "    <tr style=\"text-align: right;\">\n",
       "      <th></th>\n",
       "      <th>Age</th>\n",
       "      <th>SibSp</th>\n",
       "      <th>Fare</th>\n",
       "      <th>Pclass_1</th>\n",
       "      <th>Pclass_2</th>\n",
       "      <th>Pclass_3</th>\n",
       "      <th>Pclass_nan</th>\n",
       "      <th>Sex_female</th>\n",
       "      <th>Sex_male</th>\n",
       "      <th>Sex_nan</th>\n",
       "      <th>Parch_0</th>\n",
       "      <th>Parch_1</th>\n",
       "      <th>Parch_2</th>\n",
       "      <th>Parch_3</th>\n",
       "      <th>Parch_4</th>\n",
       "      <th>Parch_5</th>\n",
       "      <th>Parch_6</th>\n",
       "      <th>Parch_nan</th>\n",
       "      <th>Embarked_C</th>\n",
       "      <th>Embarked_Q</th>\n",
       "      <th>Embarked_S</th>\n",
       "      <th>Embarked_nan</th>\n",
       "    </tr>\n",
       "  </thead>\n",
       "  <tbody>\n",
       "    <tr>\n",
       "      <th>0</th>\n",
       "      <td>34.5</td>\n",
       "      <td>0.0</td>\n",
       "      <td>7.8292</td>\n",
       "      <td>0.0</td>\n",
       "      <td>0.0</td>\n",
       "      <td>1.0</td>\n",
       "      <td>0.0</td>\n",
       "      <td>0.0</td>\n",
       "      <td>1.0</td>\n",
       "      <td>0.0</td>\n",
       "      <td>1.0</td>\n",
       "      <td>0.0</td>\n",
       "      <td>0.0</td>\n",
       "      <td>0.0</td>\n",
       "      <td>0.0</td>\n",
       "      <td>0.0</td>\n",
       "      <td>0.0</td>\n",
       "      <td>0.0</td>\n",
       "      <td>0.0</td>\n",
       "      <td>1.0</td>\n",
       "      <td>0.0</td>\n",
       "      <td>0.0</td>\n",
       "    </tr>\n",
       "    <tr>\n",
       "      <th>1</th>\n",
       "      <td>47.0</td>\n",
       "      <td>1.0</td>\n",
       "      <td>7.0000</td>\n",
       "      <td>0.0</td>\n",
       "      <td>0.0</td>\n",
       "      <td>1.0</td>\n",
       "      <td>0.0</td>\n",
       "      <td>1.0</td>\n",
       "      <td>0.0</td>\n",
       "      <td>0.0</td>\n",
       "      <td>1.0</td>\n",
       "      <td>0.0</td>\n",
       "      <td>0.0</td>\n",
       "      <td>0.0</td>\n",
       "      <td>0.0</td>\n",
       "      <td>0.0</td>\n",
       "      <td>0.0</td>\n",
       "      <td>0.0</td>\n",
       "      <td>0.0</td>\n",
       "      <td>0.0</td>\n",
       "      <td>1.0</td>\n",
       "      <td>0.0</td>\n",
       "    </tr>\n",
       "    <tr>\n",
       "      <th>2</th>\n",
       "      <td>62.0</td>\n",
       "      <td>0.0</td>\n",
       "      <td>9.6875</td>\n",
       "      <td>0.0</td>\n",
       "      <td>1.0</td>\n",
       "      <td>0.0</td>\n",
       "      <td>0.0</td>\n",
       "      <td>0.0</td>\n",
       "      <td>1.0</td>\n",
       "      <td>0.0</td>\n",
       "      <td>1.0</td>\n",
       "      <td>0.0</td>\n",
       "      <td>0.0</td>\n",
       "      <td>0.0</td>\n",
       "      <td>0.0</td>\n",
       "      <td>0.0</td>\n",
       "      <td>0.0</td>\n",
       "      <td>0.0</td>\n",
       "      <td>0.0</td>\n",
       "      <td>1.0</td>\n",
       "      <td>0.0</td>\n",
       "      <td>0.0</td>\n",
       "    </tr>\n",
       "  </tbody>\n",
       "</table>\n",
       "</div>"
      ],
      "text/plain": [
       "    Age  SibSp    Fare  Pclass_1  Pclass_2  Pclass_3  Pclass_nan  Sex_female  \\\n",
       "0  34.5    0.0  7.8292       0.0       0.0       1.0         0.0         0.0   \n",
       "1  47.0    1.0  7.0000       0.0       0.0       1.0         0.0         1.0   \n",
       "2  62.0    0.0  9.6875       0.0       1.0       0.0         0.0         0.0   \n",
       "\n",
       "   Sex_male  Sex_nan  Parch_0  Parch_1  Parch_2  Parch_3  Parch_4  Parch_5  \\\n",
       "0       1.0      0.0      1.0      0.0      0.0      0.0      0.0      0.0   \n",
       "1       0.0      0.0      1.0      0.0      0.0      0.0      0.0      0.0   \n",
       "2       1.0      0.0      1.0      0.0      0.0      0.0      0.0      0.0   \n",
       "\n",
       "   Parch_6  Parch_nan  Embarked_C  Embarked_Q  Embarked_S  Embarked_nan  \n",
       "0      0.0        0.0         0.0         1.0         0.0           0.0  \n",
       "1      0.0        0.0         0.0         0.0         1.0           0.0  \n",
       "2      0.0        0.0         0.0         1.0         0.0           0.0  "
      ]
     },
     "execution_count": 89,
     "metadata": {},
     "output_type": "execute_result"
    }
   ],
   "source": [
    "print(set_Xm-set_Xs)\n",
    "X_ohe_s.loc[:,list(set_Xm-set_Xs)] = X_ohe_s.loc[:,list(set_Xm-set_Xs)].fillna(0,axis=1)\n",
    "X_ohe_s.head(3)"
   ]
  },
  {
   "cell_type": "markdown",
   "metadata": {},
   "source": [
    "#### 10-5. スコアリングフェーズ:データ項目の並び順の担保\n",
    "モデリング時点のデータ項目の並び順を明示的に担保する  \n",
    "reindex関数を使うことで並び順を制御できます。"
   ]
  },
  {
   "cell_type": "code",
   "execution_count": 41,
   "metadata": {},
   "outputs": [
    {
     "ename": "NameError",
     "evalue": "name 'X_ohe_s' is not defined",
     "output_type": "error",
     "traceback": [
      "\u001b[0;31m---------------------------------------------------------------------------\u001b[0m",
      "\u001b[0;31mNameError\u001b[0m                                 Traceback (most recent call last)",
      "\u001b[0;32m<ipython-input-41-45c5f6e52985>\u001b[0m in \u001b[0;36m<module>\u001b[0;34m\u001b[0m\n\u001b[0;32m----> 1\u001b[0;31m \u001b[0mX_ohe_s\u001b[0m \u001b[0;34m=\u001b[0m \u001b[0mX_ohe_s\u001b[0m\u001b[0;34m.\u001b[0m\u001b[0mreindex\u001b[0m\u001b[0;34m(\u001b[0m\u001b[0mX_ohe\u001b[0m\u001b[0;34m.\u001b[0m\u001b[0mcolumns\u001b[0m\u001b[0;34m.\u001b[0m\u001b[0mvalues\u001b[0m\u001b[0;34m,\u001b[0m\u001b[0maxis\u001b[0m\u001b[0;34m=\u001b[0m\u001b[0;36m1\u001b[0m\u001b[0;34m)\u001b[0m\u001b[0;34m\u001b[0m\u001b[0;34m\u001b[0m\u001b[0m\n\u001b[0m\u001b[1;32m      2\u001b[0m \u001b[0mX_ohe_s\u001b[0m\u001b[0;34m.\u001b[0m\u001b[0mhead\u001b[0m\u001b[0;34m(\u001b[0m\u001b[0;36m3\u001b[0m\u001b[0;34m)\u001b[0m\u001b[0;34m\u001b[0m\u001b[0;34m\u001b[0m\u001b[0m\n\u001b[1;32m      3\u001b[0m \u001b[0mprint\u001b[0m\u001b[0;34m(\u001b[0m\u001b[0mX_ohe_s\u001b[0m\u001b[0;34m.\u001b[0m\u001b[0mshape\u001b[0m\u001b[0;34m)\u001b[0m\u001b[0;34m\u001b[0m\u001b[0;34m\u001b[0m\u001b[0m\n",
      "\u001b[0;31mNameError\u001b[0m: name 'X_ohe_s' is not defined"
     ]
    }
   ],
   "source": [
    "X_ohe_s = X_ohe_s.reindex(X_ohe.columns.values,axis=1)\n",
    "X_ohe_s.head(3)\n",
    "print(X_ohe_s.shape)"
   ]
  },
  {
   "cell_type": "markdown",
   "metadata": {
    "colab_type": "text",
    "id": "wWcQgTeaJJVk"
   },
   "source": [
    "#### 10-6. スコアリングフェーズ：欠損値処理\n",
    "ここまで整合させてようやく、学習済みSimpleImputerインスタンスが適用可能となる"
   ]
  },
  {
   "cell_type": "code",
   "execution_count": 93,
   "metadata": {
    "colab": {},
    "colab_type": "code",
    "id": "1Ex1ttJPJJVk",
    "outputId": "0e5c696d-f6f7-41e3-e34b-c7c2c05d5a2f"
   },
   "outputs": [
    {
     "name": "stdout",
     "output_type": "stream",
     "text": [
      "欠損個数（数値変数の欠損補完前） 87\n",
      "欠損個数（数値変数の欠損補完後） 0\n"
     ]
    }
   ],
   "source": [
    "print('欠損個数（数値変数の欠損補完前）',X_ohe_s.isnull().sum().sum())    # rowをsum()して、columnをsum()する\n",
    "\n",
    "# (重要)モデリングデータで作ったimpを使ってtransformする\n",
    "# もしここで改めてimpしたら、改めて計算されてしまう。そのためモデリングデータで使った平均値データを使ってtransformする\n",
    "X_ohe_s = pd.DataFrame(imp.transform(X_ohe_s),columns=X_ohe_columns)\n",
    "\n",
    "print('欠損個数（数値変数の欠損補完後）',X_ohe_s.isnull().sum().sum())"
   ]
  },
  {
   "cell_type": "markdown",
   "metadata": {
    "colab_type": "text",
    "id": "2OikM8NDJJVt"
   },
   "source": [
    "####  10-7. スコアリングフェーズ：次元圧縮、特徴量選択\n",
    "学習済みのRFEクラスのインスタンス（本ファイルではselector）を使って、選択された特徴量のインデックスを指定する。"
   ]
  },
  {
   "cell_type": "code",
   "execution_count": 94,
   "metadata": {
    "colab": {},
    "colab_type": "code",
    "id": "pJ1WHsCUJJVu",
    "outputId": "22947f55-e6e8-47b8-e124-fb3a742ab3a0"
   },
   "outputs": [
    {
     "data": {
      "text/plain": [
       "22"
      ]
     },
     "execution_count": 94,
     "metadata": {},
     "output_type": "execute_result"
    }
   ],
   "source": [
    "len(selector.support_)"
   ]
  },
  {
   "cell_type": "code",
   "execution_count": 95,
   "metadata": {
    "colab": {},
    "colab_type": "code",
    "id": "6gBDj_tuJJVw",
    "outputId": "44294188-c78a-4570-e633-c57327c203b1"
   },
   "outputs": [
    {
     "name": "stdout",
     "output_type": "stream",
     "text": [
      "(418, 15)\n"
     ]
    },
    {
     "data": {
      "text/html": [
       "<div>\n",
       "<style scoped>\n",
       "    .dataframe tbody tr th:only-of-type {\n",
       "        vertical-align: middle;\n",
       "    }\n",
       "\n",
       "    .dataframe tbody tr th {\n",
       "        vertical-align: top;\n",
       "    }\n",
       "\n",
       "    .dataframe thead th {\n",
       "        text-align: right;\n",
       "    }\n",
       "</style>\n",
       "<table border=\"1\" class=\"dataframe\">\n",
       "  <thead>\n",
       "    <tr style=\"text-align: right;\">\n",
       "      <th></th>\n",
       "      <th>Age</th>\n",
       "      <th>SibSp</th>\n",
       "      <th>Fare</th>\n",
       "      <th>Pclass_1</th>\n",
       "      <th>Pclass_2</th>\n",
       "      <th>Pclass_3</th>\n",
       "      <th>Sex_female</th>\n",
       "      <th>Sex_male</th>\n",
       "      <th>Parch_0</th>\n",
       "      <th>Parch_1</th>\n",
       "      <th>Parch_2</th>\n",
       "      <th>Parch_5</th>\n",
       "      <th>Embarked_C</th>\n",
       "      <th>Embarked_Q</th>\n",
       "      <th>Embarked_S</th>\n",
       "    </tr>\n",
       "  </thead>\n",
       "  <tbody>\n",
       "    <tr>\n",
       "      <th>0</th>\n",
       "      <td>34.5</td>\n",
       "      <td>0.0</td>\n",
       "      <td>7.8292</td>\n",
       "      <td>0.0</td>\n",
       "      <td>0.0</td>\n",
       "      <td>1.0</td>\n",
       "      <td>0.0</td>\n",
       "      <td>1.0</td>\n",
       "      <td>1.0</td>\n",
       "      <td>0.0</td>\n",
       "      <td>0.0</td>\n",
       "      <td>0.0</td>\n",
       "      <td>0.0</td>\n",
       "      <td>1.0</td>\n",
       "      <td>0.0</td>\n",
       "    </tr>\n",
       "    <tr>\n",
       "      <th>1</th>\n",
       "      <td>47.0</td>\n",
       "      <td>1.0</td>\n",
       "      <td>7.0000</td>\n",
       "      <td>0.0</td>\n",
       "      <td>0.0</td>\n",
       "      <td>1.0</td>\n",
       "      <td>1.0</td>\n",
       "      <td>0.0</td>\n",
       "      <td>1.0</td>\n",
       "      <td>0.0</td>\n",
       "      <td>0.0</td>\n",
       "      <td>0.0</td>\n",
       "      <td>0.0</td>\n",
       "      <td>0.0</td>\n",
       "      <td>1.0</td>\n",
       "    </tr>\n",
       "    <tr>\n",
       "      <th>2</th>\n",
       "      <td>62.0</td>\n",
       "      <td>0.0</td>\n",
       "      <td>9.6875</td>\n",
       "      <td>0.0</td>\n",
       "      <td>1.0</td>\n",
       "      <td>0.0</td>\n",
       "      <td>0.0</td>\n",
       "      <td>1.0</td>\n",
       "      <td>1.0</td>\n",
       "      <td>0.0</td>\n",
       "      <td>0.0</td>\n",
       "      <td>0.0</td>\n",
       "      <td>0.0</td>\n",
       "      <td>1.0</td>\n",
       "      <td>0.0</td>\n",
       "    </tr>\n",
       "  </tbody>\n",
       "</table>\n",
       "</div>"
      ],
      "text/plain": [
       "    Age  SibSp    Fare  Pclass_1  Pclass_2  Pclass_3  Sex_female  Sex_male  \\\n",
       "0  34.5    0.0  7.8292       0.0       0.0       1.0         0.0       1.0   \n",
       "1  47.0    1.0  7.0000       0.0       0.0       1.0         1.0       0.0   \n",
       "2  62.0    0.0  9.6875       0.0       1.0       0.0         0.0       1.0   \n",
       "\n",
       "   Parch_0  Parch_1  Parch_2  Parch_5  Embarked_C  Embarked_Q  Embarked_S  \n",
       "0      1.0      0.0      0.0      0.0         0.0         1.0         0.0  \n",
       "1      1.0      0.0      0.0      0.0         0.0         0.0         1.0  \n",
       "2      1.0      0.0      0.0      0.0         0.0         1.0         0.0  "
      ]
     },
     "execution_count": 95,
     "metadata": {},
     "output_type": "execute_result"
    }
   ],
   "source": [
    "X_fin_s = X_ohe_s.loc[:, X_ohe_columns[selector.support_]]\n",
    "print(X_fin_s.shape)\n",
    "X_fin_s.head(3)"
   ]
  },
  {
   "cell_type": "code",
   "execution_count": 96,
   "metadata": {
    "colab": {},
    "colab_type": "code",
    "id": "M05n1LdxJJV0",
    "outputId": "e7fc7cb8-2961-4251-f894-170391d26a8e"
   },
   "outputs": [
    {
     "name": "stdout",
     "output_type": "stream",
     "text": [
      "-----------------------------------\n",
      "X_fin_s shape: (418,15)\n",
      "-----------------------------------\n"
     ]
    }
   ],
   "source": [
    "print('-----------------------------------')\n",
    "print('X_fin_s shape: (%i,%i)' %X_fin_s.shape)\n",
    "print('-----------------------------------')"
   ]
  },
  {
   "cell_type": "markdown",
   "metadata": {
    "colab_type": "text",
    "id": "AutqjgLTN7tb"
   },
   "source": [
    "### 11. 推論"
   ]
  },
  {
   "cell_type": "code",
   "execution_count": 97,
   "metadata": {
    "colab": {},
    "colab_type": "code",
    "id": "kxfr4t2zN7tc"
   },
   "outputs": [],
   "source": [
    "y_pred = final_model.predict(X_fin_s)"
   ]
  },
  {
   "cell_type": "code",
   "execution_count": 98,
   "metadata": {
    "colab": {},
    "colab_type": "code",
    "id": "oJlpEgdwN7te",
    "outputId": "eea43fb3-f411-482e-951d-fd79291c0c6b"
   },
   "outputs": [
    {
     "data": {
      "text/plain": [
       "418"
      ]
     },
     "execution_count": 98,
     "metadata": {},
     "output_type": "execute_result"
    }
   ],
   "source": [
    "len(y_pred)"
   ]
  },
  {
   "cell_type": "markdown",
   "metadata": {
    "colab_type": "text",
    "id": "-bG2s6p8N7ti"
   },
   "source": [
    "### 12. 提出用データ(CSVファイル)の作成"
   ]
  },
  {
   "cell_type": "code",
   "execution_count": 34,
   "metadata": {
    "colab": {},
    "colab_type": "code",
    "id": "6uVo1DDsN7ti"
   },
   "outputs": [],
   "source": [
    "result_for_submit = pd.DataFrame({ID_column:dataset_s[ID_column], target_value:y_pred})\n",
    "\n",
    "# 提出用のファイル格納用のディレクトリ を作成\n",
    "os.makedirs(submit_file_dir, exist_ok=True)\n",
    "result_for_submit.to_csv(submit_file_dir+submit_file_name, index=False)"
   ]
  }
 ],
 "metadata": {
  "colab": {
   "collapsed_sections": [
    "WpVqy3BvN7sJ",
    "cKR105_lN7sO",
    "ZqfJOSWAN7sP",
    "umaeQLM-N7sV",
    "BCkXzpmFJJTD",
    "hfG2H0lFN7sh",
    "ZQRqx22mN7sq",
    "kU3CaGZdN7s1",
    "gBJa13UxN7s4",
    "B2iMEx61JJUE",
    "zKJe18eiN7s-",
    "T6qvnySmN7tD",
    "wWcQgTeaJJVk",
    "2OikM8NDJJVt",
    "AutqjgLTN7tb"
   ],
   "name": "My Automated ML_Titanic.ipynb",
   "provenance": []
  },
  "kernelspec": {
   "display_name": "Python 3",
   "language": "python",
   "name": "python3"
  },
  "language_info": {
   "codemirror_mode": {
    "name": "ipython",
    "version": 3
   },
   "file_extension": ".py",
   "mimetype": "text/x-python",
   "name": "python",
   "nbconvert_exporter": "python",
   "pygments_lexer": "ipython3",
   "version": "3.7.7"
  }
 },
 "nbformat": 4,
 "nbformat_minor": 1
}
