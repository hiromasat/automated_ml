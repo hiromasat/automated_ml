{
 "cells": [
  {
   "cell_type": "markdown",
   "metadata": {
    "colab_type": "text",
    "id": "9vHqn1F7JqBS"
   },
   "source": [
    "#### 修了認定のための最終開発課題\n",
    "### 自分用のAutomated Machine Learningを開発しよう!\n",
    "#### 機能要件\n",
    "- 2値の分類(Classification)タスクを扱える  \n",
    "- カテゴリカル変数を指定するとone-hotエンコードを実行する  \n",
    "- モデル用データマートに施したのと同一データ前処理をスコア用データマートに対しても適用される  \n",
    "- モデル選択の評価指標を選択できる  \n",
    "- 複数アルゴリズムから指定の評価指標に従いベストモデルを選択できる  \n",
    "- 学習済みモデルを保存できる  \n",
    "- アルゴリズムランキングと性能評価指標が出力される  \n",
    "- 学習済みモデル(保存したモデル)を呼び出しスコア用データに対し予測確率を付与できる  \n",
    "\n",
    "#### 開発課題認定プロセス(最終日にその場で実行・提出)\n",
    "- 訓練用データと(正解データの無い)検証用データを配布します  \n",
    "- データ形式は第1カラムがID、第2カラムがクラス変数、第3カラム以降が特徴ベクトルの構成です  \n",
    "   (検証用データの第2カラムは全て空白)  \n",
    "- クラス変数は0/1のバイナリ値で予測確率を知りたいクラスは”1”とする  \n",
    "- ID(第1カラム)と予測確率(第2カラム)の2カラム構成の結果ファイルをCSV形式で提出(ヘッダーあり)してもらいます  "
   ]
  },
  {
   "cell_type": "markdown",
   "metadata": {
    "colab_type": "text",
    "id": "tT7KkFWjKBCu"
   },
   "source": [
    "ロードしてくだ<第8回の予定>  \n",
    "10分: 本日の進め方について  \n",
    "35分: 最終課題コンペ＋アウトプット回収 〜20:15（5分間で提出）  \n",
    "60分：技能チェック（合格70点）+回収 〜21:15（5分間で提出）  \n",
    "  オープンブック＋オンライン検索OK  \n",
    "  知識チェック：50問（範囲：全レクチャー）  \n",
    "  実技チェック：15問（範囲：全レクチャー）  \n",
    "10分：表彰＋優勝者の分析方法解説  \n",
    "5分：運営より ※休憩は個人で自由に取って頂いて結構です。 ※提出物は終わり次第 @nakazawa宛にアップさい。  "
   ]
  },
  {
   "cell_type": "markdown",
   "metadata": {
    "colab_type": "text",
    "id": "m2REv7eVOVCG"
   },
   "source": [
    "### 1. モジュール類のインポート"
   ]
  },
  {
   "cell_type": "markdown",
   "metadata": {
    "colab_type": "text",
    "id": "16ho7dGGOVCI"
   },
   "source": [
    "[データ形式]\n",
    "- 第1列：index（ID列）\n",
    "- 第2列：left（1：退職、0：非退職の正解ラベル）\n",
    "- 第3列以降：特徴量\n",
    "- カテゴリ変数名：sales, salary\n",
    "- ヘッダー項目（以下11項目、以下順番で構成）\n",
    "\n",
    "[columns]\n",
    "- 01.index\n",
    "- 02.left (←予測対象、0/1のバイナリ値で予測確率を知りたいクラスは”1”)\n",
    "- 03.satisfaction_level : 満足度　   (想定　段階評価のためone hot encodingに変換可能)\n",
    "- 04.last_evaluation : 先期の評価　 (想定　段階評価のためone hot encodingに変換可能)\n",
    "- 05.number_project : プロジェクトの数\n",
    "- 06.average_montly_hours : 月々の時間の平均\n",
    "- 07.time_spend_company : 所属年度\n",
    "- 08.Work_accident : 業務中のアクシデント\n",
    "- 09.promotion_last_5years : 過去5年間の昇進\n",
    "- 10.sales : 販売(成績?) カテゴリ変数\n",
    "- 11.salary : 給料　カテゴリ変数"
   ]
  },
  {
   "cell_type": "markdown",
   "metadata": {
    "colab_type": "text",
    "id": "0Gys9bqGOVCJ"
   },
   "source": [
    "### 全体の流れ\n",
    "1. 定数の設定\n",
    "2. モジュールのインポート\n",
    "3. データセットの読み込み\n",
    "4. EDAの実施(データを知る)\n",
    "5. Preprocessing\n",
    "  1. ohe-encoding\n",
    "  2. 欠損値補完\n",
    "  3. 次元圧縮、特徴量選択\n",
    "6. 不均衡データへの対応\n",
    "7. 学習\n",
    "  1. モデル選定\n",
    "  2. パラメータチューニング\n",
    "8. スコアリングフェーズにおけるデータ処理\n",
    "9. 提出用のデータ作成"
   ]
  },
  {
   "cell_type": "markdown",
   "metadata": {
    "colab_type": "text",
    "id": "9Pp39uZxOVCJ"
   },
   "source": [
    "### 1. 定数の設定"
   ]
  },
  {
   "cell_type": "markdown",
   "metadata": {
    "colab_type": "text",
    "id": "fM-aPm3ZOVCR"
   },
   "source": [
    "### 2. モジュール類のインポート"
   ]
  },
  {
   "cell_type": "code",
   "execution_count": 1,
   "metadata": {
    "colab": {},
    "colab_type": "code",
    "id": "W9X71aNIOVCS"
   },
   "outputs": [],
   "source": [
    "# データ解析のライブラリ\n",
    "import numpy as np\n",
    "import pandas as pd\n",
    "\n",
    "# データ可視化のライブラリ\n",
    "\n",
    "# Scikit-learn\n",
    "from sklearn.model_selection import train_test_split\n",
    "from sklearn.metrics import confusion_matrix, accuracy_score\n",
    "from sklearn.naive_bayes import GaussianNB\n",
    "from sklearn.model_selection import cross_val_score, GridSearchCV\n",
    "from sklearn.preprocessing import StandardScaler\n",
    "from sklearn.pipeline import Pipeline\n",
    "\n",
    "# 学習手法\n",
    "from sklearn.neighbors import KNeighborsClassifier    # KNeighborsClassifier\n",
    "from sklearn.linear_model import LogisticRegression    # ロジスティック回帰\n",
    "from sklearn.ensemble import RandomForestClassifier    # ランダムフォーレスト\n",
    "from sklearn.tree import DecisionTreeClassifier    # 決定木\n",
    "from sklearn.svm import SVC, LinearSVC     # サポートベクターマシーン\n",
    "from sklearn.ensemble import GradientBoostingClassifier\n",
    "from sklearn.neural_network import MLPClassifier\n",
    "import xgboost as xgb    # XGBoost\n",
    "from xgboost import XGBClassifier\n",
    "\n",
    " # 指標の選択\n",
    "from ipywidgets import interact,interactive,fixed,interact_manual\n",
    "from IPython.display import display\n",
    "import ipywidgets as widgets"
   ]
  },
  {
   "cell_type": "markdown",
   "metadata": {
    "colab_type": "text",
    "id": "sF6tVIRLOVCU"
   },
   "source": [
    "### 3. データセットの読み込み"
   ]
  },
  {
   "cell_type": "code",
   "execution_count": 0,
   "metadata": {
    "colab": {},
    "colab_type": "code",
    "id": "keNuvsmKOVCK"
   },
   "outputs": [],
   "source": [
    "train_file = './data/final_hr_analysis_train.csv'\n",
    "test_file = './data/final_hr_analysis_test.csv'"
   ]
  },
  {
   "cell_type": "code",
   "execution_count": 0,
   "metadata": {
    "colab": {},
    "colab_type": "code",
    "id": "xYEMI7XMO5Dk"
   },
   "outputs": [],
   "source": [
    "submit_file = 'data/submit_Tabuchi_'+str(time.time()) +'.csv'"
   ]
  },
  {
   "cell_type": "code",
   "execution_count": 0,
   "metadata": {
    "colab": {},
    "colab_type": "code",
    "id": "wFNdOncWOi6W"
   },
   "outputs": [],
   "source": [
    "ID_column = 'index'\n",
    "ID_column_index = 1 \n",
    "target_value = 'left'\n",
    "target_value_index = 2"
   ]
  },
  {
   "cell_type": "code",
   "execution_count": 0,
   "metadata": {
    "colab": {},
    "colab_type": "code",
    "id": "r3esCyukNvth"
   },
   "outputs": [],
   "source": [
    "target_value = 'left'\n",
    "# 除外リスト\n",
    "reject_cols_from_train = ['index', target_value,]\n",
    "reject_cols_from_test  =['index']"
   ]
  },
  {
   "cell_type": "code",
   "execution_count": 0,
   "metadata": {
    "colab": {},
    "colab_type": "code",
    "id": "1u1M56LEOVCV"
   },
   "outputs": [],
   "source": [
    "# カテゴリ変数をリストで設定\n",
    "ohe_columns = ['Sales',\n",
    "               'Salary,']\n",
    "\n",
    "# カテゴリ変数をobject型で読み込むための準備\n",
    "# 型を強制的にセット\n",
    "# my_dtype = {'Sales':object,\n",
    "#           'Salary':object}\n",
    "\n",
    "my_dtype = {k: object  for k in ohe_columns}    \n",
    "\n",
    "# 表示オプションの変更\n",
    "pd.options.display.max_columns = 50"
   ]
  },
  {
   "cell_type": "code",
   "execution_count": 0,
   "metadata": {
    "colab": {},
    "colab_type": "code",
    "id": "uMvvdvCkOVCY",
    "outputId": "4c8cafd6-d6c6-4b3d-f1fb-5c9d07ae4d1a"
   },
   "outputs": [
    {
     "ename": "NameError",
     "evalue": "name 'pd' is not defined",
     "output_type": "error",
     "traceback": [
      "\u001b[0;31m---------------------------------------------------------------------------\u001b[0m",
      "\u001b[0;31mNameError\u001b[0m                                 Traceback (most recent call last)",
      "\u001b[0;32m<ipython-input-1-98d4c68cfece>\u001b[0m in \u001b[0;36m<module>\u001b[0;34m\u001b[0m\n\u001b[1;32m      1\u001b[0m \u001b[0;31m# csvファイルからの読み出し\u001b[0m\u001b[0;34m\u001b[0m\u001b[0;34m\u001b[0m\u001b[0m\n\u001b[0;32m----> 2\u001b[0;31m \u001b[0mdataset\u001b[0m \u001b[0;34m=\u001b[0m \u001b[0mpd\u001b[0m\u001b[0;34m.\u001b[0m\u001b[0mread_csv\u001b[0m\u001b[0;34m(\u001b[0m\u001b[0mtrain_file\u001b[0m\u001b[0;34m)\u001b[0m\u001b[0;34m\u001b[0m\u001b[0m\n\u001b[0m\u001b[1;32m      3\u001b[0m \u001b[0;34m\u001b[0m\u001b[0m\n\u001b[1;32m      4\u001b[0m \u001b[0mX\u001b[0m \u001b[0;34m=\u001b[0m \u001b[0mpd\u001b[0m\u001b[0;34m.\u001b[0m\u001b[0mDataFrame\u001b[0m\u001b[0;34m(\u001b[0m\u001b[0mdataset\u001b[0m\u001b[0;34m)\u001b[0m\u001b[0;34m.\u001b[0m\u001b[0mdrop\u001b[0m\u001b[0;34m(\u001b[0m\u001b[0mcolumns\u001b[0m\u001b[0;34m=\u001b[0m\u001b[0;34m[\u001b[0m\u001b[0mtarget_value\u001b[0m\u001b[0;34m,\u001b[0m \u001b[0;34m'index'\u001b[0m\u001b[0;34m]\u001b[0m\u001b[0;34m,\u001b[0m \u001b[0maxis\u001b[0m\u001b[0;34m=\u001b[0m\u001b[0;36m1\u001b[0m\u001b[0;34m)\u001b[0m\u001b[0;34m\u001b[0m\u001b[0m\n\u001b[1;32m      5\u001b[0m \u001b[0;31m# 1列目はID情報のため特徴量から削除\u001b[0m\u001b[0;34m\u001b[0m\u001b[0;34m\u001b[0m\u001b[0m\n",
      "\u001b[0;31mNameError\u001b[0m: name 'pd' is not defined"
     ]
    }
   ],
   "source": [
    "# csvファイルからの読み出し\n",
    "dataset = pd.read_csv(train_file)\n",
    "\n",
    "# 1列目はID情報のため特徴量から削除\n",
    "X = pd.DataFrame(dataset).drop(columns=reject_cols_from_train, axis=1)\n",
    "\n",
    "# pd.Series型。np.arrayとの違いは、\"各要素にindexが明示的についている\"\n",
    "y = pd.Series(dataset[target_value])\n",
    "\n",
    "# 形状の確認\n",
    "# check the shape\n",
    "print('----------------------------------------------------------------')\n",
    "print('X shape: (%i,%i)' %X.shape)\n",
    "print('----------------------------------------------------------------')\n",
    "print(y.value_counts())\n",
    "print('----------------------------------------------------------------')\n",
    "print('y=0 means 非退職,　y=1 means left(退職):')\n",
    "print('----------------------------------------------------------------')\n",
    "X.join(y).head()"
   ]
  },
  {
   "cell_type": "code",
   "execution_count": 0,
   "metadata": {
    "colab": {},
    "colab_type": "code",
    "id": "OKYRK2StOVCb",
    "outputId": "cf971f36-ca43-4f10-a05e-abffcbfe1cb4"
   },
   "outputs": [
    {
     "name": "stdout",
     "output_type": "stream",
     "text": [
      "-----------------------------------\n",
      "X shape: (891,9)\n",
      "-----------------------------------\n"
     ]
    },
    {
     "data": {
      "text/html": [
       "<div>\n",
       "<style scoped>\n",
       "    .dataframe tbody tr th:only-of-type {\n",
       "        vertical-align: middle;\n",
       "    }\n",
       "\n",
       "    .dataframe tbody tr th {\n",
       "        vertical-align: top;\n",
       "    }\n",
       "\n",
       "    .dataframe thead th {\n",
       "        text-align: right;\n",
       "    }\n",
       "</style>\n",
       "<table border=\"1\" class=\"dataframe\">\n",
       "  <thead>\n",
       "    <tr style=\"text-align: right;\">\n",
       "      <th></th>\n",
       "      <th>satisfaction_level</th>\n",
       "      <th>last_evaluation</th>\n",
       "      <th>number_project</th>\n",
       "      <th>average_montly_hours</th>\n",
       "      <th>time_spend_company</th>\n",
       "      <th>Work_accident</th>\n",
       "      <th>promotion_last_5years</th>\n",
       "      <th>sales</th>\n",
       "      <th>salary</th>\n",
       "      <th>left</th>\n",
       "    </tr>\n",
       "  </thead>\n",
       "  <tbody>\n",
       "    <tr>\n",
       "      <th>0</th>\n",
       "      <td>3</td>\n",
       "      <td>Braund, Mr. Owen Harris</td>\n",
       "      <td>male</td>\n",
       "      <td>22.0</td>\n",
       "      <td>1</td>\n",
       "      <td>0</td>\n",
       "      <td>A/5 21171</td>\n",
       "      <td>7.2500</td>\n",
       "      <td>7.2500</td>\n",
       "      <td>left</td>\n",
       "    </tr>\n",
       "    <tr>\n",
       "      <th>1</th>\n",
       "      <td>1</td>\n",
       "      <td>Cumings, Mrs. John Bradley (Florence Briggs Th...</td>\n",
       "      <td>female</td>\n",
       "      <td>38.0</td>\n",
       "      <td>1</td>\n",
       "      <td>0</td>\n",
       "      <td>PC 17599</td>\n",
       "      <td>71.2833</td>\n",
       "      <td>71.2833</td>\n",
       "      <td>NaN</td>\n",
       "    </tr>\n",
       "    <tr>\n",
       "      <th>2</th>\n",
       "      <td>3</td>\n",
       "      <td>Heikkinen, Miss. Laina</td>\n",
       "      <td>female</td>\n",
       "      <td>26.0</td>\n",
       "      <td>0</td>\n",
       "      <td>0</td>\n",
       "      <td>STON/O2. 3101282</td>\n",
       "      <td>7.9250</td>\n",
       "      <td>7.9250</td>\n",
       "      <td>NaN</td>\n",
       "    </tr>\n",
       "    <tr>\n",
       "      <th>3</th>\n",
       "      <td>1</td>\n",
       "      <td>Futrelle, Mrs. Jacques Heath (Lily May Peel)</td>\n",
       "      <td>female</td>\n",
       "      <td>35.0</td>\n",
       "      <td>1</td>\n",
       "      <td>0</td>\n",
       "      <td>113803</td>\n",
       "      <td>53.1000</td>\n",
       "      <td>53.1000</td>\n",
       "      <td>NaN</td>\n",
       "    </tr>\n",
       "    <tr>\n",
       "      <th>4</th>\n",
       "      <td>3</td>\n",
       "      <td>Allen, Mr. William Henry</td>\n",
       "      <td>male</td>\n",
       "      <td>35.0</td>\n",
       "      <td>0</td>\n",
       "      <td>0</td>\n",
       "      <td>373450</td>\n",
       "      <td>8.0500</td>\n",
       "      <td>8.0500</td>\n",
       "      <td>NaN</td>\n",
       "    </tr>\n",
       "  </tbody>\n",
       "</table>\n",
       "</div>"
      ],
      "text/plain": [
       "   satisfaction_level                                    last_evaluation  \\\n",
       "0                   3                            Braund, Mr. Owen Harris   \n",
       "1                   1  Cumings, Mrs. John Bradley (Florence Briggs Th...   \n",
       "2                   3                             Heikkinen, Miss. Laina   \n",
       "3                   1       Futrelle, Mrs. Jacques Heath (Lily May Peel)   \n",
       "4                   3                           Allen, Mr. William Henry   \n",
       "\n",
       "  number_project  average_montly_hours  time_spend_company  Work_accident  \\\n",
       "0           male                  22.0                   1              0   \n",
       "1         female                  38.0                   1              0   \n",
       "2         female                  26.0                   0              0   \n",
       "3         female                  35.0                   1              0   \n",
       "4           male                  35.0                   0              0   \n",
       "\n",
       "  promotion_last_5years    sales   salary  left  \n",
       "0             A/5 21171   7.2500   7.2500  left  \n",
       "1              PC 17599  71.2833  71.2833   NaN  \n",
       "2      STON/O2. 3101282   7.9250   7.9250   NaN  \n",
       "3                113803  53.1000  53.1000   NaN  \n",
       "4                373450   8.0500   8.0500   NaN  "
      ]
     },
     "metadata": {
      "tags": []
     },
     "output_type": "display_data"
    }
   ],
   "source": [
    "X = pd.DataFrame(dataset).drop(columns=[target_value])\n",
    "X = X.drop('index', axis = 1)    # 1列目はID情報のため特徴量から削除\n",
    "y = pd.Series(target_value , name=target_value)\n",
    "# pd.Series型。np.arrayとの違いは、\"各要素にindexが明示的についている\"\n",
    "\n",
    "# 形状の確認\n",
    "# check the shape\n",
    "print('-----------------------------------')\n",
    "print('X shape: (%i,%i)' %X.shape)\n",
    "print('-----------------------------------')\n",
    "display(X.join(y).head())"
   ]
  },
  {
   "cell_type": "markdown",
   "metadata": {
    "colab_type": "text",
    "id": "c1wBT37WOVCf"
   },
   "source": [
    "### 4. EDAの実施"
   ]
  },
  {
   "cell_type": "code",
   "execution_count": 0,
   "metadata": {
    "colab": {},
    "colab_type": "code",
    "id": "oDt1YUz6OVCf",
    "outputId": "dda26fbd-f013-4eb8-f08c-1408e5152fc3"
   },
   "outputs": [
    {
     "data": {
      "text/plain": [
       "index                      0\n",
       "left                       0\n",
       "satisfaction_level         0\n",
       "last_evaluation            0\n",
       "number_project             0\n",
       "average_montly_hours     177\n",
       "time_spend_company         0\n",
       "Work_accident              0\n",
       "promotion_last_5years      0\n",
       "sales                      0\n",
       "salary                     0\n",
       "dtype: int64"
      ]
     },
     "execution_count": 9,
     "metadata": {
      "tags": []
     },
     "output_type": "execute_result"
    }
   ],
   "source": [
    "# 欠損値の確認\n",
    "dataset.isnull().sum()"
   ]
  },
  {
   "cell_type": "code",
   "execution_count": 0,
   "metadata": {
    "colab": {},
    "colab_type": "code",
    "id": "w0yEc52HOVCi",
    "outputId": "7e934ed8-39d8-4ea3-8bb1-2e4a855e364e"
   },
   "outputs": [
    {
     "data": {
      "text/plain": [
       "index                      int64\n",
       "left                       int64\n",
       "satisfaction_level         int64\n",
       "last_evaluation           object\n",
       "number_project            object\n",
       "average_montly_hours     float64\n",
       "time_spend_company         int64\n",
       "Work_accident              int64\n",
       "promotion_last_5years     object\n",
       "sales                    float64\n",
       "salary                   float64\n",
       "dtype: object"
      ]
     },
     "execution_count": 10,
     "metadata": {
      "tags": []
     },
     "output_type": "execute_result"
    }
   ],
   "source": [
    "# 各データ型を表示\n",
    "dataset.dtypes"
   ]
  },
  {
   "cell_type": "markdown",
   "metadata": {
    "colab_type": "text",
    "id": "_wYzlPV8OVCl"
   },
   "source": [
    "### 5. データセットの作成"
   ]
  },
  {
   "cell_type": "markdown",
   "metadata": {
    "colab_type": "text",
    "id": "xWw6whVLOVCl"
   },
   "source": [
    "#### カテゴリカル変数⇒one-hotエンコード  \n",
    "選択したcolumnに対してone-hot encoding処理を行う"
   ]
  },
  {
   "cell_type": "code",
   "execution_count": 0,
   "metadata": {
    "colab": {},
    "colab_type": "code",
    "id": "M1fD1irnOVCm"
   },
   "outputs": [],
   "source": [
    "def one_hot_encoding(data, ohe_columns):\n",
    "    X_ohe = pd.get_dummies(data,\n",
    "                       dummy_na=True,\n",
    "                       columns=ohe_columns)\n",
    "    print('X_ohe shape:(%i,%i)' % X_ohe.shape)\n",
    "    X_ohe.head()\n",
    "    \n",
    "one_hot_encoding(X, ohe_columns)"
   ]
  },
  {
   "cell_type": "markdown",
   "metadata": {
    "colab_type": "text",
    "id": "u1ESpb74OVCo"
   },
   "source": [
    "モデル用データの前処理：数値変数の欠損値対応"
   ]
  },
  {
   "cell_type": "code",
   "execution_count": 0,
   "metadata": {
    "colab": {},
    "colab_type": "code",
    "id": "5jBz4TezOVCp"
   },
   "outputs": [],
   "source": [
    "from sklearn.impute import SimpleImputer\n",
    "\n",
    "imp = SimpleImputer()\n",
    "imp.fit(X_ohe)\n",
    "\n",
    "X_ohe_columns = X_ohe.columns.values\n",
    "X_ohe = pd.DataFrame(imp.transform(X_ohe), columns=X_ohe_columns)\n",
    "\n",
    "X_ohe.head()"
   ]
  },
  {
   "cell_type": "markdown",
   "metadata": {
    "colab_type": "text",
    "id": "im_fBZmIOVCs"
   },
   "source": [
    "モデル用データの前処理：次元圧縮（特徴量選択）  \n",
    "RFEによる特徴量選択を実施します。"
   ]
  },
  {
   "cell_type": "code",
   "execution_count": 0,
   "metadata": {
    "colab": {},
    "colab_type": "code",
    "id": "7zVCpg4-OVCs"
   },
   "outputs": [],
   "source": [
    "from sklearn.feature_selection import RFE\n",
    "from sklearn.ensemble import RandomForestClassifier\n",
    "\n",
    "selector = RFE(RandomForestClassifier(n_estimators=100, random_state=1),\n",
    "               n_features_to_select=10,\n",
    "               step=.05)\n",
    "\n",
    "selector.fit(X_ohe,y)\n",
    "\n",
    "X_fin = X_ohe.loc[:, X_ohe_columns[selector.support_]]\n",
    "print('X_fin shape:(%i,%i)' % X_fin.shape)\n",
    "X_fin.head()"
   ]
  },
  {
   "cell_type": "markdown",
   "metadata": {
    "colab_type": "text",
    "id": "JIWn4vQbOVCv"
   },
   "source": [
    "#### columnの選択\n",
    "(参考)\n",
    "https://drillan.github.io/articles/jupyterbook_reject03a.html"
   ]
  },
  {
   "cell_type": "code",
   "execution_count": 0,
   "metadata": {
    "colab": {
     "referenced_widgets": [
      "a7a1d95d4faf4d92b12d2696f0603914"
     ]
    },
    "colab_type": "code",
    "id": "pKiBY4raOVCw",
    "outputId": "d4cdd08c-ba28-4f51-c802-dfc32c86f994"
   },
   "outputs": [
    {
     "data": {
      "application/vnd.jupyter.widget-view+json": {
       "model_id": "a7a1d95d4faf4d92b12d2696f0603914",
       "version_major": 2,
       "version_minor": 0
      },
      "text/plain": [
       "RadioButtons(options=('index', 'left', 'satisfaction_level', 'last_evaluation', 'number_project', 'average_mon…"
      ]
     },
     "metadata": {
      "tags": []
     },
     "output_type": "display_data"
    }
   ],
   "source": [
    "def get_answer(x):\n",
    "    return x\n",
    "\n",
    "convert_column = get_answer(widgets.RadioButtons(options=dataset.columns.values))\n",
    "display(convert_column)"
   ]
  },
  {
   "cell_type": "code",
   "execution_count": 0,
   "metadata": {
    "colab": {},
    "colab_type": "code",
    "id": "f99AckoHOVC2",
    "outputId": "38066123-1502-4e80-9104-1fbcb274f7f0"
   },
   "outputs": [
    {
     "name": "stdout",
     "output_type": "stream",
     "text": [
      "index\n"
     ]
    }
   ],
   "source": [
    "ohe_column = convert_column.value\n",
    "print(ohe_column)"
   ]
  },
  {
   "cell_type": "markdown",
   "metadata": {
    "colab_type": "text",
    "id": "TDU97FOEOVC5"
   },
   "source": [
    "### 4. Pipelineの設定"
   ]
  },
  {
   "cell_type": "code",
   "execution_count": 0,
   "metadata": {
    "colab": {},
    "colab_type": "code",
    "id": "TKeIgMsROVC5"
   },
   "outputs": [],
   "source": [
    "# set pipelines for different algorithms\n",
    "pipelines = {\n",
    "    # knn\n",
    "    'knn':\n",
    "        Pipeline([('scl',StandardScaler()),\n",
    "                  ('est',KNeighborsClassifier())]),\n",
    "    # ロジスティック回帰\n",
    "    'logistic':\n",
    "        Pipeline([('scl',StandardScaler()),\n",
    "                  ('est',LogisticRegression(random_state=1))]),\n",
    "    'rsvc':\n",
    "        Pipeline([('scl',StandardScaler()),\n",
    "                  ('est',SVC(C=1.0, kernel='rbf', class_weight='balanced', random_state=1))]),\n",
    "    'lsvc':\n",
    "        Pipeline([('scl',StandardScaler()),\n",
    "                  ('est',LinearSVC(C=1.0, class_weight='balanced', random_state=1))]),\n",
    "    'tree':\n",
    "        Pipeline([('scl',StandardScaler()),\n",
    "                  ('est',DecisionTreeClassifier(random_state=1))]),\n",
    "    'rf':\n",
    "        Pipeline([('scl',StandardScaler()),\n",
    "                  ('est',RandomForestClassifier(random_state=1))]),\n",
    "    'gb':\n",
    "        Pipeline([('scl',StandardScaler()),\n",
    "                  ('est',GradientBoostingClassifier(random_state=1))]),\n",
    "    'mlp':\n",
    "        Pipeline([('scl',StandardScaler()),\n",
    "                  ('est',MLPClassifier(hidden_layer_sizes=(3,3),\n",
    "                                       max_iter=1000,\n",
    "                                       random_state=1))]),\n",
    "    'xgb':\n",
    "        Pipeline([('scl',StandardScaler()),\n",
    "                  ('est',MLPClassifier(hidden_layer_sizes=(3,3),\n",
    "                                       max_iter=1000,\n",
    "                                       random_state=1))]),\n",
    "}"
   ]
  },
  {
   "cell_type": "code",
   "execution_count": 0,
   "metadata": {
    "colab": {},
    "colab_type": "code",
    "id": "WFgeNJ0uOVC8",
    "outputId": "5e67caa3-0c2e-4fe0-e42d-0cc8cf74f249"
   },
   "outputs": [
    {
     "data": {
      "text/plain": [
       "dict_keys(['knn', 'logistic', 'rsvc', 'lsvc', 'tree', 'rf', 'gb', 'mlp', 'xgb'])"
      ]
     },
     "execution_count": 16,
     "metadata": {
      "tags": []
     },
     "output_type": "execute_result"
    }
   ],
   "source": [
    "pipelines.keys()"
   ]
  },
  {
   "cell_type": "markdown",
   "metadata": {
    "colab_type": "text",
    "id": "gCROa-kFOVC_"
   },
   "source": [
    "## 5. 学習、評価"
   ]
  },
  {
   "cell_type": "code",
   "execution_count": 0,
   "metadata": {
    "colab": {},
    "colab_type": "code",
    "id": "-aieykI8OVC_"
   },
   "outputs": [],
   "source": [
    "# 学習、評価\n",
    "scores = {}\n",
    "for pipe_name, pipeline in pipelines.items():\n",
    "    pipeline.fit(X_train, y_train)\n",
    "    scores[(pipe_name,'train')] = accuracy_score(y_train, pipeline.predict(X_train))\n",
    "    # scores[(pipe_name,'test')] = accuracy_score(y_test, pipeline.predict(X_test))\n",
    "\n",
    "pd.Series(scores).unstack()"
   ]
  },
  {
   "cell_type": "code",
   "execution_count": 0,
   "metadata": {
    "colab": {},
    "colab_type": "code",
    "id": "BnziBwFQOVDC"
   },
   "outputs": [],
   "source": [
    "# Loan screening test data for classification \n",
    "df_s = pd.read_csv('./data/av_loan_test_Y3wMUE5_7gLdaTN.csv',\n",
    "                   header=0,\n",
    "                   dtype=my_dtype)    # my_dtypeを指定する\n",
    "\n",
    "ID_s = df_s.iloc[:,[0]]            # 第0列はPK（Loan_ID）なのでIDとしてセット\n",
    "X_s  = df_s.drop('Loan_ID',axis=1) # Loan_IDは特徴ベクトルから削除"
   ]
  },
  {
   "cell_type": "markdown",
   "metadata": {
    "colab_type": "text",
    "id": "HmM_MFXUOVDE"
   },
   "source": [
    "### スコアリング処理(テストデータの前処理)"
   ]
  },
  {
   "cell_type": "code",
   "execution_count": 0,
   "metadata": {
    "colab": {},
    "colab_type": "code",
    "id": "mQUHXWz3OVDE",
    "outputId": "d875d912-aef5-4d6d-bcda-2f84b46f4a3d"
   },
   "outputs": [
    {
     "name": "stdout",
     "output_type": "stream",
     "text": [
      "-----------------------------------\n",
      "X_test shape: (418,9)\n",
      "-----------------------------------\n"
     ]
    },
    {
     "data": {
      "text/html": [
       "<div>\n",
       "<style scoped>\n",
       "    .dataframe tbody tr th:only-of-type {\n",
       "        vertical-align: middle;\n",
       "    }\n",
       "\n",
       "    .dataframe tbody tr th {\n",
       "        vertical-align: top;\n",
       "    }\n",
       "\n",
       "    .dataframe thead th {\n",
       "        text-align: right;\n",
       "    }\n",
       "</style>\n",
       "<table border=\"1\" class=\"dataframe\">\n",
       "  <thead>\n",
       "    <tr style=\"text-align: right;\">\n",
       "      <th></th>\n",
       "      <th>satisfaction_level</th>\n",
       "      <th>last_evaluation</th>\n",
       "      <th>number_project</th>\n",
       "      <th>average_montly_hours</th>\n",
       "      <th>time_spend_company</th>\n",
       "      <th>Work_accident</th>\n",
       "      <th>promotion_last_5years</th>\n",
       "      <th>sales</th>\n",
       "      <th>salary</th>\n",
       "    </tr>\n",
       "  </thead>\n",
       "  <tbody>\n",
       "    <tr>\n",
       "      <th>0</th>\n",
       "      <td>Kelly, Mr. James</td>\n",
       "      <td>male</td>\n",
       "      <td>34.5</td>\n",
       "      <td>0</td>\n",
       "      <td>0</td>\n",
       "      <td>330911</td>\n",
       "      <td>7.8292</td>\n",
       "      <td>NaN</td>\n",
       "      <td>Q</td>\n",
       "    </tr>\n",
       "    <tr>\n",
       "      <th>1</th>\n",
       "      <td>Wilkes, Mrs. James (Ellen Needs)</td>\n",
       "      <td>female</td>\n",
       "      <td>47.0</td>\n",
       "      <td>1</td>\n",
       "      <td>0</td>\n",
       "      <td>363272</td>\n",
       "      <td>7.0000</td>\n",
       "      <td>NaN</td>\n",
       "      <td>S</td>\n",
       "    </tr>\n",
       "    <tr>\n",
       "      <th>2</th>\n",
       "      <td>Myles, Mr. Thomas Francis</td>\n",
       "      <td>male</td>\n",
       "      <td>62.0</td>\n",
       "      <td>0</td>\n",
       "      <td>0</td>\n",
       "      <td>240276</td>\n",
       "      <td>9.6875</td>\n",
       "      <td>NaN</td>\n",
       "      <td>Q</td>\n",
       "    </tr>\n",
       "    <tr>\n",
       "      <th>3</th>\n",
       "      <td>Wirz, Mr. Albert</td>\n",
       "      <td>male</td>\n",
       "      <td>27.0</td>\n",
       "      <td>0</td>\n",
       "      <td>0</td>\n",
       "      <td>315154</td>\n",
       "      <td>8.6625</td>\n",
       "      <td>NaN</td>\n",
       "      <td>S</td>\n",
       "    </tr>\n",
       "    <tr>\n",
       "      <th>4</th>\n",
       "      <td>Hirvonen, Mrs. Alexander (Helga E Lindqvist)</td>\n",
       "      <td>female</td>\n",
       "      <td>22.0</td>\n",
       "      <td>1</td>\n",
       "      <td>1</td>\n",
       "      <td>3101298</td>\n",
       "      <td>12.2875</td>\n",
       "      <td>NaN</td>\n",
       "      <td>S</td>\n",
       "    </tr>\n",
       "  </tbody>\n",
       "</table>\n",
       "</div>"
      ],
      "text/plain": [
       "                             satisfaction_level last_evaluation  \\\n",
       "0                              Kelly, Mr. James            male   \n",
       "1              Wilkes, Mrs. James (Ellen Needs)          female   \n",
       "2                     Myles, Mr. Thomas Francis            male   \n",
       "3                              Wirz, Mr. Albert            male   \n",
       "4  Hirvonen, Mrs. Alexander (Helga E Lindqvist)          female   \n",
       "\n",
       "   number_project  average_montly_hours  time_spend_company Work_accident  \\\n",
       "0            34.5                     0                   0        330911   \n",
       "1            47.0                     1                   0        363272   \n",
       "2            62.0                     0                   0        240276   \n",
       "3            27.0                     0                   0        315154   \n",
       "4            22.0                     1                   1       3101298   \n",
       "\n",
       "   promotion_last_5years sales salary  \n",
       "0                 7.8292   NaN      Q  \n",
       "1                 7.0000   NaN      S  \n",
       "2                 9.6875   NaN      Q  \n",
       "3                 8.6625   NaN      S  \n",
       "4                12.2875   NaN      S  "
      ]
     },
     "execution_count": 48,
     "metadata": {
      "tags": []
     },
     "output_type": "execute_result"
    }
   ],
   "source": [
    "# csvファイルからの読み出し\n",
    "test_dataset = pd.read_csv(test_file,\n",
    "                          header=0,\n",
    "                          dtype=my_dtype)\n",
    "\n",
    "X_test = test_dataset.drop(columns=['index'], axis=1)\n",
    "# 1列目はID情報のため特徴量から削除\n",
    "\n",
    "\n",
    "# 形状の確認\n",
    "# check the shape\n",
    "print('-----------------------------------')\n",
    "print('X_test shape: (%i,%i)' %X_test.shape)\n",
    "print('-----------------------------------')\n",
    "\n",
    "X_test.head()"
   ]
  },
  {
   "cell_type": "code",
   "execution_count": 0,
   "metadata": {
    "colab": {},
    "colab_type": "code",
    "id": "D6QtcGn1OVDG"
   },
   "outputs": [],
   "source": []
  },
  {
   "cell_type": "code",
   "execution_count": 0,
   "metadata": {
    "colab": {},
    "colab_type": "code",
    "id": "oxDKZcTMOVDI"
   },
   "outputs": [],
   "source": [
    "test = pd.DataFrame({'index':test_dataset['index']})\n",
    "# indexを'index'列の値にする\n",
    "test = test.set_index('index')\n",
    "test.to_csv('test.csv')"
   ]
  },
  {
   "cell_type": "markdown",
   "metadata": {
    "colab_type": "text",
    "id": "NOP6ZDaROVDL"
   },
   "source": [
    "### モデルの決定"
   ]
  },
  {
   "cell_type": "code",
   "execution_count": 0,
   "metadata": {
    "colab": {},
    "colab_type": "code",
    "id": "8aKApxfyOVDL"
   },
   "outputs": [],
   "source": [
    "models = get_answer(widgets.RadioButtons(options=pipelines.keys()))\n",
    "display(models)"
   ]
  },
  {
   "cell_type": "code",
   "execution_count": 0,
   "metadata": {
    "colab": {},
    "colab_type": "code",
    "id": "8CzX3tRHOVDN"
   },
   "outputs": [],
   "source": [
    "selected_model = models.value\n",
    "print(selected_model)"
   ]
  },
  {
   "cell_type": "code",
   "execution_count": 0,
   "metadata": {
    "colab": {},
    "colab_type": "code",
    "id": "nlwFJICROVDQ"
   },
   "outputs": [],
   "source": [
    "pipelines[selected_model]"
   ]
  },
  {
   "cell_type": "markdown",
   "metadata": {
    "colab_type": "text",
    "id": "5Bhs4d_aOVDW"
   },
   "source": [
    "### 推論"
   ]
  },
  {
   "cell_type": "code",
   "execution_count": 0,
   "metadata": {
    "colab": {},
    "colab_type": "code",
    "id": "oz5XxSSBOVDW"
   },
   "outputs": [],
   "source": [
    "model = pipelines[selected_model]\n",
    "y_pred = model.predict(X_test)"
   ]
  },
  {
   "cell_type": "code",
   "execution_count": 0,
   "metadata": {
    "colab": {},
    "colab_type": "code",
    "id": "VToiR3DMOVDY"
   },
   "outputs": [],
   "source": [
    "y_pred = model.predict(X_test)"
   ]
  },
  {
   "cell_type": "markdown",
   "metadata": {
    "colab_type": "text",
    "id": "1u2iOIJPOVDa"
   },
   "source": [
    "### 提出用CSVファイルへの書き出し"
   ]
  },
  {
   "cell_type": "code",
   "execution_count": 0,
   "metadata": {
    "colab": {},
    "colab_type": "code",
    "id": "2_KcMMmaOVDb"
   },
   "outputs": [],
   "source": [
    "my_result = pd.Dataframe({'index':test_dataset['index'], 'left':y_pred})\n",
    "my_resut = my_result.set_index('index')\n",
    "my_result.to_csv('submit_tabuchi.csv')"
   ]
  }
 ],
 "metadata": {
  "colab": {
   "collapsed_sections": [],
   "name": "My Automated ML.ipynb",
   "provenance": []
  },
  "kernelspec": {
   "display_name": "Python 3",
   "language": "python",
   "name": "python3"
  },
  "language_info": {
   "codemirror_mode": {
    "name": "ipython",
    "version": 3
   },
   "file_extension": ".py",
   "mimetype": "text/x-python",
   "name": "python",
   "nbconvert_exporter": "python",
   "pygments_lexer": "ipython3",
   "version": "3.7.7"
  }
 },
 "nbformat": 4,
 "nbformat_minor": 1
}
